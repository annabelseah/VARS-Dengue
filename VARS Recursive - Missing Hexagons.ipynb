{
 "cells": [
  {
   "cell_type": "code",
   "execution_count": 5,
   "metadata": {},
   "outputs": [],
   "source": [
    "import pandas as pd\n",
    "import geopandas as gpd"
   ]
  },
  {
   "cell_type": "markdown",
   "metadata": {},
   "source": [
    "### Hexagons"
   ]
  },
  {
   "cell_type": "code",
   "execution_count": 6,
   "metadata": {},
   "outputs": [
    {
     "data": {
      "text/plain": [
       "<Geographic 2D CRS: EPSG:4757>\n",
       "Name: SVY21\n",
       "Axis Info [ellipsoidal]:\n",
       "- Lat[north]: Geodetic latitude (degree)\n",
       "- Lon[east]: Geodetic longitude (degree)\n",
       "Area of Use:\n",
       "- name: Singapore\n",
       "- bounds: (103.59, 1.13, 104.07, 1.47)\n",
       "Datum: SVY21\n",
       "- Ellipsoid: WGS 84\n",
       "- Prime Meridian: Greenwich"
      ]
     },
     "execution_count": 6,
     "metadata": {},
     "output_type": "execute_result"
    }
   ],
   "source": [
    "hexagon_path = r\"C:\\Users\\User\\Documents\\EHI\\Projects\\VAR Modelling\\Data Mgmt\\hexagons\\hexagons.shp\"\n",
    "hexagons_layer = gpd.read_file(hexagon_path)\n",
    "hexagons_layer.crs"
   ]
  },
  {
   "cell_type": "code",
   "execution_count": 7,
   "metadata": {},
   "outputs": [
    {
     "name": "stdout",
     "output_type": "stream",
     "text": [
      "<class 'geopandas.geodataframe.GeoDataFrame'>\n",
      "RangeIndex: 4083 entries, 0 to 4082\n",
      "Data columns (total 11 columns):\n",
      " #   Column      Non-Null Count  Dtype   \n",
      "---  ------      --------------  -----   \n",
      " 0   OBJECTID    4083 non-null   int64   \n",
      " 1   TARGET_FID  4083 non-null   int64   \n",
      " 2   centroid    4083 non-null   object  \n",
      " 3   cell_id     4083 non-null   object  \n",
      " 4   friendly_n  4083 non-null   object  \n",
      " 5   Shape_Leng  4083 non-null   float64 \n",
      " 6   Shape_Area  4083 non-null   float64 \n",
      " 7   cell_id_1   4083 non-null   int64   \n",
      " 8   X           4082 non-null   float64 \n",
      " 9   Y           4082 non-null   float64 \n",
      " 10  geometry    4082 non-null   geometry\n",
      "dtypes: float64(4), geometry(1), int64(3), object(3)\n",
      "memory usage: 351.0+ KB\n"
     ]
    }
   ],
   "source": [
    "hexagons_layer.info()"
   ]
  },
  {
   "cell_type": "code",
   "execution_count": 8,
   "metadata": {},
   "outputs": [
    {
     "data": {
      "text/html": [
       "<div>\n",
       "<style scoped>\n",
       "    .dataframe tbody tr th:only-of-type {\n",
       "        vertical-align: middle;\n",
       "    }\n",
       "\n",
       "    .dataframe tbody tr th {\n",
       "        vertical-align: top;\n",
       "    }\n",
       "\n",
       "    .dataframe thead th {\n",
       "        text-align: right;\n",
       "    }\n",
       "</style>\n",
       "<table border=\"1\" class=\"dataframe\">\n",
       "  <thead>\n",
       "    <tr style=\"text-align: right;\">\n",
       "      <th></th>\n",
       "      <th>OBJECTID</th>\n",
       "      <th>TARGET_FID</th>\n",
       "      <th>centroid</th>\n",
       "      <th>cell_id</th>\n",
       "      <th>friendly_n</th>\n",
       "      <th>Shape_Leng</th>\n",
       "      <th>Shape_Area</th>\n",
       "      <th>cell_id_1</th>\n",
       "      <th>X</th>\n",
       "      <th>Y</th>\n",
       "      <th>geometry</th>\n",
       "    </tr>\n",
       "  </thead>\n",
       "  <tbody>\n",
       "    <tr>\n",
       "      <th>0</th>\n",
       "      <td>1</td>\n",
       "      <td>0</td>\n",
       "      <td>{ \"type\": \"Point\", \"coordinates\": [ 103.674855...</td>\n",
       "      <td>463</td>\n",
       "      <td>GUL BASIN</td>\n",
       "      <td>0.016238</td>\n",
       "      <td>0.000019</td>\n",
       "      <td>463</td>\n",
       "      <td>103.675</td>\n",
       "      <td>0.0</td>\n",
       "      <td>POLYGON ((103.67216 1.29272, 103.67351 1.29507...</td>\n",
       "    </tr>\n",
       "    <tr>\n",
       "      <th>1</th>\n",
       "      <td>2</td>\n",
       "      <td>1</td>\n",
       "      <td>{ \"type\": \"Point\", \"coordinates\": [ 103.678899...</td>\n",
       "      <td>514</td>\n",
       "      <td>SAFTI</td>\n",
       "      <td>0.016238</td>\n",
       "      <td>0.000019</td>\n",
       "      <td>514</td>\n",
       "      <td>103.679</td>\n",
       "      <td>0.0</td>\n",
       "      <td>POLYGON ((103.67620 1.33270, 103.67755 1.33505...</td>\n",
       "    </tr>\n",
       "    <tr>\n",
       "      <th>2</th>\n",
       "      <td>3</td>\n",
       "      <td>2</td>\n",
       "      <td>{ \"type\": \"Point\", \"coordinates\": [ 103.691040...</td>\n",
       "      <td>634</td>\n",
       "      <td>SHIPYARD</td>\n",
       "      <td>0.016238</td>\n",
       "      <td>0.000019</td>\n",
       "      <td>634</td>\n",
       "      <td>103.691</td>\n",
       "      <td>0.0</td>\n",
       "      <td>POLYGON ((103.68834 1.30213, 103.68969 1.30448...</td>\n",
       "    </tr>\n",
       "    <tr>\n",
       "      <th>3</th>\n",
       "      <td>4</td>\n",
       "      <td>3</td>\n",
       "      <td>{ \"type\": \"Point\", \"coordinates\": [ 103.840759...</td>\n",
       "      <td>2410</td>\n",
       "      <td>OXLEY</td>\n",
       "      <td>0.016238</td>\n",
       "      <td>0.000019</td>\n",
       "      <td>2410</td>\n",
       "      <td>103.841</td>\n",
       "      <td>0.0</td>\n",
       "      <td>POLYGON ((103.83806 1.29508, 103.83941 1.29743...</td>\n",
       "    </tr>\n",
       "    <tr>\n",
       "      <th>4</th>\n",
       "      <td>5</td>\n",
       "      <td>4</td>\n",
       "      <td>{ \"type\": \"Point\", \"coordinates\": [ 104.018803...</td>\n",
       "      <td>3717</td>\n",
       "      <td>CHANGI BAY</td>\n",
       "      <td>0.016238</td>\n",
       "      <td>0.000019</td>\n",
       "      <td>3717</td>\n",
       "      <td>104.019</td>\n",
       "      <td>0.0</td>\n",
       "      <td>POLYGON ((104.01611 1.31388, 104.01745 1.31623...</td>\n",
       "    </tr>\n",
       "  </tbody>\n",
       "</table>\n",
       "</div>"
      ],
      "text/plain": [
       "   OBJECTID  TARGET_FID                                           centroid  \\\n",
       "0         1           0  { \"type\": \"Point\", \"coordinates\": [ 103.674855...   \n",
       "1         2           1  { \"type\": \"Point\", \"coordinates\": [ 103.678899...   \n",
       "2         3           2  { \"type\": \"Point\", \"coordinates\": [ 103.691040...   \n",
       "3         4           3  { \"type\": \"Point\", \"coordinates\": [ 103.840759...   \n",
       "4         5           4  { \"type\": \"Point\", \"coordinates\": [ 104.018803...   \n",
       "\n",
       "  cell_id  friendly_n  Shape_Leng  Shape_Area  cell_id_1        X    Y  \\\n",
       "0     463   GUL BASIN    0.016238    0.000019        463  103.675  0.0   \n",
       "1     514       SAFTI    0.016238    0.000019        514  103.679  0.0   \n",
       "2     634    SHIPYARD    0.016238    0.000019        634  103.691  0.0   \n",
       "3    2410       OXLEY    0.016238    0.000019       2410  103.841  0.0   \n",
       "4    3717  CHANGI BAY    0.016238    0.000019       3717  104.019  0.0   \n",
       "\n",
       "                                            geometry  \n",
       "0  POLYGON ((103.67216 1.29272, 103.67351 1.29507...  \n",
       "1  POLYGON ((103.67620 1.33270, 103.67755 1.33505...  \n",
       "2  POLYGON ((103.68834 1.30213, 103.68969 1.30448...  \n",
       "3  POLYGON ((103.83806 1.29508, 103.83941 1.29743...  \n",
       "4  POLYGON ((104.01611 1.31388, 104.01745 1.31623...  "
      ]
     },
     "execution_count": 8,
     "metadata": {},
     "output_type": "execute_result"
    }
   ],
   "source": [
    "hexagons_layer.head()"
   ]
  },
  {
   "cell_type": "code",
   "execution_count": 9,
   "metadata": {},
   "outputs": [],
   "source": [
    "hexagons_layer[\"cell_id\"]=pd.to_numeric(hexagons_layer[\"cell_id\"])"
   ]
  },
  {
   "cell_type": "markdown",
   "metadata": {},
   "source": [
    "### Dengue Data 2013-2020"
   ]
  },
  {
   "cell_type": "code",
   "execution_count": 10,
   "metadata": {},
   "outputs": [],
   "source": [
    "dengue_path =r\"C:\\Users\\User\\Documents\\EHI\\Projects\\VAR Modelling\\VAR Analysis\\gpd_grpby_pivot.csv\"\n",
    "dengue_df= pd.read_csv(dengue_path)"
   ]
  },
  {
   "cell_type": "code",
   "execution_count": 11,
   "metadata": {},
   "outputs": [],
   "source": [
    "dengue_df.fillna(0,inplace=True)"
   ]
  },
  {
   "cell_type": "code",
   "execution_count": 12,
   "metadata": {},
   "outputs": [],
   "source": [
    "dengue_df = dengue_df[dengue_df[\"Onset_EYear\"]>=2013].reset_index(drop=True)"
   ]
  },
  {
   "cell_type": "code",
   "execution_count": 13,
   "metadata": {},
   "outputs": [
    {
     "data": {
      "text/html": [
       "<div>\n",
       "<style scoped>\n",
       "    .dataframe tbody tr th:only-of-type {\n",
       "        vertical-align: middle;\n",
       "    }\n",
       "\n",
       "    .dataframe tbody tr th {\n",
       "        vertical-align: top;\n",
       "    }\n",
       "\n",
       "    .dataframe thead th {\n",
       "        text-align: right;\n",
       "    }\n",
       "</style>\n",
       "<table border=\"1\" class=\"dataframe\">\n",
       "  <thead>\n",
       "    <tr style=\"text-align: right;\">\n",
       "      <th></th>\n",
       "      <th>Onset_EYear</th>\n",
       "      <th>Onset_EWeek</th>\n",
       "      <th>100</th>\n",
       "      <th>101</th>\n",
       "      <th>1015</th>\n",
       "      <th>1016</th>\n",
       "      <th>1018</th>\n",
       "      <th>1019</th>\n",
       "      <th>102</th>\n",
       "      <th>1020</th>\n",
       "      <th>...</th>\n",
       "      <th>97</th>\n",
       "      <th>970</th>\n",
       "      <th>974</th>\n",
       "      <th>975</th>\n",
       "      <th>976</th>\n",
       "      <th>98</th>\n",
       "      <th>982</th>\n",
       "      <th>988</th>\n",
       "      <th>989</th>\n",
       "      <th>99</th>\n",
       "    </tr>\n",
       "  </thead>\n",
       "  <tbody>\n",
       "    <tr>\n",
       "      <th>0</th>\n",
       "      <td>2013</td>\n",
       "      <td>1</td>\n",
       "      <td>0.0</td>\n",
       "      <td>0.0</td>\n",
       "      <td>0.0</td>\n",
       "      <td>0.0</td>\n",
       "      <td>0.0</td>\n",
       "      <td>0.0</td>\n",
       "      <td>0.0</td>\n",
       "      <td>0.0</td>\n",
       "      <td>...</td>\n",
       "      <td>0.0</td>\n",
       "      <td>0.0</td>\n",
       "      <td>0.0</td>\n",
       "      <td>0.0</td>\n",
       "      <td>0.0</td>\n",
       "      <td>0.0</td>\n",
       "      <td>0.0</td>\n",
       "      <td>0.0</td>\n",
       "      <td>0.0</td>\n",
       "      <td>0.0</td>\n",
       "    </tr>\n",
       "    <tr>\n",
       "      <th>1</th>\n",
       "      <td>2013</td>\n",
       "      <td>2</td>\n",
       "      <td>0.0</td>\n",
       "      <td>0.0</td>\n",
       "      <td>0.0</td>\n",
       "      <td>0.0</td>\n",
       "      <td>0.0</td>\n",
       "      <td>0.0</td>\n",
       "      <td>0.0</td>\n",
       "      <td>0.0</td>\n",
       "      <td>...</td>\n",
       "      <td>0.0</td>\n",
       "      <td>0.0</td>\n",
       "      <td>0.0</td>\n",
       "      <td>0.0</td>\n",
       "      <td>0.0</td>\n",
       "      <td>0.0</td>\n",
       "      <td>0.0</td>\n",
       "      <td>0.0</td>\n",
       "      <td>0.0</td>\n",
       "      <td>0.0</td>\n",
       "    </tr>\n",
       "    <tr>\n",
       "      <th>2</th>\n",
       "      <td>2013</td>\n",
       "      <td>3</td>\n",
       "      <td>0.0</td>\n",
       "      <td>0.0</td>\n",
       "      <td>0.0</td>\n",
       "      <td>0.0</td>\n",
       "      <td>0.0</td>\n",
       "      <td>0.0</td>\n",
       "      <td>0.0</td>\n",
       "      <td>0.0</td>\n",
       "      <td>...</td>\n",
       "      <td>0.0</td>\n",
       "      <td>0.0</td>\n",
       "      <td>0.0</td>\n",
       "      <td>0.0</td>\n",
       "      <td>0.0</td>\n",
       "      <td>0.0</td>\n",
       "      <td>0.0</td>\n",
       "      <td>0.0</td>\n",
       "      <td>0.0</td>\n",
       "      <td>0.0</td>\n",
       "    </tr>\n",
       "    <tr>\n",
       "      <th>3</th>\n",
       "      <td>2013</td>\n",
       "      <td>4</td>\n",
       "      <td>0.0</td>\n",
       "      <td>0.0</td>\n",
       "      <td>0.0</td>\n",
       "      <td>0.0</td>\n",
       "      <td>0.0</td>\n",
       "      <td>0.0</td>\n",
       "      <td>0.0</td>\n",
       "      <td>0.0</td>\n",
       "      <td>...</td>\n",
       "      <td>0.0</td>\n",
       "      <td>0.0</td>\n",
       "      <td>0.0</td>\n",
       "      <td>0.0</td>\n",
       "      <td>0.0</td>\n",
       "      <td>0.0</td>\n",
       "      <td>0.0</td>\n",
       "      <td>0.0</td>\n",
       "      <td>0.0</td>\n",
       "      <td>0.0</td>\n",
       "    </tr>\n",
       "    <tr>\n",
       "      <th>4</th>\n",
       "      <td>2013</td>\n",
       "      <td>5</td>\n",
       "      <td>0.0</td>\n",
       "      <td>0.0</td>\n",
       "      <td>0.0</td>\n",
       "      <td>0.0</td>\n",
       "      <td>0.0</td>\n",
       "      <td>0.0</td>\n",
       "      <td>0.0</td>\n",
       "      <td>0.0</td>\n",
       "      <td>...</td>\n",
       "      <td>0.0</td>\n",
       "      <td>0.0</td>\n",
       "      <td>0.0</td>\n",
       "      <td>0.0</td>\n",
       "      <td>0.0</td>\n",
       "      <td>0.0</td>\n",
       "      <td>0.0</td>\n",
       "      <td>0.0</td>\n",
       "      <td>0.0</td>\n",
       "      <td>0.0</td>\n",
       "    </tr>\n",
       "  </tbody>\n",
       "</table>\n",
       "<p>5 rows × 1565 columns</p>\n",
       "</div>"
      ],
      "text/plain": [
       "   Onset_EYear  Onset_EWeek  100  101  1015  1016  1018  1019  102  1020  ...  \\\n",
       "0         2013            1  0.0  0.0   0.0   0.0   0.0   0.0  0.0   0.0  ...   \n",
       "1         2013            2  0.0  0.0   0.0   0.0   0.0   0.0  0.0   0.0  ...   \n",
       "2         2013            3  0.0  0.0   0.0   0.0   0.0   0.0  0.0   0.0  ...   \n",
       "3         2013            4  0.0  0.0   0.0   0.0   0.0   0.0  0.0   0.0  ...   \n",
       "4         2013            5  0.0  0.0   0.0   0.0   0.0   0.0  0.0   0.0  ...   \n",
       "\n",
       "    97  970  974  975  976   98  982  988  989   99  \n",
       "0  0.0  0.0  0.0  0.0  0.0  0.0  0.0  0.0  0.0  0.0  \n",
       "1  0.0  0.0  0.0  0.0  0.0  0.0  0.0  0.0  0.0  0.0  \n",
       "2  0.0  0.0  0.0  0.0  0.0  0.0  0.0  0.0  0.0  0.0  \n",
       "3  0.0  0.0  0.0  0.0  0.0  0.0  0.0  0.0  0.0  0.0  \n",
       "4  0.0  0.0  0.0  0.0  0.0  0.0  0.0  0.0  0.0  0.0  \n",
       "\n",
       "[5 rows x 1565 columns]"
      ]
     },
     "execution_count": 13,
     "metadata": {},
     "output_type": "execute_result"
    }
   ],
   "source": [
    "dengue_df.head()"
   ]
  },
  {
   "cell_type": "markdown",
   "metadata": {},
   "source": [
    "### Missing Recursive Hexagons"
   ]
  },
  {
   "cell_type": "code",
   "execution_count": 14,
   "metadata": {},
   "outputs": [],
   "source": [
    "missing_path = r\"C:\\Users\\User\\Documents\\EHI\\Projects\\VAR Modelling\\VAR Analysis\\missing.hexagons.inspect.vars.recursive.csv\""
   ]
  },
  {
   "cell_type": "code",
   "execution_count": 15,
   "metadata": {},
   "outputs": [],
   "source": [
    "missing_df = pd.read_csv(missing_path)"
   ]
  },
  {
   "cell_type": "code",
   "execution_count": 16,
   "metadata": {},
   "outputs": [
    {
     "data": {
      "text/html": [
       "<div>\n",
       "<style scoped>\n",
       "    .dataframe tbody tr th:only-of-type {\n",
       "        vertical-align: middle;\n",
       "    }\n",
       "\n",
       "    .dataframe tbody tr th {\n",
       "        vertical-align: top;\n",
       "    }\n",
       "\n",
       "    .dataframe thead th {\n",
       "        text-align: right;\n",
       "    }\n",
       "</style>\n",
       "<table border=\"1\" class=\"dataframe\">\n",
       "  <thead>\n",
       "    <tr style=\"text-align: right;\">\n",
       "      <th></th>\n",
       "      <th>Onset_EYear</th>\n",
       "      <th>Onset_EWeek</th>\n",
       "      <th>HexagonID</th>\n",
       "      <th>value</th>\n",
       "    </tr>\n",
       "  </thead>\n",
       "  <tbody>\n",
       "    <tr>\n",
       "      <th>0</th>\n",
       "      <td>2013</td>\n",
       "      <td>1</td>\n",
       "      <td>244</td>\n",
       "      <td>0</td>\n",
       "    </tr>\n",
       "    <tr>\n",
       "      <th>1</th>\n",
       "      <td>2013</td>\n",
       "      <td>2</td>\n",
       "      <td>244</td>\n",
       "      <td>0</td>\n",
       "    </tr>\n",
       "    <tr>\n",
       "      <th>2</th>\n",
       "      <td>2013</td>\n",
       "      <td>3</td>\n",
       "      <td>244</td>\n",
       "      <td>0</td>\n",
       "    </tr>\n",
       "    <tr>\n",
       "      <th>3</th>\n",
       "      <td>2013</td>\n",
       "      <td>4</td>\n",
       "      <td>244</td>\n",
       "      <td>0</td>\n",
       "    </tr>\n",
       "    <tr>\n",
       "      <th>4</th>\n",
       "      <td>2013</td>\n",
       "      <td>5</td>\n",
       "      <td>244</td>\n",
       "      <td>0</td>\n",
       "    </tr>\n",
       "  </tbody>\n",
       "</table>\n",
       "</div>"
      ],
      "text/plain": [
       "   Onset_EYear  Onset_EWeek  HexagonID  value\n",
       "0         2013            1        244      0\n",
       "1         2013            2        244      0\n",
       "2         2013            3        244      0\n",
       "3         2013            4        244      0\n",
       "4         2013            5        244      0"
      ]
     },
     "execution_count": 16,
     "metadata": {},
     "output_type": "execute_result"
    }
   ],
   "source": [
    "missing_df.head()"
   ]
  },
  {
   "cell_type": "code",
   "execution_count": 17,
   "metadata": {},
   "outputs": [
    {
     "name": "stdout",
     "output_type": "stream",
     "text": [
      "<class 'pandas.core.frame.DataFrame'>\n",
      "RangeIndex: 24339 entries, 0 to 24338\n",
      "Data columns (total 4 columns):\n",
      " #   Column       Non-Null Count  Dtype\n",
      "---  ------       --------------  -----\n",
      " 0   Onset_EYear  24339 non-null  int64\n",
      " 1   Onset_EWeek  24339 non-null  int64\n",
      " 2   HexagonID    24339 non-null  int64\n",
      " 3   value        24339 non-null  int64\n",
      "dtypes: int64(4)\n",
      "memory usage: 760.7 KB\n"
     ]
    }
   ],
   "source": [
    "missing_df.info()"
   ]
  },
  {
   "cell_type": "markdown",
   "metadata": {},
   "source": [
    "### Merge the two layers together for plotting"
   ]
  },
  {
   "cell_type": "code",
   "execution_count": 18,
   "metadata": {},
   "outputs": [],
   "source": [
    "plot_layer = pd.merge(missing_df,hexagons_layer[[\"cell_id\",\"geometry\"]],left_on=\"HexagonID\",right_on=\"cell_id\",how=\"left\")"
   ]
  },
  {
   "cell_type": "code",
   "execution_count": 19,
   "metadata": {},
   "outputs": [],
   "source": [
    "plot_layer[\"lat\"] = plot_layer[\"geometry\"].apply(lambda x: x.centroid.x)\n",
    "plot_layer[\"long\"] = plot_layer[\"geometry\"].apply(lambda x: x.centroid.y)"
   ]
  },
  {
   "cell_type": "code",
   "execution_count": 20,
   "metadata": {},
   "outputs": [
    {
     "data": {
      "text/html": [
       "<div>\n",
       "<style scoped>\n",
       "    .dataframe tbody tr th:only-of-type {\n",
       "        vertical-align: middle;\n",
       "    }\n",
       "\n",
       "    .dataframe tbody tr th {\n",
       "        vertical-align: top;\n",
       "    }\n",
       "\n",
       "    .dataframe thead th {\n",
       "        text-align: right;\n",
       "    }\n",
       "</style>\n",
       "<table border=\"1\" class=\"dataframe\">\n",
       "  <thead>\n",
       "    <tr style=\"text-align: right;\">\n",
       "      <th></th>\n",
       "      <th>Onset_EYear</th>\n",
       "      <th>Onset_EWeek</th>\n",
       "      <th>HexagonID</th>\n",
       "      <th>value</th>\n",
       "      <th>cell_id</th>\n",
       "      <th>geometry</th>\n",
       "      <th>lat</th>\n",
       "      <th>long</th>\n",
       "    </tr>\n",
       "  </thead>\n",
       "  <tbody>\n",
       "    <tr>\n",
       "      <th>0</th>\n",
       "      <td>2013</td>\n",
       "      <td>1</td>\n",
       "      <td>244</td>\n",
       "      <td>0</td>\n",
       "      <td>244</td>\n",
       "      <td>POLYGON ((103.64383 1.32329, 103.64518 1.32564...</td>\n",
       "      <td>103.646528</td>\n",
       "      <td>1.323288</td>\n",
       "    </tr>\n",
       "    <tr>\n",
       "      <th>1</th>\n",
       "      <td>2013</td>\n",
       "      <td>2</td>\n",
       "      <td>244</td>\n",
       "      <td>0</td>\n",
       "      <td>244</td>\n",
       "      <td>POLYGON ((103.64383 1.32329, 103.64518 1.32564...</td>\n",
       "      <td>103.646528</td>\n",
       "      <td>1.323288</td>\n",
       "    </tr>\n",
       "    <tr>\n",
       "      <th>2</th>\n",
       "      <td>2013</td>\n",
       "      <td>3</td>\n",
       "      <td>244</td>\n",
       "      <td>0</td>\n",
       "      <td>244</td>\n",
       "      <td>POLYGON ((103.64383 1.32329, 103.64518 1.32564...</td>\n",
       "      <td>103.646528</td>\n",
       "      <td>1.323288</td>\n",
       "    </tr>\n",
       "    <tr>\n",
       "      <th>3</th>\n",
       "      <td>2013</td>\n",
       "      <td>4</td>\n",
       "      <td>244</td>\n",
       "      <td>0</td>\n",
       "      <td>244</td>\n",
       "      <td>POLYGON ((103.64383 1.32329, 103.64518 1.32564...</td>\n",
       "      <td>103.646528</td>\n",
       "      <td>1.323288</td>\n",
       "    </tr>\n",
       "    <tr>\n",
       "      <th>4</th>\n",
       "      <td>2013</td>\n",
       "      <td>5</td>\n",
       "      <td>244</td>\n",
       "      <td>0</td>\n",
       "      <td>244</td>\n",
       "      <td>POLYGON ((103.64383 1.32329, 103.64518 1.32564...</td>\n",
       "      <td>103.646528</td>\n",
       "      <td>1.323288</td>\n",
       "    </tr>\n",
       "  </tbody>\n",
       "</table>\n",
       "</div>"
      ],
      "text/plain": [
       "   Onset_EYear  Onset_EWeek  HexagonID  value  cell_id  \\\n",
       "0         2013            1        244      0      244   \n",
       "1         2013            2        244      0      244   \n",
       "2         2013            3        244      0      244   \n",
       "3         2013            4        244      0      244   \n",
       "4         2013            5        244      0      244   \n",
       "\n",
       "                                            geometry         lat      long  \n",
       "0  POLYGON ((103.64383 1.32329, 103.64518 1.32564...  103.646528  1.323288  \n",
       "1  POLYGON ((103.64383 1.32329, 103.64518 1.32564...  103.646528  1.323288  \n",
       "2  POLYGON ((103.64383 1.32329, 103.64518 1.32564...  103.646528  1.323288  \n",
       "3  POLYGON ((103.64383 1.32329, 103.64518 1.32564...  103.646528  1.323288  \n",
       "4  POLYGON ((103.64383 1.32329, 103.64518 1.32564...  103.646528  1.323288  "
      ]
     },
     "execution_count": 20,
     "metadata": {},
     "output_type": "execute_result"
    }
   ],
   "source": [
    "plot_layer.head()"
   ]
  },
  {
   "cell_type": "code",
   "execution_count": 63,
   "metadata": {},
   "outputs": [],
   "source": [
    "plot_layer[\"Index\"]=plot_layer[[\"Onset_EYear\",\"Onset_EWeek\"]].apply(lambda x: str(x[0])+\"-\"+str(x[1]),axis=1)"
   ]
  },
  {
   "cell_type": "code",
   "execution_count": 99,
   "metadata": {},
   "outputs": [],
   "source": [
    "plot_layer.sort_values([\"Onset_EYear\",\"Onset_EWeek\"]).reset_index(drop=True,inplace=True)"
   ]
  },
  {
   "cell_type": "code",
   "execution_count": 100,
   "metadata": {},
   "outputs": [],
   "source": [
    "date_index = plot_layer[[\"Onset_EYear\",\"Onset_EWeek\"]].drop_duplicates().apply(lambda x: str(x[0])+\"-\"+str(x[1]),axis=1)"
   ]
  },
  {
   "cell_type": "markdown",
   "metadata": {},
   "source": [
    "#### Heat Data"
   ]
  },
  {
   "cell_type": "code",
   "execution_count": 101,
   "metadata": {},
   "outputs": [],
   "source": [
    "heat_data = []\n",
    "for i in range(0,len(date_index)):\n",
    "    step = date_index[i]\n",
    "    heat_data.append(plot_layer.loc[plot_layer['Index'] == step, ['lat', 'long', 'value']].groupby(['lat', 'long']).sum().reset_index().values.tolist())\n"
   ]
  },
  {
   "cell_type": "code",
   "execution_count": 102,
   "metadata": {},
   "outputs": [
    {
     "data": {
      "text/plain": [
       "427"
      ]
     },
     "execution_count": 102,
     "metadata": {},
     "output_type": "execute_result"
    }
   ],
   "source": [
    "len(heat_data)"
   ]
  },
  {
   "cell_type": "code",
   "execution_count": 103,
   "metadata": {},
   "outputs": [
    {
     "data": {
      "text/plain": [
       "30"
      ]
     },
     "execution_count": 103,
     "metadata": {},
     "output_type": "execute_result"
    }
   ],
   "source": [
    "plot_layer[\"value\"].max()"
   ]
  },
  {
   "cell_type": "code",
   "execution_count": 23,
   "metadata": {},
   "outputs": [],
   "source": [
    "gpd_layer=plot_layer.drop_duplicates(\"HexagonID\")"
   ]
  },
  {
   "cell_type": "code",
   "execution_count": 26,
   "metadata": {},
   "outputs": [
    {
     "data": {
      "text/html": [
       "<div style=\"width:100%;\"><div style=\"position:relative;width:100%;height:0;padding-bottom:60%;\"><span style=\"color:#565656\">Make this Notebook Trusted to load map: File -> Trust Notebook</span><iframe src=\"about:blank\" style=\"position:absolute;width:100%;height:100%;left:0;top:0;border:none !important;\" data-html=%3C%21DOCTYPE%20html%3E%0A%3Chead%3E%20%20%20%20%0A%20%20%20%20%3Cmeta%20http-equiv%3D%22content-type%22%20content%3D%22text/html%3B%20charset%3DUTF-8%22%20/%3E%0A%20%20%20%20%0A%20%20%20%20%20%20%20%20%3Cscript%3E%0A%20%20%20%20%20%20%20%20%20%20%20%20L_NO_TOUCH%20%3D%20false%3B%0A%20%20%20%20%20%20%20%20%20%20%20%20L_DISABLE_3D%20%3D%20false%3B%0A%20%20%20%20%20%20%20%20%3C/script%3E%0A%20%20%20%20%0A%20%20%20%20%3Cstyle%3Ehtml%2C%20body%20%7Bwidth%3A%20100%25%3Bheight%3A%20100%25%3Bmargin%3A%200%3Bpadding%3A%200%3B%7D%3C/style%3E%0A%20%20%20%20%3Cstyle%3E%23map%20%7Bposition%3Aabsolute%3Btop%3A0%3Bbottom%3A0%3Bright%3A0%3Bleft%3A0%3B%7D%3C/style%3E%0A%20%20%20%20%3Cscript%20src%3D%22https%3A//cdn.jsdelivr.net/npm/leaflet%401.6.0/dist/leaflet.js%22%3E%3C/script%3E%0A%20%20%20%20%3Cscript%20src%3D%22https%3A//code.jquery.com/jquery-1.12.4.min.js%22%3E%3C/script%3E%0A%20%20%20%20%3Cscript%20src%3D%22https%3A//maxcdn.bootstrapcdn.com/bootstrap/3.2.0/js/bootstrap.min.js%22%3E%3C/script%3E%0A%20%20%20%20%3Cscript%20src%3D%22https%3A//cdnjs.cloudflare.com/ajax/libs/Leaflet.awesome-markers/2.0.2/leaflet.awesome-markers.js%22%3E%3C/script%3E%0A%20%20%20%20%3Clink%20rel%3D%22stylesheet%22%20href%3D%22https%3A//cdn.jsdelivr.net/npm/leaflet%401.6.0/dist/leaflet.css%22/%3E%0A%20%20%20%20%3Clink%20rel%3D%22stylesheet%22%20href%3D%22https%3A//maxcdn.bootstrapcdn.com/bootstrap/3.2.0/css/bootstrap.min.css%22/%3E%0A%20%20%20%20%3Clink%20rel%3D%22stylesheet%22%20href%3D%22https%3A//maxcdn.bootstrapcdn.com/bootstrap/3.2.0/css/bootstrap-theme.min.css%22/%3E%0A%20%20%20%20%3Clink%20rel%3D%22stylesheet%22%20href%3D%22https%3A//maxcdn.bootstrapcdn.com/font-awesome/4.6.3/css/font-awesome.min.css%22/%3E%0A%20%20%20%20%3Clink%20rel%3D%22stylesheet%22%20href%3D%22https%3A//cdnjs.cloudflare.com/ajax/libs/Leaflet.awesome-markers/2.0.2/leaflet.awesome-markers.css%22/%3E%0A%20%20%20%20%3Clink%20rel%3D%22stylesheet%22%20href%3D%22https%3A//cdn.jsdelivr.net/gh/python-visualization/folium/folium/templates/leaflet.awesome.rotate.min.css%22/%3E%0A%20%20%20%20%0A%20%20%20%20%20%20%20%20%20%20%20%20%3Cmeta%20name%3D%22viewport%22%20content%3D%22width%3Ddevice-width%2C%0A%20%20%20%20%20%20%20%20%20%20%20%20%20%20%20%20initial-scale%3D1.0%2C%20maximum-scale%3D1.0%2C%20user-scalable%3Dno%22%20/%3E%0A%20%20%20%20%20%20%20%20%20%20%20%20%3Cstyle%3E%0A%20%20%20%20%20%20%20%20%20%20%20%20%20%20%20%20%23map_3362e960a2d349eba9a11488e57ff808%20%7B%0A%20%20%20%20%20%20%20%20%20%20%20%20%20%20%20%20%20%20%20%20position%3A%20relative%3B%0A%20%20%20%20%20%20%20%20%20%20%20%20%20%20%20%20%20%20%20%20width%3A%20100.0%25%3B%0A%20%20%20%20%20%20%20%20%20%20%20%20%20%20%20%20%20%20%20%20height%3A%20100.0%25%3B%0A%20%20%20%20%20%20%20%20%20%20%20%20%20%20%20%20%20%20%20%20left%3A%200.0%25%3B%0A%20%20%20%20%20%20%20%20%20%20%20%20%20%20%20%20%20%20%20%20top%3A%200.0%25%3B%0A%20%20%20%20%20%20%20%20%20%20%20%20%20%20%20%20%7D%0A%20%20%20%20%20%20%20%20%20%20%20%20%3C/style%3E%0A%20%20%20%20%20%20%20%20%0A%3C/head%3E%0A%3Cbody%3E%20%20%20%20%0A%20%20%20%20%0A%20%20%20%20%20%20%20%20%20%20%20%20%3Cdiv%20class%3D%22folium-map%22%20id%3D%22map_3362e960a2d349eba9a11488e57ff808%22%20%3E%3C/div%3E%0A%20%20%20%20%20%20%20%20%0A%3C/body%3E%0A%3Cscript%3E%20%20%20%20%0A%20%20%20%20%0A%20%20%20%20%20%20%20%20%20%20%20%20var%20map_3362e960a2d349eba9a11488e57ff808%20%3D%20L.map%28%0A%20%20%20%20%20%20%20%20%20%20%20%20%20%20%20%20%22map_3362e960a2d349eba9a11488e57ff808%22%2C%0A%20%20%20%20%20%20%20%20%20%20%20%20%20%20%20%20%7B%0A%20%20%20%20%20%20%20%20%20%20%20%20%20%20%20%20%20%20%20%20center%3A%20%5B1.35255%2C%20103.8258%5D%2C%0A%20%20%20%20%20%20%20%20%20%20%20%20%20%20%20%20%20%20%20%20crs%3A%20L.CRS.EPSG3857%2C%0A%20%20%20%20%20%20%20%20%20%20%20%20%20%20%20%20%20%20%20%20zoom%3A%2011.4%2C%0A%20%20%20%20%20%20%20%20%20%20%20%20%20%20%20%20%20%20%20%20zoomControl%3A%20true%2C%0A%20%20%20%20%20%20%20%20%20%20%20%20%20%20%20%20%20%20%20%20preferCanvas%3A%20false%2C%0A%20%20%20%20%20%20%20%20%20%20%20%20%20%20%20%20%7D%0A%20%20%20%20%20%20%20%20%20%20%20%20%29%3B%0A%20%20%20%20%20%20%20%20%20%20%20%20L.control.scale%28%29.addTo%28map_3362e960a2d349eba9a11488e57ff808%29%3B%0A%0A%20%20%20%20%20%20%20%20%20%20%20%20%0A%0A%20%20%20%20%20%20%20%20%0A%20%20%20%20%0A%20%20%20%20%20%20%20%20%20%20%20%20var%20tile_layer_ff1302a6cd5a47feadac85321e9c374f%20%3D%20L.tileLayer%28%0A%20%20%20%20%20%20%20%20%20%20%20%20%20%20%20%20%22https%3A//%7Bs%7D.tile.openstreetmap.org/%7Bz%7D/%7Bx%7D/%7By%7D.png%22%2C%0A%20%20%20%20%20%20%20%20%20%20%20%20%20%20%20%20%7B%22attribution%22%3A%20%22Data%20by%20%5Cu0026copy%3B%20%5Cu003ca%20href%3D%5C%22http%3A//openstreetmap.org%5C%22%5Cu003eOpenStreetMap%5Cu003c/a%5Cu003e%2C%20under%20%5Cu003ca%20href%3D%5C%22http%3A//www.openstreetmap.org/copyright%5C%22%5Cu003eODbL%5Cu003c/a%5Cu003e.%22%2C%20%22detectRetina%22%3A%20false%2C%20%22maxNativeZoom%22%3A%2018%2C%20%22maxZoom%22%3A%2018%2C%20%22minZoom%22%3A%200%2C%20%22noWrap%22%3A%20false%2C%20%22opacity%22%3A%201%2C%20%22subdomains%22%3A%20%22abc%22%2C%20%22tms%22%3A%20false%7D%0A%20%20%20%20%20%20%20%20%20%20%20%20%29.addTo%28map_3362e960a2d349eba9a11488e57ff808%29%3B%0A%20%20%20%20%20%20%20%20%0A%20%20%20%20%0A%20%20%20%20%20%20%20%20function%20geo_json_12c538b2e03b4aac9d7d40d18c56d9d2_styler%28feature%29%20%7B%0A%20%20%20%20%20%20%20%20%20%20%20%20switch%28feature.id%29%20%7B%0A%20%20%20%20%20%20%20%20%20%20%20%20%20%20%20%20default%3A%0A%20%20%20%20%20%20%20%20%20%20%20%20%20%20%20%20%20%20%20%20return%20%7B%22color%22%3A%20%22grey%22%2C%20%22fillColor%22%3A%20%22%2300000000%22%2C%20%22opacity%22%3A%200.8%7D%3B%0A%20%20%20%20%20%20%20%20%20%20%20%20%7D%0A%20%20%20%20%20%20%20%20%7D%0A%0A%20%20%20%20%20%20%20%20function%20geo_json_12c538b2e03b4aac9d7d40d18c56d9d2_onEachFeature%28feature%2C%20layer%29%20%7B%0A%20%20%20%20%20%20%20%20%20%20%20%20layer.on%28%7B%0A%20%20%20%20%20%20%20%20%20%20%20%20%7D%29%3B%0A%20%20%20%20%20%20%20%20%7D%3B%0A%20%20%20%20%20%20%20%20var%20geo_json_12c538b2e03b4aac9d7d40d18c56d9d2%20%3D%20L.geoJson%28null%2C%20%7B%0A%20%20%20%20%20%20%20%20%20%20%20%20%20%20%20%20onEachFeature%3A%20geo_json_12c538b2e03b4aac9d7d40d18c56d9d2_onEachFeature%2C%0A%20%20%20%20%20%20%20%20%20%20%20%20%0A%20%20%20%20%20%20%20%20%20%20%20%20%20%20%20%20style%3A%20geo_json_12c538b2e03b4aac9d7d40d18c56d9d2_styler%2C%0A%20%20%20%20%20%20%20%20%7D%29%3B%0A%0A%20%20%20%20%20%20%20%20function%20geo_json_12c538b2e03b4aac9d7d40d18c56d9d2_add%20%28data%29%20%7B%0A%20%20%20%20%20%20%20%20%20%20%20%20geo_json_12c538b2e03b4aac9d7d40d18c56d9d2%0A%20%20%20%20%20%20%20%20%20%20%20%20%20%20%20%20.addData%28data%29%0A%20%20%20%20%20%20%20%20%20%20%20%20%20%20%20%20.addTo%28map_3362e960a2d349eba9a11488e57ff808%29%3B%0A%20%20%20%20%20%20%20%20%7D%0A%20%20%20%20%20%20%20%20%20%20%20%20geo_json_12c538b2e03b4aac9d7d40d18c56d9d2_add%28%7B%22bbox%22%3A%20%5B103.6438302413726%2C%201.320936177862393%2C%20103.64922552433853%2C%201.325639052999918%5D%2C%20%22features%22%3A%20%5B%7B%22bbox%22%3A%20%5B103.6438302413726%2C%201.320936177862393%2C%20103.64922552433853%2C%201.325639052999918%5D%2C%20%22geometry%22%3A%20%7B%22coordinates%22%3A%20%5B%5B%5B103.6438302413726%2C%201.323287410385717%5D%2C%20%5B103.64517888449797%2C%201.3256388488538278%5D%2C%20%5B103.64787652867892%2C%201.325639052999918%5D%2C%20%5B103.64922552433853%2C%201.3232878186779544%5D%2C%20%5B103.64787687761589%2C%201.3209363820084832%5D%2C%20%5B103.64517923883085%2C%201.320936177862393%5D%2C%20%5B103.6438302413726%2C%201.323287410385717%5D%5D%5D%2C%20%22type%22%3A%20%22Polygon%22%7D%2C%20%22id%22%3A%20%220%22%2C%20%22properties%22%3A%20%7B%7D%2C%20%22type%22%3A%20%22Feature%22%7D%5D%2C%20%22type%22%3A%20%22FeatureCollection%22%7D%29%3B%0A%0A%20%20%20%20%20%20%20%20%0A%20%20%20%20%0A%20%20%20%20%20%20%20%20function%20geo_json_4ed80b7252b946f394bb793f5e7c4210_styler%28feature%29%20%7B%0A%20%20%20%20%20%20%20%20%20%20%20%20switch%28feature.id%29%20%7B%0A%20%20%20%20%20%20%20%20%20%20%20%20%20%20%20%20default%3A%0A%20%20%20%20%20%20%20%20%20%20%20%20%20%20%20%20%20%20%20%20return%20%7B%22color%22%3A%20%22grey%22%2C%20%22fillColor%22%3A%20%22%2300000000%22%2C%20%22opacity%22%3A%200.8%7D%3B%0A%20%20%20%20%20%20%20%20%20%20%20%20%7D%0A%20%20%20%20%20%20%20%20%7D%0A%0A%20%20%20%20%20%20%20%20function%20geo_json_4ed80b7252b946f394bb793f5e7c4210_onEachFeature%28feature%2C%20layer%29%20%7B%0A%20%20%20%20%20%20%20%20%20%20%20%20layer.on%28%7B%0A%20%20%20%20%20%20%20%20%20%20%20%20%7D%29%3B%0A%20%20%20%20%20%20%20%20%7D%3B%0A%20%20%20%20%20%20%20%20var%20geo_json_4ed80b7252b946f394bb793f5e7c4210%20%3D%20L.geoJson%28null%2C%20%7B%0A%20%20%20%20%20%20%20%20%20%20%20%20%20%20%20%20onEachFeature%3A%20geo_json_4ed80b7252b946f394bb793f5e7c4210_onEachFeature%2C%0A%20%20%20%20%20%20%20%20%20%20%20%20%0A%20%20%20%20%20%20%20%20%20%20%20%20%20%20%20%20style%3A%20geo_json_4ed80b7252b946f394bb793f5e7c4210_styler%2C%0A%20%20%20%20%20%20%20%20%7D%29%3B%0A%0A%20%20%20%20%20%20%20%20function%20geo_json_4ed80b7252b946f394bb793f5e7c4210_add%20%28data%29%20%7B%0A%20%20%20%20%20%20%20%20%20%20%20%20geo_json_4ed80b7252b946f394bb793f5e7c4210%0A%20%20%20%20%20%20%20%20%20%20%20%20%20%20%20%20.addData%28data%29%0A%20%20%20%20%20%20%20%20%20%20%20%20%20%20%20%20.addTo%28map_3362e960a2d349eba9a11488e57ff808%29%3B%0A%20%20%20%20%20%20%20%20%7D%0A%20%20%20%20%20%20%20%20%20%20%20%20geo_json_4ed80b7252b946f394bb793f5e7c4210_add%28%7B%22bbox%22%3A%20%5B103.65192384750759%2C%201.311531435727204%2C%20103.65731911248713%2C%201.3162343027709085%5D%2C%20%22features%22%3A%20%5B%7B%22bbox%22%3A%20%5B103.65192384750759%2C%201.311531435727204%2C%20103.65731911248713%2C%201.3162343027709085%5D%2C%20%22geometry%22%3A%20%7B%22coordinates%22%3A%20%5B%5B%5B103.65192384750759%2C%201.3138826736465035%5D%2C%20%5B103.65327249512961%2C%201.3162341085173352%5D%2C%20%5B103.65597013031731%2C%201.3162343027709085%5D%2C%20%5B103.65731911248713%2C%201.31388306215365%5D%2C%20%5B103.65597046216715%2C%201.3115316290814576%5D%2C%20%5B103.65327283147604%2C%201.311531435727204%5D%2C%20%5B103.65192384750759%2C%201.3138826736465035%5D%5D%5D%2C%20%22type%22%3A%20%22Polygon%22%7D%2C%20%22id%22%3A%20%220%22%2C%20%22properties%22%3A%20%7B%7D%2C%20%22type%22%3A%20%22Feature%22%7D%5D%2C%20%22type%22%3A%20%22FeatureCollection%22%7D%29%3B%0A%0A%20%20%20%20%20%20%20%20%0A%20%20%20%20%0A%20%20%20%20%20%20%20%20function%20geo_json_8edbc8d99ccd47daa74aa9521edc099b_styler%28feature%29%20%7B%0A%20%20%20%20%20%20%20%20%20%20%20%20switch%28feature.id%29%20%7B%0A%20%20%20%20%20%20%20%20%20%20%20%20%20%20%20%20default%3A%0A%20%20%20%20%20%20%20%20%20%20%20%20%20%20%20%20%20%20%20%20return%20%7B%22color%22%3A%20%22grey%22%2C%20%22fillColor%22%3A%20%22%2300000000%22%2C%20%22opacity%22%3A%200.8%7D%3B%0A%20%20%20%20%20%20%20%20%20%20%20%20%7D%0A%20%20%20%20%20%20%20%20%7D%0A%0A%20%20%20%20%20%20%20%20function%20geo_json_8edbc8d99ccd47daa74aa9521edc099b_onEachFeature%28feature%2C%20layer%29%20%7B%0A%20%20%20%20%20%20%20%20%20%20%20%20layer.on%28%7B%0A%20%20%20%20%20%20%20%20%20%20%20%20%7D%29%3B%0A%20%20%20%20%20%20%20%20%7D%3B%0A%20%20%20%20%20%20%20%20var%20geo_json_8edbc8d99ccd47daa74aa9521edc099b%20%3D%20L.geoJson%28null%2C%20%7B%0A%20%20%20%20%20%20%20%20%20%20%20%20%20%20%20%20onEachFeature%3A%20geo_json_8edbc8d99ccd47daa74aa9521edc099b_onEachFeature%2C%0A%20%20%20%20%20%20%20%20%20%20%20%20%0A%20%20%20%20%20%20%20%20%20%20%20%20%20%20%20%20style%3A%20geo_json_8edbc8d99ccd47daa74aa9521edc099b_styler%2C%0A%20%20%20%20%20%20%20%20%7D%29%3B%0A%0A%20%20%20%20%20%20%20%20function%20geo_json_8edbc8d99ccd47daa74aa9521edc099b_add%20%28data%29%20%7B%0A%20%20%20%20%20%20%20%20%20%20%20%20geo_json_8edbc8d99ccd47daa74aa9521edc099b%0A%20%20%20%20%20%20%20%20%20%20%20%20%20%20%20%20.addData%28data%29%0A%20%20%20%20%20%20%20%20%20%20%20%20%20%20%20%20.addTo%28map_3362e960a2d349eba9a11488e57ff808%29%3B%0A%20%20%20%20%20%20%20%20%7D%0A%20%20%20%20%20%20%20%20%20%20%20%20geo_json_8edbc8d99ccd47daa74aa9521edc099b_add%28%7B%22bbox%22%3A%20%5B103.65192350756388%2C%201.3162341085173352%2C%20103.65731878333526%2C%201.3209369764603593%5D%2C%20%22features%22%3A%20%5B%7B%22bbox%22%3A%20%5B103.65192350756388%2C%201.3162341085173352%2C%20103.65731878333526%2C%201.3209369764603593%5D%2C%20%22geometry%22%3A%20%7B%22coordinates%22%3A%20%5B%5B%5B103.65192350756388%2C%201.3185853464366346%5D%2C%20%5B103.65327215698454%2C%201.3209367813074664%5D%2C%20%5B103.65596979756816%2C%201.3209369764603593%5D%2C%20%5B103.65731878333526%2C%201.3185857358431008%5D%2C%20%5B103.65597013031731%2C%201.3162343027709085%5D%2C%20%5B103.65327249512961%2C%201.3162341085173352%5D%2C%20%5B103.65192350756388%2C%201.3185853464366346%5D%5D%5D%2C%20%22type%22%3A%20%22Polygon%22%7D%2C%20%22id%22%3A%20%220%22%2C%20%22properties%22%3A%20%7B%7D%2C%20%22type%22%3A%20%22Feature%22%7D%5D%2C%20%22type%22%3A%20%22FeatureCollection%22%7D%29%3B%0A%0A%20%20%20%20%20%20%20%20%0A%20%20%20%20%0A%20%20%20%20%20%20%20%20function%20geo_json_548d5e21081c4e93b7faa7a3babd99f5_styler%28feature%29%20%7B%0A%20%20%20%20%20%20%20%20%20%20%20%20switch%28feature.id%29%20%7B%0A%20%20%20%20%20%20%20%20%20%20%20%20%20%20%20%20default%3A%0A%20%20%20%20%20%20%20%20%20%20%20%20%20%20%20%20%20%20%20%20return%20%7B%22color%22%3A%20%22grey%22%2C%20%22fillColor%22%3A%20%22%2300000000%22%2C%20%22opacity%22%3A%200.8%7D%3B%0A%20%20%20%20%20%20%20%20%20%20%20%20%7D%0A%20%20%20%20%20%20%20%20%7D%0A%0A%20%20%20%20%20%20%20%20function%20geo_json_548d5e21081c4e93b7faa7a3babd99f5_onEachFeature%28feature%2C%20layer%29%20%7B%0A%20%20%20%20%20%20%20%20%20%20%20%20layer.on%28%7B%0A%20%20%20%20%20%20%20%20%20%20%20%20%7D%29%3B%0A%20%20%20%20%20%20%20%20%7D%3B%0A%20%20%20%20%20%20%20%20var%20geo_json_548d5e21081c4e93b7faa7a3babd99f5%20%3D%20L.geoJson%28null%2C%20%7B%0A%20%20%20%20%20%20%20%20%20%20%20%20%20%20%20%20onEachFeature%3A%20geo_json_548d5e21081c4e93b7faa7a3babd99f5_onEachFeature%2C%0A%20%20%20%20%20%20%20%20%20%20%20%20%0A%20%20%20%20%20%20%20%20%20%20%20%20%20%20%20%20style%3A%20geo_json_548d5e21081c4e93b7faa7a3babd99f5_styler%2C%0A%20%20%20%20%20%20%20%20%7D%29%3B%0A%0A%20%20%20%20%20%20%20%20function%20geo_json_548d5e21081c4e93b7faa7a3babd99f5_add%20%28data%29%20%7B%0A%20%20%20%20%20%20%20%20%20%20%20%20geo_json_548d5e21081c4e93b7faa7a3babd99f5%0A%20%20%20%20%20%20%20%20%20%20%20%20%20%20%20%20.addData%28data%29%0A%20%20%20%20%20%20%20%20%20%20%20%20%20%20%20%20.addTo%28map_3362e960a2d349eba9a11488e57ff808%29%3B%0A%20%20%20%20%20%20%20%20%7D%0A%20%20%20%20%20%20%20%20%20%20%20%20geo_json_548d5e21081c4e93b7faa7a3babd99f5_add%28%7B%22bbox%22%3A%20%5B103.65597046216715%2C%201.3091803875648793%2C%20103.66136572354935%2C%201.3138832519105677%5D%2C%20%22features%22%3A%20%5B%7B%22bbox%22%3A%20%5B103.65597046216715%2C%201.3091803875648793%2C%20103.66136572354935%2C%201.3138832519105677%5D%2C%20%22geometry%22%3A%20%7B%22coordinates%22%3A%20%5B%5B%5B103.65597046216715%2C%201.3115316290814576%5D%2C%20%5B103.65731911248713%2C%201.31388306215365%5D%2C%20%5B103.66001674587619%2C%201.3138832519105677%5D%2C%20%5B103.66136572354935%2C%201.3115320076960302%5D%2C%20%5B103.66001706963209%2C%201.3091805773218539%5D%2C%20%5B103.657319441639%2C%201.3091803875648793%5D%2C%20%5B103.65597046216715%2C%201.3115316290814576%5D%5D%5D%2C%20%22type%22%3A%20%22Polygon%22%7D%2C%20%22id%22%3A%20%220%22%2C%20%22properties%22%3A%20%7B%7D%2C%20%22type%22%3A%20%22Feature%22%7D%5D%2C%20%22type%22%3A%20%22FeatureCollection%22%7D%29%3B%0A%0A%20%20%20%20%20%20%20%20%0A%20%20%20%20%0A%20%20%20%20%20%20%20%20function%20geo_json_92fa97214e694af7bf5f713dbefa8944_styler%28feature%29%20%7B%0A%20%20%20%20%20%20%20%20%20%20%20%20switch%28feature.id%29%20%7B%0A%20%20%20%20%20%20%20%20%20%20%20%20%20%20%20%20default%3A%0A%20%20%20%20%20%20%20%20%20%20%20%20%20%20%20%20%20%20%20%20return%20%7B%22color%22%3A%20%22grey%22%2C%20%22fillColor%22%3A%20%22%2300000000%22%2C%20%22opacity%22%3A%200.8%7D%3B%0A%20%20%20%20%20%20%20%20%20%20%20%20%7D%0A%20%20%20%20%20%20%20%20%7D%0A%0A%20%20%20%20%20%20%20%20function%20geo_json_92fa97214e694af7bf5f713dbefa8944_onEachFeature%28feature%2C%20layer%29%20%7B%0A%20%20%20%20%20%20%20%20%20%20%20%20layer.on%28%7B%0A%20%20%20%20%20%20%20%20%20%20%20%20%7D%29%3B%0A%20%20%20%20%20%20%20%20%7D%3B%0A%20%20%20%20%20%20%20%20var%20geo_json_92fa97214e694af7bf5f713dbefa8944%20%3D%20L.geoJson%28null%2C%20%7B%0A%20%20%20%20%20%20%20%20%20%20%20%20%20%20%20%20onEachFeature%3A%20geo_json_92fa97214e694af7bf5f713dbefa8944_onEachFeature%2C%0A%20%20%20%20%20%20%20%20%20%20%20%20%0A%20%20%20%20%20%20%20%20%20%20%20%20%20%20%20%20style%3A%20geo_json_92fa97214e694af7bf5f713dbefa8944_styler%2C%0A%20%20%20%20%20%20%20%20%7D%29%3B%0A%0A%20%20%20%20%20%20%20%20function%20geo_json_92fa97214e694af7bf5f713dbefa8944_add%20%28data%29%20%7B%0A%20%20%20%20%20%20%20%20%20%20%20%20geo_json_92fa97214e694af7bf5f713dbefa8944%0A%20%20%20%20%20%20%20%20%20%20%20%20%20%20%20%20.addData%28data%29%0A%20%20%20%20%20%20%20%20%20%20%20%20%20%20%20%20.addTo%28map_3362e960a2d349eba9a11488e57ff808%29%3B%0A%20%20%20%20%20%20%20%20%7D%0A%20%20%20%20%20%20%20%20%20%20%20%20geo_json_92fa97214e694af7bf5f713dbefa8944_add%28%7B%22bbox%22%3A%20%5B103.65597013031731%2C%201.31388306215365%2C%20103.66136540159209%2C%201.3185859264993383%5D%2C%20%22features%22%3A%20%5B%7B%22bbox%22%3A%20%5B103.65597013031731%2C%201.31388306215365%2C%20103.66136540159209%2C%201.3185859264993383%5D%2C%20%22geometry%22%3A%20%7B%22coordinates%22%3A%20%5B%5B%5B103.65597013031731%2C%201.3162343027709085%5D%2C%20%5B103.65731878333526%2C%201.3185857358431008%5D%2C%20%5B103.66001642122092%2C%201.3185859264993383%5D%2C%20%5B103.66136540159209%2C%201.3162346831841205%5D%2C%20%5B103.66001674587619%2C%201.3138832519105677%5D%2C%20%5B103.65731911248713%2C%201.31388306215365%5D%2C%20%5B103.65597013031731%2C%201.3162343027709085%5D%5D%5D%2C%20%22type%22%3A%20%22Polygon%22%7D%2C%20%22id%22%3A%20%220%22%2C%20%22properties%22%3A%20%7B%7D%2C%20%22type%22%3A%20%22Feature%22%7D%5D%2C%20%22type%22%3A%20%22FeatureCollection%22%7D%29%3B%0A%0A%20%20%20%20%20%20%20%20%0A%20%20%20%20%0A%20%20%20%20%20%20%20%20function%20geo_json_2e32319c6c924ae08649689a4e6f5f24_styler%28feature%29%20%7B%0A%20%20%20%20%20%20%20%20%20%20%20%20switch%28feature.id%29%20%7B%0A%20%20%20%20%20%20%20%20%20%20%20%20%20%20%20%20default%3A%0A%20%20%20%20%20%20%20%20%20%20%20%20%20%20%20%20%20%20%20%20return%20%7B%22color%22%3A%20%22grey%22%2C%20%22fillColor%22%3A%20%22%2300000000%22%2C%20%22opacity%22%3A%200.8%7D%3B%0A%20%20%20%20%20%20%20%20%20%20%20%20%7D%0A%20%20%20%20%20%20%20%20%7D%0A%0A%20%20%20%20%20%20%20%20function%20geo_json_2e32319c6c924ae08649689a4e6f5f24_onEachFeature%28feature%2C%20layer%29%20%7B%0A%20%20%20%20%20%20%20%20%20%20%20%20layer.on%28%7B%0A%20%20%20%20%20%20%20%20%20%20%20%20%7D%29%3B%0A%20%20%20%20%20%20%20%20%7D%3B%0A%20%20%20%20%20%20%20%20var%20geo_json_2e32319c6c924ae08649689a4e6f5f24%20%3D%20L.geoJson%28null%2C%20%7B%0A%20%20%20%20%20%20%20%20%20%20%20%20%20%20%20%20onEachFeature%3A%20geo_json_2e32319c6c924ae08649689a4e6f5f24_onEachFeature%2C%0A%20%20%20%20%20%20%20%20%20%20%20%20%0A%20%20%20%20%20%20%20%20%20%20%20%20%20%20%20%20style%3A%20geo_json_2e32319c6c924ae08649689a4e6f5f24_styler%2C%0A%20%20%20%20%20%20%20%20%7D%29%3B%0A%0A%20%20%20%20%20%20%20%20function%20geo_json_2e32319c6c924ae08649689a4e6f5f24_add%20%28data%29%20%7B%0A%20%20%20%20%20%20%20%20%20%20%20%20geo_json_2e32319c6c924ae08649689a4e6f5f24%0A%20%20%20%20%20%20%20%20%20%20%20%20%20%20%20%20.addData%28data%29%0A%20%20%20%20%20%20%20%20%20%20%20%20%20%20%20%20.addTo%28map_3362e960a2d349eba9a11488e57ff808%29%3B%0A%20%20%20%20%20%20%20%20%7D%0A%20%20%20%20%20%20%20%20%20%20%20%20geo_json_2e32319c6c924ae08649689a4e6f5f24_add%28%7B%22bbox%22%3A%20%5B103.66001706963209%2C%201.3068293331072596%2C%20103.66541232741702%2C%201.311532192956406%5D%2C%20%22features%22%3A%20%5B%7B%22bbox%22%3A%20%5B103.66001706963209%2C%201.3068293331072596%2C%20103.66541232741702%2C%201.311532192956406%5D%2C%20%22geometry%22%3A%20%7B%22coordinates%22%3A%20%5B%5B%5B103.66001706963209%2C%201.3091805773218539%5D%2C%20%5B103.66136572354935%2C%201.3115320076960302%5D%2C%20%5B103.66406335513977%2C%201.311532192956406%5D%2C%20%5B103.66541232741702%2C%201.3091809460438526%5D%2C%20%5B103.66406366990253%2C%201.3068295174683158%5D%2C%20%5B103.66136604370803%2C%201.3068293331072596%5D%2C%20%5B103.66001706963209%2C%201.3091805773218539%5D%5D%5D%2C%20%22type%22%3A%20%22Polygon%22%7D%2C%20%22id%22%3A%20%220%22%2C%20%22properties%22%3A%20%7B%7D%2C%20%22type%22%3A%20%22Feature%22%7D%5D%2C%20%22type%22%3A%20%22FeatureCollection%22%7D%29%3B%0A%0A%20%20%20%20%20%20%20%20%0A%20%20%20%20%0A%20%20%20%20%20%20%20%20function%20geo_json_05f5a2bdb7a04d6cb70bf47c13dc9910_styler%28feature%29%20%7B%0A%20%20%20%20%20%20%20%20%20%20%20%20switch%28feature.id%29%20%7B%0A%20%20%20%20%20%20%20%20%20%20%20%20%20%20%20%20default%3A%0A%20%20%20%20%20%20%20%20%20%20%20%20%20%20%20%20%20%20%20%20return%20%7B%22color%22%3A%20%22grey%22%2C%20%22fillColor%22%3A%20%22%2300000000%22%2C%20%22opacity%22%3A%200.8%7D%3B%0A%20%20%20%20%20%20%20%20%20%20%20%20%7D%0A%20%20%20%20%20%20%20%20%7D%0A%0A%20%20%20%20%20%20%20%20function%20geo_json_05f5a2bdb7a04d6cb70bf47c13dc9910_onEachFeature%28feature%2C%20layer%29%20%7B%0A%20%20%20%20%20%20%20%20%20%20%20%20layer.on%28%7B%0A%20%20%20%20%20%20%20%20%20%20%20%20%7D%29%3B%0A%20%20%20%20%20%20%20%20%7D%3B%0A%20%20%20%20%20%20%20%20var%20geo_json_05f5a2bdb7a04d6cb70bf47c13dc9910%20%3D%20L.geoJson%28null%2C%20%7B%0A%20%20%20%20%20%20%20%20%20%20%20%20%20%20%20%20onEachFeature%3A%20geo_json_05f5a2bdb7a04d6cb70bf47c13dc9910_onEachFeature%2C%0A%20%20%20%20%20%20%20%20%20%20%20%20%0A%20%20%20%20%20%20%20%20%20%20%20%20%20%20%20%20style%3A%20geo_json_05f5a2bdb7a04d6cb70bf47c13dc9910_styler%2C%0A%20%20%20%20%20%20%20%20%7D%29%3B%0A%0A%20%20%20%20%20%20%20%20function%20geo_json_05f5a2bdb7a04d6cb70bf47c13dc9910_add%20%28data%29%20%7B%0A%20%20%20%20%20%20%20%20%20%20%20%20geo_json_05f5a2bdb7a04d6cb70bf47c13dc9910%0A%20%20%20%20%20%20%20%20%20%20%20%20%20%20%20%20.addData%28data%29%0A%20%20%20%20%20%20%20%20%20%20%20%20%20%20%20%20.addTo%28map_3362e960a2d349eba9a11488e57ff808%29%3B%0A%20%20%20%20%20%20%20%20%7D%0A%20%20%20%20%20%20%20%20%20%20%20%20geo_json_05f5a2bdb7a04d6cb70bf47c13dc9910_add%28%7B%22bbox%22%3A%20%5B103.66001674587619%2C%201.3115320076960302%2C%20103.66541201355363%2C%201.3162348693438162%5D%2C%20%22features%22%3A%20%5B%7B%22bbox%22%3A%20%5B103.66001674587619%2C%201.3115320076960302%2C%20103.66541201355363%2C%201.3162348693438162%5D%2C%20%22geometry%22%3A%20%7B%22coordinates%22%3A%20%5B%5B%5B103.66001674587619%2C%201.3138832519105677%5D%2C%20%5B103.66136540159209%2C%201.3162346831841205%5D%2C%20%5B103.66406303857843%2C%201.3162348693438162%5D%2C%20%5B103.66541201355363%2C%201.3138836224312627%5D%2C%20%5B103.66406335513977%2C%201.311532192956406%5D%2C%20%5B103.66136572354935%2C%201.3115320076960302%5D%2C%20%5B103.66001674587619%2C%201.3138832519105677%5D%5D%5D%2C%20%22type%22%3A%20%22Polygon%22%7D%2C%20%22id%22%3A%20%220%22%2C%20%22properties%22%3A%20%7B%7D%2C%20%22type%22%3A%20%22Feature%22%7D%5D%2C%20%22type%22%3A%20%22FeatureCollection%22%7D%29%3B%0A%0A%20%20%20%20%20%20%20%20%0A%20%20%20%20%0A%20%20%20%20%20%20%20%20function%20geo_json_3f891e9896664b50b20f3b0e34bae549_styler%28feature%29%20%7B%0A%20%20%20%20%20%20%20%20%20%20%20%20switch%28feature.id%29%20%7B%0A%20%20%20%20%20%20%20%20%20%20%20%20%20%20%20%20default%3A%0A%20%20%20%20%20%20%20%20%20%20%20%20%20%20%20%20%20%20%20%20return%20%7B%22color%22%3A%20%22grey%22%2C%20%22fillColor%22%3A%20%22%2300000000%22%2C%20%22opacity%22%3A%200.8%7D%3B%0A%20%20%20%20%20%20%20%20%20%20%20%20%7D%0A%20%20%20%20%20%20%20%20%7D%0A%0A%20%20%20%20%20%20%20%20function%20geo_json_3f891e9896664b50b20f3b0e34bae549_onEachFeature%28feature%2C%20layer%29%20%7B%0A%20%20%20%20%20%20%20%20%20%20%20%20layer.on%28%7B%0A%20%20%20%20%20%20%20%20%20%20%20%20%7D%29%3B%0A%20%20%20%20%20%20%20%20%7D%3B%0A%20%20%20%20%20%20%20%20var%20geo_json_3f891e9896664b50b20f3b0e34bae549%20%3D%20L.geoJson%28null%2C%20%7B%0A%20%20%20%20%20%20%20%20%20%20%20%20%20%20%20%20onEachFeature%3A%20geo_json_3f891e9896664b50b20f3b0e34bae549_onEachFeature%2C%0A%20%20%20%20%20%20%20%20%20%20%20%20%0A%20%20%20%20%20%20%20%20%20%20%20%20%20%20%20%20style%3A%20geo_json_3f891e9896664b50b20f3b0e34bae549_styler%2C%0A%20%20%20%20%20%20%20%20%7D%29%3B%0A%0A%20%20%20%20%20%20%20%20function%20geo_json_3f891e9896664b50b20f3b0e34bae549_add%20%28data%29%20%7B%0A%20%20%20%20%20%20%20%20%20%20%20%20geo_json_3f891e9896664b50b20f3b0e34bae549%0A%20%20%20%20%20%20%20%20%20%20%20%20%20%20%20%20.addData%28data%29%0A%20%20%20%20%20%20%20%20%20%20%20%20%20%20%20%20.addTo%28map_3362e960a2d349eba9a11488e57ff808%29%3B%0A%20%20%20%20%20%20%20%20%7D%0A%20%20%20%20%20%20%20%20%20%20%20%20geo_json_3f891e9896664b50b20f3b0e34bae549_add%28%7B%22bbox%22%3A%20%5B103.69643495850659%2C%201.309182918257136%2C%20103.70183023068068%2C%201.3138857466299783%5D%2C%20%22features%22%3A%20%5B%7B%22bbox%22%3A%20%5B103.69643495850659%2C%201.309182918257136%2C%20103.70183023068068%2C%201.3138857466299783%5D%2C%20%22geometry%22%3A%20%7B%22coordinates%22%3A%20%5B%5B%5B103.69643495850659%2C%201.3115341858540432%5D%2C%20%5B103.69778364929601%2C%201.3138856009397841%5D%2C%20%5B103.70048128808105%2C%201.3138857466299783%5D%2C%20%5B103.70183023068068%2C%201.311534476335055%5D%2C%20%5B103.70048153629392%2C%201.3091830630479535%5D%2C%20%5B103.69778390290486%2C%201.309182918257136%5D%2C%20%5B103.69643495850659%2C%201.3115341858540432%5D%5D%5D%2C%20%22type%22%3A%20%22Polygon%22%7D%2C%20%22id%22%3A%20%220%22%2C%20%22properties%22%3A%20%7B%7D%2C%20%22type%22%3A%20%22Feature%22%7D%5D%2C%20%22type%22%3A%20%22FeatureCollection%22%7D%29%3B%0A%0A%20%20%20%20%20%20%20%20%0A%20%20%20%20%0A%20%20%20%20%20%20%20%20function%20geo_json_c81cab5876b744758d665f83bc7b5afe_styler%28feature%29%20%7B%0A%20%20%20%20%20%20%20%20%20%20%20%20switch%28feature.id%29%20%7B%0A%20%20%20%20%20%20%20%20%20%20%20%20%20%20%20%20default%3A%0A%20%20%20%20%20%20%20%20%20%20%20%20%20%20%20%20%20%20%20%20return%20%7B%22color%22%3A%20%22grey%22%2C%20%22fillColor%22%3A%20%22%2300000000%22%2C%20%22opacity%22%3A%200.8%7D%3B%0A%20%20%20%20%20%20%20%20%20%20%20%20%7D%0A%20%20%20%20%20%20%20%20%7D%0A%0A%20%20%20%20%20%20%20%20function%20geo_json_c81cab5876b744758d665f83bc7b5afe_onEachFeature%28feature%2C%20layer%29%20%7B%0A%20%20%20%20%20%20%20%20%20%20%20%20layer.on%28%7B%0A%20%20%20%20%20%20%20%20%20%20%20%20%7D%29%3B%0A%20%20%20%20%20%20%20%20%7D%3B%0A%20%20%20%20%20%20%20%20var%20geo_json_c81cab5876b744758d665f83bc7b5afe%20%3D%20L.geoJson%28null%2C%20%7B%0A%20%20%20%20%20%20%20%20%20%20%20%20%20%20%20%20onEachFeature%3A%20geo_json_c81cab5876b744758d665f83bc7b5afe_onEachFeature%2C%0A%20%20%20%20%20%20%20%20%20%20%20%20%0A%20%20%20%20%20%20%20%20%20%20%20%20%20%20%20%20style%3A%20geo_json_c81cab5876b744758d665f83bc7b5afe_styler%2C%0A%20%20%20%20%20%20%20%20%7D%29%3B%0A%0A%20%20%20%20%20%20%20%20function%20geo_json_c81cab5876b744758d665f83bc7b5afe_add%20%28data%29%20%7B%0A%20%20%20%20%20%20%20%20%20%20%20%20geo_json_c81cab5876b744758d665f83bc7b5afe%0A%20%20%20%20%20%20%20%20%20%20%20%20%20%20%20%20.addData%28data%29%0A%20%20%20%20%20%20%20%20%20%20%20%20%20%20%20%20.addTo%28map_3362e960a2d349eba9a11488e57ff808%29%3B%0A%20%20%20%20%20%20%20%20%7D%0A%20%20%20%20%20%20%20%20%20%20%20%20geo_json_c81cab5876b744758d665f83bc7b5afe_add%28%7B%22bbox%22%3A%20%5B103.70048178360747%2C%201.3021291082717994%2C%20103.70587704049308%2C%201.306831933047306%5D%2C%20%22features%22%3A%20%5B%7B%22bbox%22%3A%20%5B103.70048178360747%2C%201.3021291082717994%2C%20103.70587704049308%2C%201.306831933047306%5D%2C%20%22geometry%22%3A%20%7B%22coordinates%22%3A%20%5B%5B%5B103.70048178360747%2C%201.3044803794659856%5D%2C%20%5B103.70183047529628%2C%201.306831792753087%5D%2C%20%5B103.7045281068867%2C%201.306831933047306%5D%2C%20%5B103.70587704049308%2C%201.3044806600544803%5D%2C%20%5B103.70452834610637%2C%201.3021292485660183%5D%2C%20%5B103.70183071901255%2C%201.3021291082717994%5D%2C%20%5B103.70048178360747%2C%201.3044803794659856%5D%5D%5D%2C%20%22type%22%3A%20%22Polygon%22%7D%2C%20%22id%22%3A%20%220%22%2C%20%22properties%22%3A%20%7B%7D%2C%20%22type%22%3A%20%22Feature%22%7D%5D%2C%20%22type%22%3A%20%22FeatureCollection%22%7D%29%3B%0A%0A%20%20%20%20%20%20%20%20%0A%20%20%20%20%0A%20%20%20%20%20%20%20%20function%20geo_json_80b0b6c23b794e6690aa6a855831d06b_styler%28feature%29%20%7B%0A%20%20%20%20%20%20%20%20%20%20%20%20switch%28feature.id%29%20%7B%0A%20%20%20%20%20%20%20%20%20%20%20%20%20%20%20%20default%3A%0A%20%20%20%20%20%20%20%20%20%20%20%20%20%20%20%20%20%20%20%20return%20%7B%22color%22%3A%20%22grey%22%2C%20%22fillColor%22%3A%20%22%2300000000%22%2C%20%22opacity%22%3A%200.8%7D%3B%0A%20%20%20%20%20%20%20%20%20%20%20%20%7D%0A%20%20%20%20%20%20%20%20%7D%0A%0A%20%20%20%20%20%20%20%20function%20geo_json_80b0b6c23b794e6690aa6a855831d06b_onEachFeature%28feature%2C%20layer%29%20%7B%0A%20%20%20%20%20%20%20%20%20%20%20%20layer.on%28%7B%0A%20%20%20%20%20%20%20%20%20%20%20%20%7D%29%3B%0A%20%20%20%20%20%20%20%20%7D%3B%0A%20%20%20%20%20%20%20%20var%20geo_json_80b0b6c23b794e6690aa6a855831d06b%20%3D%20L.geoJson%28null%2C%20%7B%0A%20%20%20%20%20%20%20%20%20%20%20%20%20%20%20%20onEachFeature%3A%20geo_json_80b0b6c23b794e6690aa6a855831d06b_onEachFeature%2C%0A%20%20%20%20%20%20%20%20%20%20%20%20%0A%20%20%20%20%20%20%20%20%20%20%20%20%20%20%20%20style%3A%20geo_json_80b0b6c23b794e6690aa6a855831d06b_styler%2C%0A%20%20%20%20%20%20%20%20%7D%29%3B%0A%0A%20%20%20%20%20%20%20%20function%20geo_json_80b0b6c23b794e6690aa6a855831d06b_add%20%28data%29%20%7B%0A%20%20%20%20%20%20%20%20%20%20%20%20geo_json_80b0b6c23b794e6690aa6a855831d06b%0A%20%20%20%20%20%20%20%20%20%20%20%20%20%20%20%20.addData%28data%29%0A%20%20%20%20%20%20%20%20%20%20%20%20%20%20%20%20.addTo%28map_3362e960a2d349eba9a11488e57ff808%29%3B%0A%20%20%20%20%20%20%20%20%7D%0A%20%20%20%20%20%20%20%20%20%20%20%20geo_json_80b0b6c23b794e6690aa6a855831d06b_add%28%7B%22bbox%22%3A%20%5B103.70048153629392%2C%201.306831792753087%2C%20103.70587680397136%2C%201.3115346175286504%5D%2C%20%22features%22%3A%20%5B%7B%22bbox%22%3A%20%5B103.70048153629392%2C%201.306831792753087%2C%20103.70587680397136%2C%201.3115346175286504%5D%2C%20%22geometry%22%3A%20%7B%22coordinates%22%3A%20%5B%5B%5B103.70048153629392%2C%201.3091830630479535%5D%2C%20%5B103.70183023068068%2C%201.311534476335055%5D%2C%20%5B103.7045278667677%2C%201.3115346175286504%5D%2C%20%5B103.70587680397136%2C%201.309183344535768%5D%2C%20%5B103.7045281068867%2C%201.306831933047306%5D%2C%20%5B103.70183047529628%2C%201.306831792753087%5D%2C%20%5B103.70048153629392%2C%201.3091830630479535%5D%5D%5D%2C%20%22type%22%3A%20%22Polygon%22%7D%2C%20%22id%22%3A%20%220%22%2C%20%22properties%22%3A%20%7B%7D%2C%20%22type%22%3A%20%22Feature%22%7D%5D%2C%20%22type%22%3A%20%22FeatureCollection%22%7D%29%3B%0A%0A%20%20%20%20%20%20%20%20%0A%20%20%20%20%0A%20%20%20%20%20%20%20%20function%20geo_json_d6f9669b3bfd4a4db05ae715c6421e40_styler%28feature%29%20%7B%0A%20%20%20%20%20%20%20%20%20%20%20%20switch%28feature.id%29%20%7B%0A%20%20%20%20%20%20%20%20%20%20%20%20%20%20%20%20default%3A%0A%20%20%20%20%20%20%20%20%20%20%20%20%20%20%20%20%20%20%20%20return%20%7B%22color%22%3A%20%22grey%22%2C%20%22fillColor%22%3A%20%22%2300000000%22%2C%20%22opacity%22%3A%200.8%7D%3B%0A%20%20%20%20%20%20%20%20%20%20%20%20%7D%0A%20%20%20%20%20%20%20%20%7D%0A%0A%20%20%20%20%20%20%20%20function%20geo_json_d6f9669b3bfd4a4db05ae715c6421e40_onEachFeature%28feature%2C%20layer%29%20%7B%0A%20%20%20%20%20%20%20%20%20%20%20%20layer.on%28%7B%0A%20%20%20%20%20%20%20%20%20%20%20%20%7D%29%3B%0A%20%20%20%20%20%20%20%20%7D%3B%0A%20%20%20%20%20%20%20%20var%20geo_json_d6f9669b3bfd4a4db05ae715c6421e40%20%3D%20L.geoJson%28null%2C%20%7B%0A%20%20%20%20%20%20%20%20%20%20%20%20%20%20%20%20onEachFeature%3A%20geo_json_d6f9669b3bfd4a4db05ae715c6421e40_onEachFeature%2C%0A%20%20%20%20%20%20%20%20%20%20%20%20%0A%20%20%20%20%20%20%20%20%20%20%20%20%20%20%20%20style%3A%20geo_json_d6f9669b3bfd4a4db05ae715c6421e40_styler%2C%0A%20%20%20%20%20%20%20%20%7D%29%3B%0A%0A%20%20%20%20%20%20%20%20function%20geo_json_d6f9669b3bfd4a4db05ae715c6421e40_add%20%28data%29%20%7B%0A%20%20%20%20%20%20%20%20%20%20%20%20geo_json_d6f9669b3bfd4a4db05ae715c6421e40%0A%20%20%20%20%20%20%20%20%20%20%20%20%20%20%20%20.addData%28data%29%0A%20%20%20%20%20%20%20%20%20%20%20%20%20%20%20%20.addTo%28map_3362e960a2d349eba9a11488e57ff808%29%3B%0A%20%20%20%20%20%20%20%20%7D%0A%20%20%20%20%20%20%20%20%20%20%20%20geo_json_d6f9669b3bfd4a4db05ae715c6421e40_add%28%7B%22bbox%22%3A%20%5B103.70048128808105%2C%201.311534476335055%2C%20103.70587656565107%2C%201.316237302009938%5D%2C%20%22features%22%3A%20%5B%7B%22bbox%22%3A%20%5B103.70048128808105%2C%201.311534476335055%2C%20103.70587656565107%2C%201.316237302009938%5D%2C%20%22geometry%22%3A%20%7B%22coordinates%22%3A%20%5B%5B%5B103.70048128808105%2C%201.3138857466299783%5D%2C%20%5B103.7018299842664%2C%201.3162371608163426%5D%2C%20%5B103.70452762574939%2C%201.316237302009938%5D%2C%20%5B103.70587656565107%2C%201.3138860299163753%5D%2C%20%5B103.7045278667677%2C%201.3115346175286504%5D%2C%20%5B103.70183023068068%2C%201.311534476335055%5D%2C%20%5B103.70048128808105%2C%201.3138857466299783%5D%5D%5D%2C%20%22type%22%3A%20%22Polygon%22%7D%2C%20%22id%22%3A%20%220%22%2C%20%22properties%22%3A%20%7B%7D%2C%20%22type%22%3A%20%22Feature%22%7D%5D%2C%20%22type%22%3A%20%22FeatureCollection%22%7D%29%3B%0A%0A%20%20%20%20%20%20%20%20%0A%20%20%20%20%0A%20%20%20%20%20%20%20%20function%20geo_json_0e60bb50f86b41e681da54e677abb5d5_styler%28feature%29%20%7B%0A%20%20%20%20%20%20%20%20%20%20%20%20switch%28feature.id%29%20%7B%0A%20%20%20%20%20%20%20%20%20%20%20%20%20%20%20%20default%3A%0A%20%20%20%20%20%20%20%20%20%20%20%20%20%20%20%20%20%20%20%20return%20%7B%22color%22%3A%20%22grey%22%2C%20%22fillColor%22%3A%20%22%2300000000%22%2C%20%22opacity%22%3A%200.8%7D%3B%0A%20%20%20%20%20%20%20%20%20%20%20%20%7D%0A%20%20%20%20%20%20%20%20%7D%0A%0A%20%20%20%20%20%20%20%20function%20geo_json_0e60bb50f86b41e681da54e677abb5d5_onEachFeature%28feature%2C%20layer%29%20%7B%0A%20%20%20%20%20%20%20%20%20%20%20%20layer.on%28%7B%0A%20%20%20%20%20%20%20%20%20%20%20%20%7D%29%3B%0A%20%20%20%20%20%20%20%20%7D%3B%0A%20%20%20%20%20%20%20%20var%20geo_json_0e60bb50f86b41e681da54e677abb5d5%20%3D%20L.geoJson%28null%2C%20%7B%0A%20%20%20%20%20%20%20%20%20%20%20%20%20%20%20%20onEachFeature%3A%20geo_json_0e60bb50f86b41e681da54e677abb5d5_onEachFeature%2C%0A%20%20%20%20%20%20%20%20%20%20%20%20%0A%20%20%20%20%20%20%20%20%20%20%20%20%20%20%20%20style%3A%20geo_json_0e60bb50f86b41e681da54e677abb5d5_styler%2C%0A%20%20%20%20%20%20%20%20%7D%29%3B%0A%0A%20%20%20%20%20%20%20%20function%20geo_json_0e60bb50f86b41e681da54e677abb5d5_add%20%28data%29%20%7B%0A%20%20%20%20%20%20%20%20%20%20%20%20geo_json_0e60bb50f86b41e681da54e677abb5d5%0A%20%20%20%20%20%20%20%20%20%20%20%20%20%20%20%20.addData%28data%29%0A%20%20%20%20%20%20%20%20%20%20%20%20%20%20%20%20.addTo%28map_3362e960a2d349eba9a11488e57ff808%29%3B%0A%20%20%20%20%20%20%20%20%7D%0A%20%20%20%20%20%20%20%20%20%20%20%20geo_json_0e60bb50f86b41e681da54e677abb5d5_add%28%7B%22bbox%22%3A%20%5B103.7045278667677%2C%201.309183344535768%2C%20103.70992313984107%2C%201.313886166613372%5D%2C%20%22features%22%3A%20%5B%7B%22bbox%22%3A%20%5B103.7045278667677%2C%201.309183344535768%2C%20103.70992313984107%2C%201.313886166613372%5D%2C%20%22geometry%22%3A%20%7B%22coordinates%22%3A%20%5B%5B%5B103.7045278667677%2C%201.3115346175286504%5D%2C%20%5B103.70587656565107%2C%201.3138860299163753%5D%2C%20%5B103.70857420533537%2C%201.313886166613372%5D%2C%20%5B103.70992313984107%2C%201.3115348918218501%5D%2C%20%5B103.7085744382598%2C%201.309183481232708%5D%2C%20%5B103.70587680397136%2C%201.309183344535768%5D%2C%20%5B103.7045278667677%2C%201.3115346175286504%5D%5D%5D%2C%20%22type%22%3A%20%22Polygon%22%7D%2C%20%22id%22%3A%20%220%22%2C%20%22properties%22%3A%20%7B%7D%2C%20%22type%22%3A%20%22Feature%22%7D%5D%2C%20%22type%22%3A%20%22FeatureCollection%22%7D%29%3B%0A%0A%20%20%20%20%20%20%20%20%0A%20%20%20%20%0A%20%20%20%20%20%20%20%20function%20geo_json_335e3a1c93ea407287ec8e09e338f77e_styler%28feature%29%20%7B%0A%20%20%20%20%20%20%20%20%20%20%20%20switch%28feature.id%29%20%7B%0A%20%20%20%20%20%20%20%20%20%20%20%20%20%20%20%20default%3A%0A%20%20%20%20%20%20%20%20%20%20%20%20%20%20%20%20%20%20%20%20return%20%7B%22color%22%3A%20%22grey%22%2C%20%22fillColor%22%3A%20%22%2300000000%22%2C%20%22opacity%22%3A%200.8%7D%3B%0A%20%20%20%20%20%20%20%20%20%20%20%20%7D%0A%20%20%20%20%20%20%20%20%7D%0A%0A%20%20%20%20%20%20%20%20function%20geo_json_335e3a1c93ea407287ec8e09e338f77e_onEachFeature%28feature%2C%20layer%29%20%7B%0A%20%20%20%20%20%20%20%20%20%20%20%20layer.on%28%7B%0A%20%20%20%20%20%20%20%20%20%20%20%20%7D%29%3B%0A%20%20%20%20%20%20%20%20%7D%3B%0A%20%20%20%20%20%20%20%20var%20geo_json_335e3a1c93ea407287ec8e09e338f77e%20%3D%20L.geoJson%28null%2C%20%7B%0A%20%20%20%20%20%20%20%20%20%20%20%20%20%20%20%20onEachFeature%3A%20geo_json_335e3a1c93ea407287ec8e09e338f77e_onEachFeature%2C%0A%20%20%20%20%20%20%20%20%20%20%20%20%0A%20%20%20%20%20%20%20%20%20%20%20%20%20%20%20%20style%3A%20geo_json_335e3a1c93ea407287ec8e09e338f77e_styler%2C%0A%20%20%20%20%20%20%20%20%7D%29%3B%0A%0A%20%20%20%20%20%20%20%20function%20geo_json_335e3a1c93ea407287ec8e09e338f77e_add%20%28data%29%20%7B%0A%20%20%20%20%20%20%20%20%20%20%20%20geo_json_335e3a1c93ea407287ec8e09e338f77e%0A%20%20%20%20%20%20%20%20%20%20%20%20%20%20%20%20.addData%28data%29%0A%20%20%20%20%20%20%20%20%20%20%20%20%20%20%20%20.addTo%28map_3362e960a2d349eba9a11488e57ff808%29%3B%0A%20%20%20%20%20%20%20%20%7D%0A%20%20%20%20%20%20%20%20%20%20%20%20geo_json_335e3a1c93ea407287ec8e09e338f77e_add%28%7B%22bbox%22%3A%20%5B103.70452762574939%2C%201.3138860299163753%2C%20103.70992290961465%2C%201.3185888519939795%5D%2C%20%22features%22%3A%20%5B%7B%22bbox%22%3A%20%5B103.70452762574939%2C%201.3138860299163753%2C%20103.70992290961465%2C%201.3185888519939795%5D%2C%20%22geometry%22%3A%20%7B%22coordinates%22%3A%20%5B%5B%5B103.70452762574939%2C%201.316237302009938%5D%2C%20%5B103.70587632733071%2C%201.3185887143977197%5D%2C%20%5B103.70857397151161%2C%201.3185888519939795%5D%2C%20%5B103.70992290961465%2C%201.3162375772024575%5D%2C%20%5B103.70857420533537%2C%201.313886166613372%5D%2C%20%5B103.70587656565107%2C%201.3138860299163753%5D%2C%20%5B103.70452762574939%2C%201.316237302009938%5D%5D%5D%2C%20%22type%22%3A%20%22Polygon%22%7D%2C%20%22id%22%3A%20%220%22%2C%20%22properties%22%3A%20%7B%7D%2C%20%22type%22%3A%20%22Feature%22%7D%5D%2C%20%22type%22%3A%20%22FeatureCollection%22%7D%29%3B%0A%0A%20%20%20%20%20%20%20%20%0A%20%20%20%20%0A%20%20%20%20%20%20%20%20function%20geo_json_2e07e7db0377412988d465cd364a47fa_styler%28feature%29%20%7B%0A%20%20%20%20%20%20%20%20%20%20%20%20switch%28feature.id%29%20%7B%0A%20%20%20%20%20%20%20%20%20%20%20%20%20%20%20%20default%3A%0A%20%20%20%20%20%20%20%20%20%20%20%20%20%20%20%20%20%20%20%20return%20%7B%22color%22%3A%20%22grey%22%2C%20%22fillColor%22%3A%20%22%2300000000%22%2C%20%22opacity%22%3A%200.8%7D%3B%0A%20%20%20%20%20%20%20%20%20%20%20%20%7D%0A%20%20%20%20%20%20%20%20%7D%0A%0A%20%20%20%20%20%20%20%20function%20geo_json_2e07e7db0377412988d465cd364a47fa_onEachFeature%28feature%2C%20layer%29%20%7B%0A%20%20%20%20%20%20%20%20%20%20%20%20layer.on%28%7B%0A%20%20%20%20%20%20%20%20%20%20%20%20%7D%29%3B%0A%20%20%20%20%20%20%20%20%7D%3B%0A%20%20%20%20%20%20%20%20var%20geo_json_2e07e7db0377412988d465cd364a47fa%20%3D%20L.geoJson%28null%2C%20%7B%0A%20%20%20%20%20%20%20%20%20%20%20%20%20%20%20%20onEachFeature%3A%20geo_json_2e07e7db0377412988d465cd364a47fa_onEachFeature%2C%0A%20%20%20%20%20%20%20%20%20%20%20%20%0A%20%20%20%20%20%20%20%20%20%20%20%20%20%20%20%20style%3A%20geo_json_2e07e7db0377412988d465cd364a47fa_styler%2C%0A%20%20%20%20%20%20%20%20%7D%29%3B%0A%0A%20%20%20%20%20%20%20%20function%20geo_json_2e07e7db0377412988d465cd364a47fa_add%20%28data%29%20%7B%0A%20%20%20%20%20%20%20%20%20%20%20%20geo_json_2e07e7db0377412988d465cd364a47fa%0A%20%20%20%20%20%20%20%20%20%20%20%20%20%20%20%20.addData%28data%29%0A%20%20%20%20%20%20%20%20%20%20%20%20%20%20%20%20.addTo%28map_3362e960a2d349eba9a11488e57ff808%29%3B%0A%20%20%20%20%20%20%20%20%7D%0A%20%20%20%20%20%20%20%20%20%20%20%20geo_json_2e07e7db0377412988d465cd364a47fa_add%28%7B%22bbox%22%3A%20%5B103.70452665358226%2C%201.332696766942263%2C%20103.70992197791702%2C%201.3373995908185066%5D%2C%20%22features%22%3A%20%5B%7B%22bbox%22%3A%20%5B103.70452665358226%2C%201.332696766942263%2C%20103.70992197791702%2C%201.3373995908185066%5D%2C%20%22geometry%22%3A%20%7B%22coordinates%22%3A%20%5B%5B%5B103.70452665358226%2C%201.335048038136506%5D%2C%20%5B103.70587536325746%2C%201.3373994514236074%5D%2C%20%5B103.70857302812283%2C%201.3373995908185066%5D%2C%20%5B103.70992197791702%2C%201.3350483169263612%5D%2C%20%5B103.7085732655438%2C%201.332696906337219%5D%2C%20%5B103.70587560607441%2C%201.332696766942263%5D%2C%20%5B103.70452665358226%2C%201.335048038136506%5D%5D%5D%2C%20%22type%22%3A%20%22Polygon%22%7D%2C%20%22id%22%3A%20%220%22%2C%20%22properties%22%3A%20%7B%7D%2C%20%22type%22%3A%20%22Feature%22%7D%5D%2C%20%22type%22%3A%20%22FeatureCollection%22%7D%29%3B%0A%0A%20%20%20%20%20%20%20%20%0A%20%20%20%20%0A%20%20%20%20%20%20%20%20function%20geo_json_4730f968d2ad4e48bea896b68772b3e2_styler%28feature%29%20%7B%0A%20%20%20%20%20%20%20%20%20%20%20%20switch%28feature.id%29%20%7B%0A%20%20%20%20%20%20%20%20%20%20%20%20%20%20%20%20default%3A%0A%20%20%20%20%20%20%20%20%20%20%20%20%20%20%20%20%20%20%20%20return%20%7B%22color%22%3A%20%22grey%22%2C%20%22fillColor%22%3A%20%22%2300000000%22%2C%20%22opacity%22%3A%200.8%7D%3B%0A%20%20%20%20%20%20%20%20%20%20%20%20%7D%0A%20%20%20%20%20%20%20%20%7D%0A%0A%20%20%20%20%20%20%20%20function%20geo_json_4730f968d2ad4e48bea896b68772b3e2_onEachFeature%28feature%2C%20layer%29%20%7B%0A%20%20%20%20%20%20%20%20%20%20%20%20layer.on%28%7B%0A%20%20%20%20%20%20%20%20%20%20%20%20%7D%29%3B%0A%20%20%20%20%20%20%20%20%7D%3B%0A%20%20%20%20%20%20%20%20var%20geo_json_4730f968d2ad4e48bea896b68772b3e2%20%3D%20L.geoJson%28null%2C%20%7B%0A%20%20%20%20%20%20%20%20%20%20%20%20%20%20%20%20onEachFeature%3A%20geo_json_4730f968d2ad4e48bea896b68772b3e2_onEachFeature%2C%0A%20%20%20%20%20%20%20%20%20%20%20%20%0A%20%20%20%20%20%20%20%20%20%20%20%20%20%20%20%20style%3A%20geo_json_4730f968d2ad4e48bea896b68772b3e2_styler%2C%0A%20%20%20%20%20%20%20%20%7D%29%3B%0A%0A%20%20%20%20%20%20%20%20function%20geo_json_4730f968d2ad4e48bea896b68772b3e2_add%20%28data%29%20%7B%0A%20%20%20%20%20%20%20%20%20%20%20%20geo_json_4730f968d2ad4e48bea896b68772b3e2%0A%20%20%20%20%20%20%20%20%20%20%20%20%20%20%20%20.addData%28data%29%0A%20%20%20%20%20%20%20%20%20%20%20%20%20%20%20%20.addTo%28map_3362e960a2d349eba9a11488e57ff808%29%3B%0A%20%20%20%20%20%20%20%20%7D%0A%20%20%20%20%20%20%20%20%20%20%20%20geo_json_4730f968d2ad4e48bea896b68772b3e2_add%28%7B%22bbox%22%3A%20%5B103.7085732655438%2C%201.3303456324450167%2C%20103.71396858538196%2C%201.3350484518246617%5D%2C%20%22features%22%3A%20%5B%7B%22bbox%22%3A%20%5B103.7085732655438%2C%201.3303456324450167%2C%20103.71396858538196%2C%201.3350484518246617%5D%2C%20%22geometry%22%3A%20%7B%22coordinates%22%3A%20%5B%5B%5B103.7085732655438%2C%201.332696906337219%5D%2C%20%5B103.70992197791702%2C%201.3350483169263612%5D%2C%20%5B103.71261964098369%2C%201.3350484518246617%5D%2C%20%5B103.71396858538196%2C%201.3326971752345003%5D%2C%20%5B103.71261986941153%2C%201.3303457664439975%5D%2C%20%5B103.70992221264004%2C%201.3303456324450167%5D%2C%20%5B103.7085732655438%2C%201.332696906337219%5D%5D%5D%2C%20%22type%22%3A%20%22Polygon%22%7D%2C%20%22id%22%3A%20%220%22%2C%20%22properties%22%3A%20%7B%7D%2C%20%22type%22%3A%20%22Feature%22%7D%5D%2C%20%22type%22%3A%20%22FeatureCollection%22%7D%29%3B%0A%0A%20%20%20%20%20%20%20%20%0A%20%20%20%20%0A%20%20%20%20%20%20%20%20function%20geo_json_c773e38cbc8b486a8cfc7b3155501f90_styler%28feature%29%20%7B%0A%20%20%20%20%20%20%20%20%20%20%20%20switch%28feature.id%29%20%7B%0A%20%20%20%20%20%20%20%20%20%20%20%20%20%20%20%20default%3A%0A%20%20%20%20%20%20%20%20%20%20%20%20%20%20%20%20%20%20%20%20return%20%7B%22color%22%3A%20%22grey%22%2C%20%22fillColor%22%3A%20%22%2300000000%22%2C%20%22opacity%22%3A%200.8%7D%3B%0A%20%20%20%20%20%20%20%20%20%20%20%20%7D%0A%20%20%20%20%20%20%20%20%7D%0A%0A%20%20%20%20%20%20%20%20function%20geo_json_c773e38cbc8b486a8cfc7b3155501f90_onEachFeature%28feature%2C%20layer%29%20%7B%0A%20%20%20%20%20%20%20%20%20%20%20%20layer.on%28%7B%0A%20%20%20%20%20%20%20%20%20%20%20%20%7D%29%3B%0A%20%20%20%20%20%20%20%20%7D%3B%0A%20%20%20%20%20%20%20%20var%20geo_json_c773e38cbc8b486a8cfc7b3155501f90%20%3D%20L.geoJson%28null%2C%20%7B%0A%20%20%20%20%20%20%20%20%20%20%20%20%20%20%20%20onEachFeature%3A%20geo_json_c773e38cbc8b486a8cfc7b3155501f90_onEachFeature%2C%0A%20%20%20%20%20%20%20%20%20%20%20%20%0A%20%20%20%20%20%20%20%20%20%20%20%20%20%20%20%20style%3A%20geo_json_c773e38cbc8b486a8cfc7b3155501f90_styler%2C%0A%20%20%20%20%20%20%20%20%7D%29%3B%0A%0A%20%20%20%20%20%20%20%20function%20geo_json_c773e38cbc8b486a8cfc7b3155501f90_add%20%28data%29%20%7B%0A%20%20%20%20%20%20%20%20%20%20%20%20geo_json_c773e38cbc8b486a8cfc7b3155501f90%0A%20%20%20%20%20%20%20%20%20%20%20%20%20%20%20%20.addData%28data%29%0A%20%20%20%20%20%20%20%20%20%20%20%20%20%20%20%20.addTo%28map_3362e960a2d349eba9a11488e57ff808%29%3B%0A%20%20%20%20%20%20%20%20%7D%0A%20%20%20%20%20%20%20%20%20%20%20%20geo_json_c773e38cbc8b486a8cfc7b3155501f90_add%28%7B%22bbox%22%3A%20%5B103.70857302812283%2C%201.3350483169263612%2C%20103.71396835875282%2C%201.339751137205269%5D%2C%20%22features%22%3A%20%5B%7B%22bbox%22%3A%20%5B103.70857302812283%2C%201.3350483169263612%2C%20103.71396835875282%2C%201.339751137205269%5D%2C%20%22geometry%22%3A%20%7B%22coordinates%22%3A%20%5B%5B%5B103.70857302812283%2C%201.3373995908185066%5D%2C%20%5B103.70992174319395%2C%201.3397510014076488%5D%2C%20%5B103.71261941075727%2C%201.339751137205269%5D%2C%20%5B103.71396835875282%2C%201.3373998606151076%5D%2C%20%5B103.71261964098369%2C%201.3350484518246617%5D%2C%20%5B103.70992197791702%2C%201.3350483169263612%5D%2C%20%5B103.70857302812283%2C%201.3373995908185066%5D%5D%5D%2C%20%22type%22%3A%20%22Polygon%22%7D%2C%20%22id%22%3A%20%220%22%2C%20%22properties%22%3A%20%7B%7D%2C%20%22type%22%3A%20%22Feature%22%7D%5D%2C%20%22type%22%3A%20%22FeatureCollection%22%7D%29%3B%0A%0A%20%20%20%20%20%20%20%20%0A%20%20%20%20%0A%20%20%20%20%20%20%20%20function%20geo_json_934fba148141464d8a8fef33f57cd7ff_styler%28feature%29%20%7B%0A%20%20%20%20%20%20%20%20%20%20%20%20switch%28feature.id%29%20%7B%0A%20%20%20%20%20%20%20%20%20%20%20%20%20%20%20%20default%3A%0A%20%20%20%20%20%20%20%20%20%20%20%20%20%20%20%20%20%20%20%20return%20%7B%22color%22%3A%20%22grey%22%2C%20%22fillColor%22%3A%20%22%2300000000%22%2C%20%22opacity%22%3A%200.8%7D%3B%0A%20%20%20%20%20%20%20%20%20%20%20%20%7D%0A%20%20%20%20%20%20%20%20%7D%0A%0A%20%20%20%20%20%20%20%20function%20geo_json_934fba148141464d8a8fef33f57cd7ff_onEachFeature%28feature%2C%20layer%29%20%7B%0A%20%20%20%20%20%20%20%20%20%20%20%20layer.on%28%7B%0A%20%20%20%20%20%20%20%20%20%20%20%20%7D%29%3B%0A%20%20%20%20%20%20%20%20%7D%3B%0A%20%20%20%20%20%20%20%20var%20geo_json_934fba148141464d8a8fef33f57cd7ff%20%3D%20L.geoJson%28null%2C%20%7B%0A%20%20%20%20%20%20%20%20%20%20%20%20%20%20%20%20onEachFeature%3A%20geo_json_934fba148141464d8a8fef33f57cd7ff_onEachFeature%2C%0A%20%20%20%20%20%20%20%20%20%20%20%20%0A%20%20%20%20%20%20%20%20%20%20%20%20%20%20%20%20style%3A%20geo_json_934fba148141464d8a8fef33f57cd7ff_styler%2C%0A%20%20%20%20%20%20%20%20%7D%29%3B%0A%0A%20%20%20%20%20%20%20%20function%20geo_json_934fba148141464d8a8fef33f57cd7ff_add%20%28data%29%20%7B%0A%20%20%20%20%20%20%20%20%20%20%20%20geo_json_934fba148141464d8a8fef33f57cd7ff%0A%20%20%20%20%20%20%20%20%20%20%20%20%20%20%20%20.addData%28data%29%0A%20%20%20%20%20%20%20%20%20%20%20%20%20%20%20%20.addTo%28map_3362e960a2d349eba9a11488e57ff808%29%3B%0A%20%20%20%20%20%20%20%20%7D%0A%20%20%20%20%20%20%20%20%20%20%20%20geo_json_934fba148141464d8a8fef33f57cd7ff_add%28%7B%22bbox%22%3A%20%5B103.70856836513798%2C%201.4243992923935025%2C%20103.71396389721616%2C%201.429102117169009%5D%2C%20%22features%22%3A%20%5B%7B%22bbox%22%3A%20%5B103.70856836513798%2C%201.4243992923935025%2C%20103.71396389721616%2C%201.429102117169009%5D%2C%20%22geometry%22%3A%20%7B%22coordinates%22%3A%20%5B%5B%5B103.70856836513798%2C%201.4267505599904098%5D%2C%20%5B103.70991712337661%2C%201.4291019732775112%5D%2C%20%5B103.71261489166397%2C%201.429102117169009%5D%2C%20%5B103.71396389721616%2C%201.4267508477734623%5D%2C%20%5B103.71261513717889%2C%201.4243994362850003%5D%2C%20%5B103.70991737338812%2C%201.4243992923935025%5D%2C%20%5B103.70856836513798%2C%201.4267505599904098%5D%5D%5D%2C%20%22type%22%3A%20%22Polygon%22%7D%2C%20%22id%22%3A%20%220%22%2C%20%22properties%22%3A%20%7B%7D%2C%20%22type%22%3A%20%22Feature%22%7D%5D%2C%20%22type%22%3A%20%22FeatureCollection%22%7D%29%3B%0A%0A%20%20%20%20%20%20%20%20%0A%20%20%20%20%0A%20%20%20%20%20%20%20%20function%20geo_json_996aae518cf34526b82d7bd7090b1f10_styler%28feature%29%20%7B%0A%20%20%20%20%20%20%20%20%20%20%20%20switch%28feature.id%29%20%7B%0A%20%20%20%20%20%20%20%20%20%20%20%20%20%20%20%20default%3A%0A%20%20%20%20%20%20%20%20%20%20%20%20%20%20%20%20%20%20%20%20return%20%7B%22color%22%3A%20%22grey%22%2C%20%22fillColor%22%3A%20%22%2300000000%22%2C%20%22opacity%22%3A%200.8%7D%3B%0A%20%20%20%20%20%20%20%20%20%20%20%20%7D%0A%20%20%20%20%20%20%20%20%7D%0A%0A%20%20%20%20%20%20%20%20function%20geo_json_996aae518cf34526b82d7bd7090b1f10_onEachFeature%28feature%2C%20layer%29%20%7B%0A%20%20%20%20%20%20%20%20%20%20%20%20layer.on%28%7B%0A%20%20%20%20%20%20%20%20%20%20%20%20%7D%29%3B%0A%20%20%20%20%20%20%20%20%7D%3B%0A%20%20%20%20%20%20%20%20var%20geo_json_996aae518cf34526b82d7bd7090b1f10%20%3D%20L.geoJson%28null%2C%20%7B%0A%20%20%20%20%20%20%20%20%20%20%20%20%20%20%20%20onEachFeature%3A%20geo_json_996aae518cf34526b82d7bd7090b1f10_onEachFeature%2C%0A%20%20%20%20%20%20%20%20%20%20%20%20%0A%20%20%20%20%20%20%20%20%20%20%20%20%20%20%20%20style%3A%20geo_json_996aae518cf34526b82d7bd7090b1f10_styler%2C%0A%20%20%20%20%20%20%20%20%7D%29%3B%0A%0A%20%20%20%20%20%20%20%20function%20geo_json_996aae518cf34526b82d7bd7090b1f10_add%20%28data%29%20%7B%0A%20%20%20%20%20%20%20%20%20%20%20%20geo_json_996aae518cf34526b82d7bd7090b1f10%0A%20%20%20%20%20%20%20%20%20%20%20%20%20%20%20%20.addData%28data%29%0A%20%20%20%20%20%20%20%20%20%20%20%20%20%20%20%20.addTo%28map_3362e960a2d349eba9a11488e57ff808%29%3B%0A%20%20%20%20%20%20%20%20%7D%0A%20%20%20%20%20%20%20%20%20%20%20%20geo_json_996aae518cf34526b82d7bd7090b1f10_add%28%7B%22bbox%22%3A%20%5B103.70856811152919%2C%201.4291019732775112%2C%20103.71396365439921%2C%201.4338047989523375%5D%2C%20%22features%22%3A%20%5B%7B%22bbox%22%3A%20%5B103.70856811152919%2C%201.4291019732775112%2C%20103.71396365439921%2C%201.4338047989523375%5D%2C%20%22geometry%22%3A%20%7B%22coordinates%22%3A%20%5B%5B%5B103.70856811152919%2C%201.4314532399750988%5D%2C%20%5B103.7099168715664%2C%201.43380465416152%5D%2C%20%5B103.71261464614906%2C%201.4338047989523375%5D%2C%20%5B103.71396365439921%2C%201.4314535295567907%5D%2C%20%5B103.71261489166397%2C%201.429102117169009%5D%2C%20%5B103.70991712337661%2C%201.4291019732775112%5D%2C%20%5B103.70856811152919%2C%201.4314532399750988%5D%5D%5D%2C%20%22type%22%3A%20%22Polygon%22%7D%2C%20%22id%22%3A%20%220%22%2C%20%22properties%22%3A%20%7B%7D%2C%20%22type%22%3A%20%22Feature%22%7D%5D%2C%20%22type%22%3A%20%22FeatureCollection%22%7D%29%3B%0A%0A%20%20%20%20%20%20%20%20%0A%20%20%20%20%0A%20%20%20%20%20%20%20%20function%20geo_json_b44ffe3dd30945a1b30799cbc60620d1_styler%28feature%29%20%7B%0A%20%20%20%20%20%20%20%20%20%20%20%20switch%28feature.id%29%20%7B%0A%20%20%20%20%20%20%20%20%20%20%20%20%20%20%20%20default%3A%0A%20%20%20%20%20%20%20%20%20%20%20%20%20%20%20%20%20%20%20%20return%20%7B%22color%22%3A%20%22grey%22%2C%20%22fillColor%22%3A%20%22%2300000000%22%2C%20%22opacity%22%3A%200.8%7D%3B%0A%20%20%20%20%20%20%20%20%20%20%20%20%7D%0A%20%20%20%20%20%20%20%20%7D%0A%0A%20%20%20%20%20%20%20%20function%20geo_json_b44ffe3dd30945a1b30799cbc60620d1_onEachFeature%28feature%2C%20layer%29%20%7B%0A%20%20%20%20%20%20%20%20%20%20%20%20layer.on%28%7B%0A%20%20%20%20%20%20%20%20%20%20%20%20%7D%29%3B%0A%20%20%20%20%20%20%20%20%7D%3B%0A%20%20%20%20%20%20%20%20var%20geo_json_b44ffe3dd30945a1b30799cbc60620d1%20%3D%20L.geoJson%28null%2C%20%7B%0A%20%20%20%20%20%20%20%20%20%20%20%20%20%20%20%20onEachFeature%3A%20geo_json_b44ffe3dd30945a1b30799cbc60620d1_onEachFeature%2C%0A%20%20%20%20%20%20%20%20%20%20%20%20%0A%20%20%20%20%20%20%20%20%20%20%20%20%20%20%20%20style%3A%20geo_json_b44ffe3dd30945a1b30799cbc60620d1_styler%2C%0A%20%20%20%20%20%20%20%20%7D%29%3B%0A%0A%20%20%20%20%20%20%20%20function%20geo_json_b44ffe3dd30945a1b30799cbc60620d1_add%20%28data%29%20%7B%0A%20%20%20%20%20%20%20%20%20%20%20%20geo_json_b44ffe3dd30945a1b30799cbc60620d1%0A%20%20%20%20%20%20%20%20%20%20%20%20%20%20%20%20.addData%28data%29%0A%20%20%20%20%20%20%20%20%20%20%20%20%20%20%20%20.addTo%28map_3362e960a2d349eba9a11488e57ff808%29%3B%0A%20%20%20%20%20%20%20%20%7D%0A%20%20%20%20%20%20%20%20%20%20%20%20geo_json_b44ffe3dd30945a1b30799cbc60620d1_add%28%7B%22bbox%22%3A%20%5B103.71261964098369%2C%201.3326971752345003%2C%20103.71801496711709%2C%201.3373999910168095%5D%2C%20%22features%22%3A%20%5B%7B%22bbox%22%3A%20%5B103.71261964098369%2C%201.3326971752345003%2C%20103.71801496711709%2C%201.3373999910168095%5D%2C%20%22geometry%22%3A%20%7B%22coordinates%22%3A%20%5B%5B%5B103.71261964098369%2C%201.3350484518246617%5D%2C%20%5B103.71396835875282%2C%201.3373998606151076%5D%2C%20%5B103.71666602451745%2C%201.3373999910168095%5D%2C%20%5B103.71801496711709%2C%201.3350487126280086%5D%2C%20%5B103.71666624575067%2C%201.3326973056362021%5D%2C%20%5B103.71396858538196%2C%201.3326971752345003%5D%2C%20%5B103.71261964098369%2C%201.3350484518246617%5D%5D%5D%2C%20%22type%22%3A%20%22Polygon%22%7D%2C%20%22id%22%3A%20%220%22%2C%20%22properties%22%3A%20%7B%7D%2C%20%22type%22%3A%20%22Feature%22%7D%5D%2C%20%22type%22%3A%20%22FeatureCollection%22%7D%29%3B%0A%0A%20%20%20%20%20%20%20%20%0A%20%20%20%20%0A%20%20%20%20%20%20%20%20function%20geo_json_4bda9832c1414baebfe2b81be6d55102_styler%28feature%29%20%7B%0A%20%20%20%20%20%20%20%20%20%20%20%20switch%28feature.id%29%20%7B%0A%20%20%20%20%20%20%20%20%20%20%20%20%20%20%20%20default%3A%0A%20%20%20%20%20%20%20%20%20%20%20%20%20%20%20%20%20%20%20%20return%20%7B%22color%22%3A%20%22grey%22%2C%20%22fillColor%22%3A%20%22%2300000000%22%2C%20%22opacity%22%3A%200.8%7D%3B%0A%20%20%20%20%20%20%20%20%20%20%20%20%7D%0A%20%20%20%20%20%20%20%20%7D%0A%0A%20%20%20%20%20%20%20%20function%20geo_json_4bda9832c1414baebfe2b81be6d55102_onEachFeature%28feature%2C%20layer%29%20%7B%0A%20%20%20%20%20%20%20%20%20%20%20%20layer.on%28%7B%0A%20%20%20%20%20%20%20%20%20%20%20%20%7D%29%3B%0A%20%20%20%20%20%20%20%20%7D%3B%0A%20%20%20%20%20%20%20%20var%20geo_json_4bda9832c1414baebfe2b81be6d55102%20%3D%20L.geoJson%28null%2C%20%7B%0A%20%20%20%20%20%20%20%20%20%20%20%20%20%20%20%20onEachFeature%3A%20geo_json_4bda9832c1414baebfe2b81be6d55102_onEachFeature%2C%0A%20%20%20%20%20%20%20%20%20%20%20%20%0A%20%20%20%20%20%20%20%20%20%20%20%20%20%20%20%20style%3A%20geo_json_4bda9832c1414baebfe2b81be6d55102_styler%2C%0A%20%20%20%20%20%20%20%20%7D%29%3B%0A%0A%20%20%20%20%20%20%20%20function%20geo_json_4bda9832c1414baebfe2b81be6d55102_add%20%28data%29%20%7B%0A%20%20%20%20%20%20%20%20%20%20%20%20geo_json_4bda9832c1414baebfe2b81be6d55102%0A%20%20%20%20%20%20%20%20%20%20%20%20%20%20%20%20.addData%28data%29%0A%20%20%20%20%20%20%20%20%20%20%20%20%20%20%20%20.addTo%28map_3362e960a2d349eba9a11488e57ff808%29%3B%0A%20%20%20%20%20%20%20%20%7D%0A%20%20%20%20%20%20%20%20%20%20%20%20geo_json_4bda9832c1414baebfe2b81be6d55102_add%28%7B%22bbox%22%3A%20%5B103.71261489166397%2C%201.4267508477734623%2C%20103.7180104300374%2C%201.43145366895169%5D%2C%20%22features%22%3A%20%5B%7B%22bbox%22%3A%20%5B103.71261489166397%2C%201.4267508477734623%2C%20103.7180104300374%2C%201.43145366895169%5D%2C%20%22geometry%22%3A%20%7B%22coordinates%22%3A%20%5B%5B%5B103.71261489166397%2C%201.429102117169009%5D%2C%20%5B103.71396365439921%2C%201.4314535295567907%5D%2C%20%5B103.71666142628385%2C%201.43145366895169%5D%2C%20%5B103.7180104300374%2C%201.429102396858184%5D%2C%20%5B103.71666166370488%2C%201.4267509871683615%5D%2C%20%5B103.71396389721616%2C%201.4267508477734623%5D%2C%20%5B103.71261489166397%2C%201.429102117169009%5D%5D%5D%2C%20%22type%22%3A%20%22Polygon%22%7D%2C%20%22id%22%3A%20%220%22%2C%20%22properties%22%3A%20%7B%7D%2C%20%22type%22%3A%20%22Feature%22%7D%5D%2C%20%22type%22%3A%20%22FeatureCollection%22%7D%29%3B%0A%0A%20%20%20%20%20%20%20%20%0A%20%20%20%20%0A%20%20%20%20%20%20%20%20function%20geo_json_443a352772d349288d94e16370ff11ec_styler%28feature%29%20%7B%0A%20%20%20%20%20%20%20%20%20%20%20%20switch%28feature.id%29%20%7B%0A%20%20%20%20%20%20%20%20%20%20%20%20%20%20%20%20default%3A%0A%20%20%20%20%20%20%20%20%20%20%20%20%20%20%20%20%20%20%20%20return%20%7B%22color%22%3A%20%22grey%22%2C%20%22fillColor%22%3A%20%22%2300000000%22%2C%20%22opacity%22%3A%200.8%7D%3B%0A%20%20%20%20%20%20%20%20%20%20%20%20%7D%0A%20%20%20%20%20%20%20%20%7D%0A%0A%20%20%20%20%20%20%20%20function%20geo_json_443a352772d349288d94e16370ff11ec_onEachFeature%28feature%2C%20layer%29%20%7B%0A%20%20%20%20%20%20%20%20%20%20%20%20layer.on%28%7B%0A%20%20%20%20%20%20%20%20%20%20%20%20%7D%29%3B%0A%20%20%20%20%20%20%20%20%7D%3B%0A%20%20%20%20%20%20%20%20var%20geo_json_443a352772d349288d94e16370ff11ec%20%3D%20L.geoJson%28null%2C%20%7B%0A%20%20%20%20%20%20%20%20%20%20%20%20%20%20%20%20onEachFeature%3A%20geo_json_443a352772d349288d94e16370ff11ec_onEachFeature%2C%0A%20%20%20%20%20%20%20%20%20%20%20%20%0A%20%20%20%20%20%20%20%20%20%20%20%20%20%20%20%20style%3A%20geo_json_443a352772d349288d94e16370ff11ec_styler%2C%0A%20%20%20%20%20%20%20%20%7D%29%3B%0A%0A%20%20%20%20%20%20%20%20function%20geo_json_443a352772d349288d94e16370ff11ec_add%20%28data%29%20%7B%0A%20%20%20%20%20%20%20%20%20%20%20%20geo_json_443a352772d349288d94e16370ff11ec%0A%20%20%20%20%20%20%20%20%20%20%20%20%20%20%20%20.addData%28data%29%0A%20%20%20%20%20%20%20%20%20%20%20%20%20%20%20%20.addTo%28map_3362e960a2d349eba9a11488e57ff808%29%3B%0A%20%20%20%20%20%20%20%20%7D%0A%20%20%20%20%20%20%20%20%20%20%20%20geo_json_443a352772d349288d94e16370ff11ec_add%28%7B%22bbox%22%3A%20%5B103.71261464614906%2C%201.4314535295567907%2C%20103.71801019531432%2C%201.4361563507350183%5D%2C%20%22features%22%3A%20%5B%7B%22bbox%22%3A%20%5B103.71261464614906%2C%201.4314535295567907%2C%20103.71801019531432%2C%201.4361563507350183%5D%2C%20%22geometry%22%3A%20%7B%22coordinates%22%3A%20%5B%5B%5B103.71261464614906%2C%201.4338047989523375%5D%2C%20%5B103.71396341158226%2C%201.4361562104407994%5D%2C%20%5B103.71666118886282%2C%201.4361563507350183%5D%2C%20%5B103.71801019531432%2C%201.4338050786415124%5D%2C%20%5B103.71666142628385%2C%201.43145366895169%5D%2C%20%5B103.71396365439921%2C%201.4314535295567907%5D%2C%20%5B103.71261464614906%2C%201.4338047989523375%5D%5D%5D%2C%20%22type%22%3A%20%22Polygon%22%7D%2C%20%22id%22%3A%20%220%22%2C%20%22properties%22%3A%20%7B%7D%2C%20%22type%22%3A%20%22Feature%22%7D%5D%2C%20%22type%22%3A%20%22FeatureCollection%22%7D%29%3B%0A%0A%20%20%20%20%20%20%20%20%0A%20%20%20%20%0A%20%20%20%20%20%20%20%20function%20geo_json_a3e7cda1624c40dbb5f85b0340389c0e_styler%28feature%29%20%7B%0A%20%20%20%20%20%20%20%20%20%20%20%20switch%28feature.id%29%20%7B%0A%20%20%20%20%20%20%20%20%20%20%20%20%20%20%20%20default%3A%0A%20%20%20%20%20%20%20%20%20%20%20%20%20%20%20%20%20%20%20%20return%20%7B%22color%22%3A%20%22grey%22%2C%20%22fillColor%22%3A%20%22%2300000000%22%2C%20%22opacity%22%3A%200.8%7D%3B%0A%20%20%20%20%20%20%20%20%20%20%20%20%7D%0A%20%20%20%20%20%20%20%20%7D%0A%0A%20%20%20%20%20%20%20%20function%20geo_json_a3e7cda1624c40dbb5f85b0340389c0e_onEachFeature%28feature%2C%20layer%29%20%7B%0A%20%20%20%20%20%20%20%20%20%20%20%20layer.on%28%7B%0A%20%20%20%20%20%20%20%20%20%20%20%20%7D%29%3B%0A%20%20%20%20%20%20%20%20%7D%3B%0A%20%20%20%20%20%20%20%20var%20geo_json_a3e7cda1624c40dbb5f85b0340389c0e%20%3D%20L.geoJson%28null%2C%20%7B%0A%20%20%20%20%20%20%20%20%20%20%20%20%20%20%20%20onEachFeature%3A%20geo_json_a3e7cda1624c40dbb5f85b0340389c0e_onEachFeature%2C%0A%20%20%20%20%20%20%20%20%20%20%20%20%0A%20%20%20%20%20%20%20%20%20%20%20%20%20%20%20%20style%3A%20geo_json_a3e7cda1624c40dbb5f85b0340389c0e_styler%2C%0A%20%20%20%20%20%20%20%20%7D%29%3B%0A%0A%20%20%20%20%20%20%20%20function%20geo_json_a3e7cda1624c40dbb5f85b0340389c0e_add%20%28data%29%20%7B%0A%20%20%20%20%20%20%20%20%20%20%20%20geo_json_a3e7cda1624c40dbb5f85b0340389c0e%0A%20%20%20%20%20%20%20%20%20%20%20%20%20%20%20%20.addData%28data%29%0A%20%20%20%20%20%20%20%20%20%20%20%20%20%20%20%20.addTo%28map_3362e960a2d349eba9a11488e57ff808%29%3B%0A%20%20%20%20%20%20%20%20%7D%0A%20%20%20%20%20%20%20%20%20%20%20%20geo_json_a3e7cda1624c40dbb5f85b0340389c0e_add%28%7B%22bbox%22%3A%20%5B103.71666777549751%2C%201.2974272178918227%2C%20103.72206302698714%2C%201.3021300282782136%5D%2C%20%22features%22%3A%20%5B%7B%22bbox%22%3A%20%5B103.71666777549751%2C%201.2974272178918227%2C%20103.72206302698714%2C%201.3021300282782136%5D%2C%20%22geometry%22%3A%20%7B%22coordinates%22%3A%20%5B%5B%5B103.71666777549751%2C%201.2997784998779025%5D%2C%20%5B103.71801648157543%2C%201.302129905970446%5D%2C%20%5B103.72071410956858%2C%201.3021300282782136%5D%2C%20%5B103.72206302698714%2C%201.2997787444934943%5D%2C%20%5B103.72071431821126%2C%201.297427340199647%5D%2C%20%5B103.71801669471478%2C%201.2974272178918227%5D%2C%20%5B103.71666777549751%2C%201.2997784998779025%5D%5D%5D%2C%20%22type%22%3A%20%22Polygon%22%7D%2C%20%22id%22%3A%20%220%22%2C%20%22properties%22%3A%20%7B%7D%2C%20%22type%22%3A%20%22Feature%22%7D%5D%2C%20%22type%22%3A%20%22FeatureCollection%22%7D%29%3B%0A%0A%20%20%20%20%20%20%20%20%0A%20%20%20%20%0A%20%20%20%20%20%20%20%20function%20geo_json_e6a7a63e308746ecbcc9869b9cfb12a1_styler%28feature%29%20%7B%0A%20%20%20%20%20%20%20%20%20%20%20%20switch%28feature.id%29%20%7B%0A%20%20%20%20%20%20%20%20%20%20%20%20%20%20%20%20default%3A%0A%20%20%20%20%20%20%20%20%20%20%20%20%20%20%20%20%20%20%20%20return%20%7B%22color%22%3A%20%22grey%22%2C%20%22fillColor%22%3A%20%22%2300000000%22%2C%20%22opacity%22%3A%200.8%7D%3B%0A%20%20%20%20%20%20%20%20%20%20%20%20%7D%0A%20%20%20%20%20%20%20%20%7D%0A%0A%20%20%20%20%20%20%20%20function%20geo_json_e6a7a63e308746ecbcc9869b9cfb12a1_onEachFeature%28feature%2C%20layer%29%20%7B%0A%20%20%20%20%20%20%20%20%20%20%20%20layer.on%28%7B%0A%20%20%20%20%20%20%20%20%20%20%20%20%7D%29%3B%0A%20%20%20%20%20%20%20%20%7D%3B%0A%20%20%20%20%20%20%20%20var%20geo_json_e6a7a63e308746ecbcc9869b9cfb12a1%20%3D%20L.geoJson%28null%2C%20%7B%0A%20%20%20%20%20%20%20%20%20%20%20%20%20%20%20%20onEachFeature%3A%20geo_json_e6a7a63e308746ecbcc9869b9cfb12a1_onEachFeature%2C%0A%20%20%20%20%20%20%20%20%20%20%20%20%0A%20%20%20%20%20%20%20%20%20%20%20%20%20%20%20%20style%3A%20geo_json_e6a7a63e308746ecbcc9869b9cfb12a1_styler%2C%0A%20%20%20%20%20%20%20%20%7D%29%3B%0A%0A%20%20%20%20%20%20%20%20function%20geo_json_e6a7a63e308746ecbcc9869b9cfb12a1_add%20%28data%29%20%7B%0A%20%20%20%20%20%20%20%20%20%20%20%20geo_json_e6a7a63e308746ecbcc9869b9cfb12a1%0A%20%20%20%20%20%20%20%20%20%20%20%20%20%20%20%20.addData%28data%29%0A%20%20%20%20%20%20%20%20%20%20%20%20%20%20%20%20.addTo%28map_3362e960a2d349eba9a11488e57ff808%29%3B%0A%20%20%20%20%20%20%20%20%7D%0A%20%20%20%20%20%20%20%20%20%20%20%20geo_json_e6a7a63e308746ecbcc9869b9cfb12a1_add%28%7B%22bbox%22%3A%20%5B103.72071390002651%2C%201.3044814325721177%2C%20103.72610916680469%2C%201.3091842393612296%5D%2C%20%22features%22%3A%20%5B%7B%22bbox%22%3A%20%5B103.72071390002651%2C%201.3044814325721177%2C%20103.72610916680469%2C%201.3091842393612296%5D%2C%20%22geometry%22%3A%20%7B%22coordinates%22%3A%20%5B%5B%5B103.72071390002651%2C%201.306832716356837%5D%2C%20%5B103.72206261329904%2C%201.3091841206506842%5D%2C%20%5B103.72476024938607%2C%201.3091842393612296%5D%2C%20%5B103.72610916680469%2C%201.306832953777814%5D%2C%20%5B103.7247604508342%2C%201.3044815512826062%5D%2C%20%5B103.7220628201431%2C%201.3044814325721177%5D%2C%20%5B103.72071390002651%2C%201.306832716356837%5D%5D%5D%2C%20%22type%22%3A%20%22Polygon%22%7D%2C%20%22id%22%3A%20%220%22%2C%20%22properties%22%3A%20%7B%7D%2C%20%22type%22%3A%20%22Feature%22%7D%5D%2C%20%22type%22%3A%20%22FeatureCollection%22%7D%29%3B%0A%0A%20%20%20%20%20%20%20%20%0A%20%20%20%20%0A%20%20%20%20%20%20%20%20function%20geo_json_c5afa76adacb4e4d9d4d8c529ff91ecb_styler%28feature%29%20%7B%0A%20%20%20%20%20%20%20%20%20%20%20%20switch%28feature.id%29%20%7B%0A%20%20%20%20%20%20%20%20%20%20%20%20%20%20%20%20default%3A%0A%20%20%20%20%20%20%20%20%20%20%20%20%20%20%20%20%20%20%20%20return%20%7B%22color%22%3A%20%22grey%22%2C%20%22fillColor%22%3A%20%22%2300000000%22%2C%20%22opacity%22%3A%200.8%7D%3B%0A%20%20%20%20%20%20%20%20%20%20%20%20%7D%0A%20%20%20%20%20%20%20%20%7D%0A%0A%20%20%20%20%20%20%20%20function%20geo_json_c5afa76adacb4e4d9d4d8c529ff91ecb_onEachFeature%28feature%2C%20layer%29%20%7B%0A%20%20%20%20%20%20%20%20%20%20%20%20layer.on%28%7B%0A%20%20%20%20%20%20%20%20%20%20%20%20%7D%29%3B%0A%20%20%20%20%20%20%20%20%7D%3B%0A%20%20%20%20%20%20%20%20var%20geo_json_c5afa76adacb4e4d9d4d8c529ff91ecb%20%3D%20L.geoJson%28null%2C%20%7B%0A%20%20%20%20%20%20%20%20%20%20%20%20%20%20%20%20onEachFeature%3A%20geo_json_c5afa76adacb4e4d9d4d8c529ff91ecb_onEachFeature%2C%0A%20%20%20%20%20%20%20%20%20%20%20%20%0A%20%20%20%20%20%20%20%20%20%20%20%20%20%20%20%20style%3A%20geo_json_c5afa76adacb4e4d9d4d8c529ff91ecb_styler%2C%0A%20%20%20%20%20%20%20%20%7D%29%3B%0A%0A%20%20%20%20%20%20%20%20function%20geo_json_c5afa76adacb4e4d9d4d8c529ff91ecb_add%20%28data%29%20%7B%0A%20%20%20%20%20%20%20%20%20%20%20%20geo_json_c5afa76adacb4e4d9d4d8c529ff91ecb%0A%20%20%20%20%20%20%20%20%20%20%20%20%20%20%20%20.addData%28data%29%0A%20%20%20%20%20%20%20%20%20%20%20%20%20%20%20%20.addTo%28map_3362e960a2d349eba9a11488e57ff808%29%3B%0A%20%20%20%20%20%20%20%20%7D%0A%20%20%20%20%20%20%20%20%20%20%20%20geo_json_c5afa76adacb4e4d9d4d8c529ff91ecb_add%28%7B%22bbox%22%3A%20%5B103.7247604508342%2C%201.3021302647999278%2C%20103.73015571401504%2C%201.3068330679917608%5D%2C%20%22features%22%3A%20%5B%7B%22bbox%22%3A%20%5B103.7247604508342%2C%201.3021302647999278%2C%20103.73015571401504%2C%201.3068330679917608%5D%2C%20%22geometry%22%3A%20%7B%22coordinates%22%3A%20%5B%5B%5B103.7247604508342%2C%201.3044815512826062%5D%2C%20%5B103.72610916680469%2C%201.306832953777814%5D%2C%20%5B103.72880680109307%2C%201.3068330679917608%5D%2C%20%5B103.73015571401504%2C%201.304481779710386%5D%2C%20%5B103.72880699534664%2C%201.3021303790138177%5D%2C%20%5B103.72610936645418%2C%201.3021302647999278%5D%2C%20%5B103.7247604508342%2C%201.3044815512826062%5D%5D%5D%2C%20%22type%22%3A%20%22Polygon%22%7D%2C%20%22id%22%3A%20%220%22%2C%20%22properties%22%3A%20%7B%7D%2C%20%22type%22%3A%20%22Feature%22%7D%5D%2C%20%22type%22%3A%20%22FeatureCollection%22%7D%29%3B%0A%0A%20%20%20%20%20%20%20%20%0A%20%20%20%20%0A%20%20%20%20%20%20%20%20function%20geo_json_896d850008214f4fb9c91140f4168654_styler%28feature%29%20%7B%0A%20%20%20%20%20%20%20%20%20%20%20%20switch%28feature.id%29%20%7B%0A%20%20%20%20%20%20%20%20%20%20%20%20%20%20%20%20default%3A%0A%20%20%20%20%20%20%20%20%20%20%20%20%20%20%20%20%20%20%20%20return%20%7B%22color%22%3A%20%22grey%22%2C%20%22fillColor%22%3A%20%22%2300000000%22%2C%20%22opacity%22%3A%200.8%7D%3B%0A%20%20%20%20%20%20%20%20%20%20%20%20%7D%0A%20%20%20%20%20%20%20%20%7D%0A%0A%20%20%20%20%20%20%20%20function%20geo_json_896d850008214f4fb9c91140f4168654_onEachFeature%28feature%2C%20layer%29%20%7B%0A%20%20%20%20%20%20%20%20%20%20%20%20layer.on%28%7B%0A%20%20%20%20%20%20%20%20%20%20%20%20%7D%29%3B%0A%20%20%20%20%20%20%20%20%7D%3B%0A%20%20%20%20%20%20%20%20var%20geo_json_896d850008214f4fb9c91140f4168654%20%3D%20L.geoJson%28null%2C%20%7B%0A%20%20%20%20%20%20%20%20%20%20%20%20%20%20%20%20onEachFeature%3A%20geo_json_896d850008214f4fb9c91140f4168654_onEachFeature%2C%0A%20%20%20%20%20%20%20%20%20%20%20%20%0A%20%20%20%20%20%20%20%20%20%20%20%20%20%20%20%20style%3A%20geo_json_896d850008214f4fb9c91140f4168654_styler%2C%0A%20%20%20%20%20%20%20%20%7D%29%3B%0A%0A%20%20%20%20%20%20%20%20function%20geo_json_896d850008214f4fb9c91140f4168654_add%20%28data%29%20%7B%0A%20%20%20%20%20%20%20%20%20%20%20%20geo_json_896d850008214f4fb9c91140f4168654%0A%20%20%20%20%20%20%20%20%20%20%20%20%20%20%20%20.addData%28data%29%0A%20%20%20%20%20%20%20%20%20%20%20%20%20%20%20%20.addTo%28map_3362e960a2d349eba9a11488e57ff808%29%3B%0A%20%20%20%20%20%20%20%20%7D%0A%20%20%20%20%20%20%20%20%20%20%20%20geo_json_896d850008214f4fb9c91140f4168654_add%28%7B%22bbox%22%3A%20%5B103.72475922865556%2C%201.3303463932714976%2C%20103.730154552091%2C%201.3350491982619133%5D%2C%20%22features%22%3A%20%5B%7B%22bbox%22%3A%20%5B103.72475922865556%2C%201.3303463932714976%2C%20103.730154552091%2C%201.3350491982619133%5D%2C%20%22geometry%22%3A%20%7B%22coordinates%22%3A%20%5B%5B%5B103.72475922865556%2C%201.3326976779555366%5D%2C%20%5B103.72610795811585%2C%201.3350490813500642%5D%2C%20%5B103.72880562208184%2C%201.3350491982619133%5D%2C%20%5B103.730154552091%2C%201.332697910879915%5D%2C%20%5B103.72880581993269%2C%201.3303465101833467%5D%2C%20%5B103.72610816136262%2C%201.3303463932714976%5D%2C%20%5B103.72475922865556%2C%201.3326976779555366%5D%5D%5D%2C%20%22type%22%3A%20%22Polygon%22%7D%2C%20%22id%22%3A%20%220%22%2C%20%22properties%22%3A%20%7B%7D%2C%20%22type%22%3A%20%22Feature%22%7D%5D%2C%20%22type%22%3A%20%22FeatureCollection%22%7D%29%3B%0A%0A%20%20%20%20%20%20%20%20%0A%20%20%20%20%0A%20%20%20%20%20%20%20%20function%20geo_json_f97e2eb871e74837b822aece93d9645c_styler%28feature%29%20%7B%0A%20%20%20%20%20%20%20%20%20%20%20%20switch%28feature.id%29%20%7B%0A%20%20%20%20%20%20%20%20%20%20%20%20%20%20%20%20default%3A%0A%20%20%20%20%20%20%20%20%20%20%20%20%20%20%20%20%20%20%20%20return%20%7B%22color%22%3A%20%22grey%22%2C%20%22fillColor%22%3A%20%22%2300000000%22%2C%20%22opacity%22%3A%200.8%7D%3B%0A%20%20%20%20%20%20%20%20%20%20%20%20%7D%0A%20%20%20%20%20%20%20%20%7D%0A%0A%20%20%20%20%20%20%20%20function%20geo_json_f97e2eb871e74837b822aece93d9645c_onEachFeature%28feature%2C%20layer%29%20%7B%0A%20%20%20%20%20%20%20%20%20%20%20%20layer.on%28%7B%0A%20%20%20%20%20%20%20%20%20%20%20%20%7D%29%3B%0A%20%20%20%20%20%20%20%20%7D%3B%0A%20%20%20%20%20%20%20%20var%20geo_json_f97e2eb871e74837b822aece93d9645c%20%3D%20L.geoJson%28null%2C%20%7B%0A%20%20%20%20%20%20%20%20%20%20%20%20%20%20%20%20onEachFeature%3A%20geo_json_f97e2eb871e74837b822aece93d9645c_onEachFeature%2C%0A%20%20%20%20%20%20%20%20%20%20%20%20%0A%20%20%20%20%20%20%20%20%20%20%20%20%20%20%20%20style%3A%20geo_json_f97e2eb871e74837b822aece93d9645c_styler%2C%0A%20%20%20%20%20%20%20%20%7D%29%3B%0A%0A%20%20%20%20%20%20%20%20function%20geo_json_f97e2eb871e74837b822aece93d9645c_add%20%28data%29%20%7B%0A%20%20%20%20%20%20%20%20%20%20%20%20geo_json_f97e2eb871e74837b822aece93d9645c%0A%20%20%20%20%20%20%20%20%20%20%20%20%20%20%20%20.addData%28data%29%0A%20%20%20%20%20%20%20%20%20%20%20%20%20%20%20%20.addTo%28map_3362e960a2d349eba9a11488e57ff808%29%3B%0A%20%20%20%20%20%20%20%20%7D%0A%20%20%20%20%20%20%20%20%20%20%20%20geo_json_f97e2eb871e74837b822aece93d9645c_add%28%7B%22bbox%22%3A%20%5B103.72475902271077%2C%201.3350490813500642%2C%20103.73015435603878%2C%201.339751885441217%5D%2C%20%22features%22%3A%20%5B%7B%22bbox%22%3A%20%5B103.72475902271077%2C%201.3350490813500642%2C%20103.73015435603878%2C%201.339751885441217%5D%2C%20%22geometry%22%3A%20%7B%22coordinates%22%3A%20%5B%5B%5B103.72475902271077%2C%201.3374003651347834%5D%2C%20%5B103.72610775396976%2C%201.3397517685293678%5D%2C%20%5B103.72880542243234%2C%201.339751885441217%5D%2C%20%5B103.73015435603878%2C%201.3374005989585385%5D%2C%20%5B103.72880562208184%2C%201.3350491982619133%5D%2C%20%5B103.72610795811585%2C%201.3350490813500642%5D%2C%20%5B103.72475902271077%2C%201.3374003651347834%5D%5D%5D%2C%20%22type%22%3A%20%22Polygon%22%7D%2C%20%22id%22%3A%20%220%22%2C%20%22properties%22%3A%20%7B%7D%2C%20%22type%22%3A%20%22Feature%22%7D%5D%2C%20%22type%22%3A%20%22FeatureCollection%22%7D%29%3B%0A%0A%20%20%20%20%20%20%20%20%0A%20%20%20%20%0A%20%20%20%20%20%20%20%20function%20geo_json_d3a61e08923d4c12ab9b7c3268da2dad_styler%28feature%29%20%7B%0A%20%20%20%20%20%20%20%20%20%20%20%20switch%28feature.id%29%20%7B%0A%20%20%20%20%20%20%20%20%20%20%20%20%20%20%20%20default%3A%0A%20%20%20%20%20%20%20%20%20%20%20%20%20%20%20%20%20%20%20%20return%20%7B%22color%22%3A%20%22grey%22%2C%20%22fillColor%22%3A%20%22%2300000000%22%2C%20%22opacity%22%3A%200.8%7D%3B%0A%20%20%20%20%20%20%20%20%20%20%20%20%7D%0A%20%20%20%20%20%20%20%20%7D%0A%0A%20%20%20%20%20%20%20%20function%20geo_json_d3a61e08923d4c12ab9b7c3268da2dad_onEachFeature%28feature%2C%20layer%29%20%7B%0A%20%20%20%20%20%20%20%20%20%20%20%20layer.on%28%7B%0A%20%20%20%20%20%20%20%20%20%20%20%20%7D%29%3B%0A%20%20%20%20%20%20%20%20%7D%3B%0A%20%20%20%20%20%20%20%20var%20geo_json_d3a61e08923d4c12ab9b7c3268da2dad%20%3D%20L.geoJson%28null%2C%20%7B%0A%20%20%20%20%20%20%20%20%20%20%20%20%20%20%20%20onEachFeature%3A%20geo_json_d3a61e08923d4c12ab9b7c3268da2dad_onEachFeature%2C%0A%20%20%20%20%20%20%20%20%20%20%20%20%0A%20%20%20%20%20%20%20%20%20%20%20%20%20%20%20%20style%3A%20geo_json_d3a61e08923d4c12ab9b7c3268da2dad_styler%2C%0A%20%20%20%20%20%20%20%20%7D%29%3B%0A%0A%20%20%20%20%20%20%20%20function%20geo_json_d3a61e08923d4c12ab9b7c3268da2dad_add%20%28data%29%20%7B%0A%20%20%20%20%20%20%20%20%20%20%20%20geo_json_d3a61e08923d4c12ab9b7c3268da2dad%0A%20%20%20%20%20%20%20%20%20%20%20%20%20%20%20%20.addData%28data%29%0A%20%20%20%20%20%20%20%20%20%20%20%20%20%20%20%20.addTo%28map_3362e960a2d349eba9a11488e57ff808%29%3B%0A%20%20%20%20%20%20%20%20%7D%0A%20%20%20%20%20%20%20%20%20%20%20%20geo_json_d3a61e08923d4c12ab9b7c3268da2dad_add%28%7B%22bbox%22%3A%20%5B103.72880699534664%2C%201.2997790907324998%2C%20103.73420225313151%2C%201.3044818894276773%5D%2C%20%22features%22%3A%20%5B%7B%22bbox%22%3A%20%5B103.72880699534664%2C%201.2997790907324998%2C%20103.73420225313151%2C%201.3044818894276773%5D%2C%20%22geometry%22%3A%20%7B%22coordinates%22%3A%20%5B%5B%5B103.72880699534664%2C%201.3021303790138177%5D%2C%20%5B103.73015571401504%2C%201.304481779710386%5D%2C%20%5B103.73285334560546%2C%201.3044818894276773%5D%2C%20%5B103.73420225313151%2C%201.3021305984484002%5D%2C%20%5B103.73285353176516%2C%201.2997791995504713%5D%2C%20%5B103.73015590467134%2C%201.2997790907324998%5D%2C%20%5B103.72880699534664%2C%201.3021303790138177%5D%5D%5D%2C%20%22type%22%3A%20%22Polygon%22%7D%2C%20%22id%22%3A%20%220%22%2C%20%22properties%22%3A%20%7B%7D%2C%20%22type%22%3A%20%22Feature%22%7D%5D%2C%20%22type%22%3A%20%22FeatureCollection%22%7D%29%3B%0A%0A%20%20%20%20%20%20%20%20%0A%20%20%20%20%0A%20%20%20%20%20%20%20%20function%20geo_json_303ddc8b0d6b403fa31f658d85acbffb_styler%28feature%29%20%7B%0A%20%20%20%20%20%20%20%20%20%20%20%20switch%28feature.id%29%20%7B%0A%20%20%20%20%20%20%20%20%20%20%20%20%20%20%20%20default%3A%0A%20%20%20%20%20%20%20%20%20%20%20%20%20%20%20%20%20%20%20%20return%20%7B%22color%22%3A%20%22grey%22%2C%20%22fillColor%22%3A%20%22%2300000000%22%2C%20%22opacity%22%3A%200.8%7D%3B%0A%20%20%20%20%20%20%20%20%20%20%20%20%7D%0A%20%20%20%20%20%20%20%20%7D%0A%0A%20%20%20%20%20%20%20%20function%20geo_json_303ddc8b0d6b403fa31f658d85acbffb_onEachFeature%28feature%2C%20layer%29%20%7B%0A%20%20%20%20%20%20%20%20%20%20%20%20layer.on%28%7B%0A%20%20%20%20%20%20%20%20%20%20%20%20%7D%29%3B%0A%20%20%20%20%20%20%20%20%7D%3B%0A%20%20%20%20%20%20%20%20var%20geo_json_303ddc8b0d6b403fa31f658d85acbffb%20%3D%20L.geoJson%28null%2C%20%7B%0A%20%20%20%20%20%20%20%20%20%20%20%20%20%20%20%20onEachFeature%3A%20geo_json_303ddc8b0d6b403fa31f658d85acbffb_onEachFeature%2C%0A%20%20%20%20%20%20%20%20%20%20%20%20%0A%20%20%20%20%20%20%20%20%20%20%20%20%20%20%20%20style%3A%20geo_json_303ddc8b0d6b403fa31f658d85acbffb_styler%2C%0A%20%20%20%20%20%20%20%20%7D%29%3B%0A%0A%20%20%20%20%20%20%20%20function%20geo_json_303ddc8b0d6b403fa31f658d85acbffb_add%20%28data%29%20%7B%0A%20%20%20%20%20%20%20%20%20%20%20%20geo_json_303ddc8b0d6b403fa31f658d85acbffb%0A%20%20%20%20%20%20%20%20%20%20%20%20%20%20%20%20.addData%28data%29%0A%20%20%20%20%20%20%20%20%20%20%20%20%20%20%20%20.addTo%28map_3362e960a2d349eba9a11488e57ff808%29%3B%0A%20%20%20%20%20%20%20%20%7D%0A%20%20%20%20%20%20%20%20%20%20%20%20geo_json_303ddc8b0d6b403fa31f658d85acbffb_add%28%7B%22bbox%22%3A%20%5B103.72880680109307%2C%201.304481779710386%2C%20103.73420206877051%2C%201.3091845793049401%5D%2C%20%22features%22%3A%20%5B%7B%22bbox%22%3A%20%5B103.72880680109307%2C%201.304481779710386%2C%20103.73420206877051%2C%201.3091845793049401%5D%2C%20%22geometry%22%3A%20%7B%22coordinates%22%3A%20%5B%5B%5B103.72880680109307%2C%201.3068330679917608%5D%2C%20%5B103.7301555215601%2C%201.3091844686883292%5D%2C%20%5B103.7328531585465%2C%201.3091845793049401%5D%2C%20%5B103.73420206877051%2C%201.306833288325663%5D%2C%20%5B103.73285334560546%2C%201.3044818894276773%5D%2C%20%5B103.73015571401504%2C%201.304481779710386%5D%2C%20%5B103.72880680109307%2C%201.3068330679917608%5D%5D%5D%2C%20%22type%22%3A%20%22Polygon%22%7D%2C%20%22id%22%3A%20%220%22%2C%20%22properties%22%3A%20%7B%7D%2C%20%22type%22%3A%20%22Feature%22%7D%5D%2C%20%22type%22%3A%20%22FeatureCollection%22%7D%29%3B%0A%0A%20%20%20%20%20%20%20%20%0A%20%20%20%20%0A%20%20%20%20%20%20%20%20function%20geo_json_2ec3553e89b94f5c9b36f63e97e371f5_styler%28feature%29%20%7B%0A%20%20%20%20%20%20%20%20%20%20%20%20switch%28feature.id%29%20%7B%0A%20%20%20%20%20%20%20%20%20%20%20%20%20%20%20%20default%3A%0A%20%20%20%20%20%20%20%20%20%20%20%20%20%20%20%20%20%20%20%20return%20%7B%22color%22%3A%20%22grey%22%2C%20%22fillColor%22%3A%20%22%2300000000%22%2C%20%22opacity%22%3A%200.8%7D%3B%0A%20%20%20%20%20%20%20%20%20%20%20%20%7D%0A%20%20%20%20%20%20%20%20%7D%0A%0A%20%20%20%20%20%20%20%20function%20geo_json_2ec3553e89b94f5c9b36f63e97e371f5_onEachFeature%28feature%2C%20layer%29%20%7B%0A%20%20%20%20%20%20%20%20%20%20%20%20layer.on%28%7B%0A%20%20%20%20%20%20%20%20%20%20%20%20%7D%29%3B%0A%20%20%20%20%20%20%20%20%7D%3B%0A%20%20%20%20%20%20%20%20var%20geo_json_2ec3553e89b94f5c9b36f63e97e371f5%20%3D%20L.geoJson%28null%2C%20%7B%0A%20%20%20%20%20%20%20%20%20%20%20%20%20%20%20%20onEachFeature%3A%20geo_json_2ec3553e89b94f5c9b36f63e97e371f5_onEachFeature%2C%0A%20%20%20%20%20%20%20%20%20%20%20%20%0A%20%20%20%20%20%20%20%20%20%20%20%20%20%20%20%20style%3A%20geo_json_2ec3553e89b94f5c9b36f63e97e371f5_styler%2C%0A%20%20%20%20%20%20%20%20%7D%29%3B%0A%0A%20%20%20%20%20%20%20%20function%20geo_json_2ec3553e89b94f5c9b36f63e97e371f5_add%20%28data%29%20%7B%0A%20%20%20%20%20%20%20%20%20%20%20%20geo_json_2ec3553e89b94f5c9b36f63e97e371f5%0A%20%20%20%20%20%20%20%20%20%20%20%20%20%20%20%20.addData%28data%29%0A%20%20%20%20%20%20%20%20%20%20%20%20%20%20%20%20.addTo%28map_3362e960a2d349eba9a11488e57ff808%29%3B%0A%20%20%20%20%20%20%20%20%7D%0A%20%20%20%20%20%20%20%20%20%20%20%20geo_json_2ec3553e89b94f5c9b36f63e97e371f5_add%28%7B%22bbox%22%3A%20%5B103.72880562208184%2C%201.332697910879915%2C%20103.73420095091319%2C%201.337400711373789%5D%2C%20%22features%22%3A%20%5B%7B%22bbox%22%3A%20%5B103.72880562208184%2C%201.332697910879915%2C%20103.73420095091319%2C%201.337400711373789%5D%2C%20%22geometry%22%3A%20%7B%22coordinates%22%3A%20%5B%5B%5B103.72880562208184%2C%201.3350491982619133%5D%2C%20%5B103.73015435603878%2C%201.3374005989585385%5D%2C%20%5B103.73285202270273%2C%201.337400711373789%5D%2C%20%5B103.73420095091319%2C%201.335049423092471%5D%2C%20%5B103.73285221425834%2C%201.3326980232951655%5D%2C%20%5B103.730154552091%2C%201.332697910879915%5D%2C%20%5B103.72880562208184%2C%201.3350491982619133%5D%5D%5D%2C%20%22type%22%3A%20%22Polygon%22%7D%2C%20%22id%22%3A%20%220%22%2C%20%22properties%22%3A%20%7B%7D%2C%20%22type%22%3A%20%22Feature%22%7D%5D%2C%20%22type%22%3A%20%22FeatureCollection%22%7D%29%3B%0A%0A%20%20%20%20%20%20%20%20%0A%20%20%20%20%0A%20%20%20%20%20%20%20%20function%20geo_json_7dd60469df554467975a6a2ad346bb6c_styler%28feature%29%20%7B%0A%20%20%20%20%20%20%20%20%20%20%20%20switch%28feature.id%29%20%7B%0A%20%20%20%20%20%20%20%20%20%20%20%20%20%20%20%20default%3A%0A%20%20%20%20%20%20%20%20%20%20%20%20%20%20%20%20%20%20%20%20return%20%7B%22color%22%3A%20%22grey%22%2C%20%22fillColor%22%3A%20%22%2300000000%22%2C%20%22opacity%22%3A%200.8%7D%3B%0A%20%20%20%20%20%20%20%20%20%20%20%20%7D%0A%20%20%20%20%20%20%20%20%7D%0A%0A%20%20%20%20%20%20%20%20function%20geo_json_7dd60469df554467975a6a2ad346bb6c_onEachFeature%28feature%2C%20layer%29%20%7B%0A%20%20%20%20%20%20%20%20%20%20%20%20layer.on%28%7B%0A%20%20%20%20%20%20%20%20%20%20%20%20%7D%29%3B%0A%20%20%20%20%20%20%20%20%7D%3B%0A%20%20%20%20%20%20%20%20var%20geo_json_7dd60469df554467975a6a2ad346bb6c%20%3D%20L.geoJson%28null%2C%20%7B%0A%20%20%20%20%20%20%20%20%20%20%20%20%20%20%20%20onEachFeature%3A%20geo_json_7dd60469df554467975a6a2ad346bb6c_onEachFeature%2C%0A%20%20%20%20%20%20%20%20%20%20%20%20%0A%20%20%20%20%20%20%20%20%20%20%20%20%20%20%20%20style%3A%20geo_json_7dd60469df554467975a6a2ad346bb6c_styler%2C%0A%20%20%20%20%20%20%20%20%7D%29%3B%0A%0A%20%20%20%20%20%20%20%20function%20geo_json_7dd60469df554467975a6a2ad346bb6c_add%20%28data%29%20%7B%0A%20%20%20%20%20%20%20%20%20%20%20%20geo_json_7dd60469df554467975a6a2ad346bb6c%0A%20%20%20%20%20%20%20%20%20%20%20%20%20%20%20%20.addData%28data%29%0A%20%20%20%20%20%20%20%20%20%20%20%20%20%20%20%20.addTo%28map_3362e960a2d349eba9a11488e57ff808%29%3B%0A%20%20%20%20%20%20%20%20%7D%0A%20%20%20%20%20%20%20%20%20%20%20%20geo_json_7dd60469df554467975a6a2ad346bb6c_add%28%7B%22bbox%22%3A%20%5B103.73285297058817%2C%201.3115359773035493%2C%20103.73824825445342%2C%201.3162387733007677%5D%2C%20%22features%22%3A%20%5B%7B%22bbox%22%3A%20%5B103.73285297058817%2C%201.3115359773035493%2C%20103.73824825445342%2C%201.3162387733007677%5D%2C%20%22geometry%22%3A%20%7B%22coordinates%22%3A%20%5B%5B%5B103.73285297058817%2C%201.3138872682828264%5D%2C%20%5B103.73420169914914%2C%201.3162386671808122%5D%2C%20%5B103.7368993433301%2C%201.3162387733007677%5D%2C%20%5B103.73824825445342%2C%201.313887480522851%5D%2C%20%5B103.73689952409381%2C%201.3115360834235616%5D%2C%20%5B103.73420188440952%2C%201.3115359773035493%5D%2C%20%5B103.73285297058817%2C%201.3138872682828264%5D%5D%5D%2C%20%22type%22%3A%20%22Polygon%22%7D%2C%20%22id%22%3A%20%220%22%2C%20%22properties%22%3A%20%7B%7D%2C%20%22type%22%3A%20%22Feature%22%7D%5D%2C%20%22type%22%3A%20%22FeatureCollection%22%7D%29%3B%0A%0A%20%20%20%20%20%20%20%20%0A%20%20%20%20%0A%20%20%20%20%20%20%20%20function%20geo_json_578c1ddd96564546af9cf2cacc6ad18c_styler%28feature%29%20%7B%0A%20%20%20%20%20%20%20%20%20%20%20%20switch%28feature.id%29%20%7B%0A%20%20%20%20%20%20%20%20%20%20%20%20%20%20%20%20default%3A%0A%20%20%20%20%20%20%20%20%20%20%20%20%20%20%20%20%20%20%20%20return%20%7B%22color%22%3A%20%22grey%22%2C%20%22fillColor%22%3A%20%22%2300000000%22%2C%20%22opacity%22%3A%200.8%7D%3B%0A%20%20%20%20%20%20%20%20%20%20%20%20%7D%0A%20%20%20%20%20%20%20%20%7D%0A%0A%20%20%20%20%20%20%20%20function%20geo_json_578c1ddd96564546af9cf2cacc6ad18c_onEachFeature%28feature%2C%20layer%29%20%7B%0A%20%20%20%20%20%20%20%20%20%20%20%20layer.on%28%7B%0A%20%20%20%20%20%20%20%20%20%20%20%20%7D%29%3B%0A%20%20%20%20%20%20%20%20%7D%3B%0A%20%20%20%20%20%20%20%20var%20geo_json_578c1ddd96564546af9cf2cacc6ad18c%20%3D%20L.geoJson%28null%2C%20%7B%0A%20%20%20%20%20%20%20%20%20%20%20%20%20%20%20%20onEachFeature%3A%20geo_json_578c1ddd96564546af9cf2cacc6ad18c_onEachFeature%2C%0A%20%20%20%20%20%20%20%20%20%20%20%20%0A%20%20%20%20%20%20%20%20%20%20%20%20%20%20%20%20style%3A%20geo_json_578c1ddd96564546af9cf2cacc6ad18c_styler%2C%0A%20%20%20%20%20%20%20%20%7D%29%3B%0A%0A%20%20%20%20%20%20%20%20function%20geo_json_578c1ddd96564546af9cf2cacc6ad18c_add%20%28data%29%20%7B%0A%20%20%20%20%20%20%20%20%20%20%20%20geo_json_578c1ddd96564546af9cf2cacc6ad18c%0A%20%20%20%20%20%20%20%20%20%20%20%20%20%20%20%20.addData%28data%29%0A%20%20%20%20%20%20%20%20%20%20%20%20%20%20%20%20.addTo%28map_3362e960a2d349eba9a11488e57ff808%29%3B%0A%20%20%20%20%20%20%20%20%7D%0A%20%20%20%20%20%20%20%20%20%20%20%20geo_json_578c1ddd96564546af9cf2cacc6ad18c_add%28%7B%22bbox%22%3A%20%5B103.73285221425834%2C%201.3303467341145279%2C%20103.7382475385931%2C%201.3350495310111228%5D%2C%20%22features%22%3A%20%5B%7B%22bbox%22%3A%20%5B103.73285221425834%2C%201.3303467341145279%2C%20103.7382475385931%2C%201.3350495310111228%5D%2C%20%22geometry%22%3A%20%7B%22coordinates%22%3A%20%5B%5B%5B103.73285221425834%2C%201.3326980232951655%5D%2C%20%5B103.73420095091319%2C%201.335049423092471%5D%2C%20%5B103.73689861577856%2C%201.3350495310111228%5D%2C%20%5B103.7382475385931%2C%201.332698239132469%5D%2C%20%5B103.73689879834092%2C%201.3303468420331797%5D%2C%20%5B103.73420113887153%2C%201.3303467341145279%5D%2C%20%5B103.73285221425834%2C%201.3326980232951655%5D%5D%5D%2C%20%22type%22%3A%20%22Polygon%22%7D%2C%20%22id%22%3A%20%220%22%2C%20%22properties%22%3A%20%7B%7D%2C%20%22type%22%3A%20%22Feature%22%7D%5D%2C%20%22type%22%3A%20%22FeatureCollection%22%7D%29%3B%0A%0A%20%20%20%20%20%20%20%20%0A%20%20%20%20%0A%20%20%20%20%20%20%20%20function%20geo_json_34d2c03f4fa342819ecc5bb1863ce57e_styler%28feature%29%20%7B%0A%20%20%20%20%20%20%20%20%20%20%20%20switch%28feature.id%29%20%7B%0A%20%20%20%20%20%20%20%20%20%20%20%20%20%20%20%20default%3A%0A%20%20%20%20%20%20%20%20%20%20%20%20%20%20%20%20%20%20%20%20return%20%7B%22color%22%3A%20%22grey%22%2C%20%22fillColor%22%3A%20%22%2300000000%22%2C%20%22opacity%22%3A%200.8%7D%3B%0A%20%20%20%20%20%20%20%20%20%20%20%20%7D%0A%20%20%20%20%20%20%20%20%7D%0A%0A%20%20%20%20%20%20%20%20function%20geo_json_34d2c03f4fa342819ecc5bb1863ce57e_onEachFeature%28feature%2C%20layer%29%20%7B%0A%20%20%20%20%20%20%20%20%20%20%20%20layer.on%28%7B%0A%20%20%20%20%20%20%20%20%20%20%20%20%7D%29%3B%0A%20%20%20%20%20%20%20%20%7D%3B%0A%20%20%20%20%20%20%20%20var%20geo_json_34d2c03f4fa342819ecc5bb1863ce57e%20%3D%20L.geoJson%28null%2C%20%7B%0A%20%20%20%20%20%20%20%20%20%20%20%20%20%20%20%20onEachFeature%3A%20geo_json_34d2c03f4fa342819ecc5bb1863ce57e_onEachFeature%2C%0A%20%20%20%20%20%20%20%20%20%20%20%20%0A%20%20%20%20%20%20%20%20%20%20%20%20%20%20%20%20style%3A%20geo_json_34d2c03f4fa342819ecc5bb1863ce57e_styler%2C%0A%20%20%20%20%20%20%20%20%7D%29%3B%0A%0A%20%20%20%20%20%20%20%20function%20geo_json_34d2c03f4fa342819ecc5bb1863ce57e_add%20%28data%29%20%7B%0A%20%20%20%20%20%20%20%20%20%20%20%20geo_json_34d2c03f4fa342819ecc5bb1863ce57e%0A%20%20%20%20%20%20%20%20%20%20%20%20%20%20%20%20.addData%28data%29%0A%20%20%20%20%20%20%20%20%20%20%20%20%20%20%20%20.addTo%28map_3362e960a2d349eba9a11488e57ff808%29%3B%0A%20%20%20%20%20%20%20%20%7D%0A%20%20%20%20%20%20%20%20%20%20%20%20geo_json_34d2c03f4fa342819ecc5bb1863ce57e_add%28%7B%22bbox%22%3A%20%5B103.73285202270273%2C%201.335049423092471%2C%20103.73824735782938%2C%201.3397522190896893%5D%2C%20%22features%22%3A%20%5B%7B%22bbox%22%3A%20%5B103.73285202270273%2C%201.335049423092471%2C%20103.73824735782938%2C%201.3397522190896893%5D%2C%20%22geometry%22%3A%20%7B%22coordinates%22%3A%20%5B%5B%5B103.73285202270273%2C%201.337400711373789%5D%2C%20%5B103.7342007620556%2C%201.3397521111710375%5D%2C%20%5B103.73689843231688%2C%201.3397522190896893%5D%2C%20%5B103.73824735782938%2C%201.3374009281104122%5D%2C%20%5B103.73689861577856%2C%201.3350495310111228%5D%2C%20%5B103.73420095091319%2C%201.335049423092471%5D%2C%20%5B103.73285202270273%2C%201.337400711373789%5D%5D%5D%2C%20%22type%22%3A%20%22Polygon%22%7D%2C%20%22id%22%3A%20%220%22%2C%20%22properties%22%3A%20%7B%7D%2C%20%22type%22%3A%20%22Feature%22%7D%5D%2C%20%22type%22%3A%20%22FeatureCollection%22%7D%29%3B%0A%0A%20%20%20%20%20%20%20%20%0A%20%20%20%20%0A%20%20%20%20%20%20%20%20function%20geo_json_874c5d3835b546b99995113981fb34d0_styler%28feature%29%20%7B%0A%20%20%20%20%20%20%20%20%20%20%20%20switch%28feature.id%29%20%7B%0A%20%20%20%20%20%20%20%20%20%20%20%20%20%20%20%20default%3A%0A%20%20%20%20%20%20%20%20%20%20%20%20%20%20%20%20%20%20%20%20return%20%7B%22color%22%3A%20%22grey%22%2C%20%22fillColor%22%3A%20%22%2300000000%22%2C%20%22opacity%22%3A%200.8%7D%3B%0A%20%20%20%20%20%20%20%20%20%20%20%20%7D%0A%20%20%20%20%20%20%20%20%7D%0A%0A%20%20%20%20%20%20%20%20function%20geo_json_874c5d3835b546b99995113981fb34d0_onEachFeature%28feature%2C%20layer%29%20%7B%0A%20%20%20%20%20%20%20%20%20%20%20%20layer.on%28%7B%0A%20%20%20%20%20%20%20%20%20%20%20%20%7D%29%3B%0A%20%20%20%20%20%20%20%20%7D%3B%0A%20%20%20%20%20%20%20%20var%20geo_json_874c5d3835b546b99995113981fb34d0%20%3D%20L.geoJson%28null%2C%20%7B%0A%20%20%20%20%20%20%20%20%20%20%20%20%20%20%20%20onEachFeature%3A%20geo_json_874c5d3835b546b99995113981fb34d0_onEachFeature%2C%0A%20%20%20%20%20%20%20%20%20%20%20%20%0A%20%20%20%20%20%20%20%20%20%20%20%20%20%20%20%20style%3A%20geo_json_874c5d3835b546b99995113981fb34d0_styler%2C%0A%20%20%20%20%20%20%20%20%7D%29%3B%0A%0A%20%20%20%20%20%20%20%20function%20geo_json_874c5d3835b546b99995113981fb34d0_add%20%28data%29%20%7B%0A%20%20%20%20%20%20%20%20%20%20%20%20geo_json_874c5d3835b546b99995113981fb34d0%0A%20%20%20%20%20%20%20%20%20%20%20%20%20%20%20%20.addData%28data%29%0A%20%20%20%20%20%20%20%20%20%20%20%20%20%20%20%20.addTo%28map_3362e960a2d349eba9a11488e57ff808%29%3B%0A%20%20%20%20%20%20%20%20%7D%0A%20%20%20%20%20%20%20%20%20%20%20%20geo_json_874c5d3835b546b99995113981fb34d0_add%28%7B%22bbox%22%3A%20%5B103.73285047137222%2C%201.3726709250232147%2C%20103.73824588923645%2C%201.3773737237184491%5D%2C%20%22features%22%3A%20%5B%7B%22bbox%22%3A%20%5B103.73285047137222%2C%201.3726709250232147%2C%20103.73824588923645%2C%201.3773737237184491%5D%2C%20%22geometry%22%3A%20%7B%22coordinates%22%3A%20%5B%5B%5B103.73285047137222%2C%201.375022212405213%5D%2C%20%5B103.73419922871147%2C%201.3773736122024616%5D%2C%20%5B103.73689694034158%2C%201.3773737237184491%5D%2C%20%5B103.73824588923645%2C%201.3750224345377546%5D%2C%20%5B103.73689712919924%2C%201.3726710365391455%5D%2C%20%5B103.73419942296505%2C%201.3726709250232147%5D%2C%20%5B103.73285047137222%2C%201.375022212405213%5D%5D%5D%2C%20%22type%22%3A%20%22Polygon%22%7D%2C%20%22id%22%3A%20%220%22%2C%20%22properties%22%3A%20%7B%7D%2C%20%22type%22%3A%20%22Feature%22%7D%5D%2C%20%22type%22%3A%20%22FeatureCollection%22%7D%29%3B%0A%0A%20%20%20%20%20%20%20%20%0A%20%20%20%20%0A%20%20%20%20%20%20%20%20function%20geo_json_ccff8d600db6498b8a1d420c68b5a831_styler%28feature%29%20%7B%0A%20%20%20%20%20%20%20%20%20%20%20%20switch%28feature.id%29%20%7B%0A%20%20%20%20%20%20%20%20%20%20%20%20%20%20%20%20default%3A%0A%20%20%20%20%20%20%20%20%20%20%20%20%20%20%20%20%20%20%20%20return%20%7B%22color%22%3A%20%22grey%22%2C%20%22fillColor%22%3A%20%22%2300000000%22%2C%20%22opacity%22%3A%200.8%7D%3B%0A%20%20%20%20%20%20%20%20%20%20%20%20%7D%0A%20%20%20%20%20%20%20%20%7D%0A%0A%20%20%20%20%20%20%20%20function%20geo_json_ccff8d600db6498b8a1d420c68b5a831_onEachFeature%28feature%2C%20layer%29%20%7B%0A%20%20%20%20%20%20%20%20%20%20%20%20layer.on%28%7B%0A%20%20%20%20%20%20%20%20%20%20%20%20%7D%29%3B%0A%20%20%20%20%20%20%20%20%7D%3B%0A%20%20%20%20%20%20%20%20var%20geo_json_ccff8d600db6498b8a1d420c68b5a831%20%3D%20L.geoJson%28null%2C%20%7B%0A%20%20%20%20%20%20%20%20%20%20%20%20%20%20%20%20onEachFeature%3A%20geo_json_ccff8d600db6498b8a1d420c68b5a831_onEachFeature%2C%0A%20%20%20%20%20%20%20%20%20%20%20%20%0A%20%20%20%20%20%20%20%20%20%20%20%20%20%20%20%20style%3A%20geo_json_ccff8d600db6498b8a1d420c68b5a831_styler%2C%0A%20%20%20%20%20%20%20%20%7D%29%3B%0A%0A%20%20%20%20%20%20%20%20function%20geo_json_ccff8d600db6498b8a1d420c68b5a831_add%20%28data%29%20%7B%0A%20%20%20%20%20%20%20%20%20%20%20%20geo_json_ccff8d600db6498b8a1d420c68b5a831%0A%20%20%20%20%20%20%20%20%20%20%20%20%20%20%20%20.addData%28data%29%0A%20%20%20%20%20%20%20%20%20%20%20%20%20%20%20%20.addTo%28map_3362e960a2d349eba9a11488e57ff808%29%3B%0A%20%20%20%20%20%20%20%20%7D%0A%20%20%20%20%20%20%20%20%20%20%20%20geo_json_ccff8d600db6498b8a1d420c68b5a831_add%28%7B%22bbox%22%3A%20%5B103.73689898090333%2C%201.32329286027732%2C%20103.74229429084892%2C%201.3279956526772594%5D%2C%20%22features%22%3A%20%5B%7B%22bbox%22%3A%20%5B103.73689898090333%2C%201.32329286027732%2C%20103.74229429084892%2C%201.3279956526772594%5D%2C%20%22geometry%22%3A%20%7B%22coordinates%22%3A%20%5B%5B%5B103.73689898090333%2C%201.3256441521559168%5D%2C%20%5B103.7382477184575%2C%201.327995549255263%5D%2C%20%5B103.74094537612825%2C%201.3279956526772594%5D%2C%20%5B103.74229429084892%2C%201.3256443581007034%5D%2C%20%5B103.74094554969741%2C%201.3232929628000534%5D%2C%20%5B103.73824789742258%2C%201.32329286027732%5D%2C%20%5B103.73689898090333%2C%201.3256441521559168%5D%5D%5D%2C%20%22type%22%3A%20%22Polygon%22%7D%2C%20%22id%22%3A%20%220%22%2C%20%22properties%22%3A%20%7B%7D%2C%20%22type%22%3A%20%22Feature%22%7D%5D%2C%20%22type%22%3A%20%22FeatureCollection%22%7D%29%3B%0A%0A%20%20%20%20%20%20%20%20%0A%20%20%20%20%0A%20%20%20%20%20%20%20%20function%20geo_json_ff144f04c6f54845874e783120d30729_styler%28feature%29%20%7B%0A%20%20%20%20%20%20%20%20%20%20%20%20switch%28feature.id%29%20%7B%0A%20%20%20%20%20%20%20%20%20%20%20%20%20%20%20%20default%3A%0A%20%20%20%20%20%20%20%20%20%20%20%20%20%20%20%20%20%20%20%20return%20%7B%22color%22%3A%20%22grey%22%2C%20%22fillColor%22%3A%20%22%2300000000%22%2C%20%22opacity%22%3A%200.8%7D%3B%0A%20%20%20%20%20%20%20%20%20%20%20%20%7D%0A%20%20%20%20%20%20%20%20%7D%0A%0A%20%20%20%20%20%20%20%20function%20geo_json_ff144f04c6f54845874e783120d30729_onEachFeature%28feature%2C%20layer%29%20%7B%0A%20%20%20%20%20%20%20%20%20%20%20%20layer.on%28%7B%0A%20%20%20%20%20%20%20%20%20%20%20%20%7D%29%3B%0A%20%20%20%20%20%20%20%20%7D%3B%0A%20%20%20%20%20%20%20%20var%20geo_json_ff144f04c6f54845874e783120d30729%20%3D%20L.geoJson%28null%2C%20%7B%0A%20%20%20%20%20%20%20%20%20%20%20%20%20%20%20%20onEachFeature%3A%20geo_json_ff144f04c6f54845874e783120d30729_onEachFeature%2C%0A%20%20%20%20%20%20%20%20%20%20%20%20%0A%20%20%20%20%20%20%20%20%20%20%20%20%20%20%20%20style%3A%20geo_json_ff144f04c6f54845874e783120d30729_styler%2C%0A%20%20%20%20%20%20%20%20%7D%29%3B%0A%0A%20%20%20%20%20%20%20%20function%20geo_json_ff144f04c6f54845874e783120d30729_add%20%28data%29%20%7B%0A%20%20%20%20%20%20%20%20%20%20%20%20geo_json_ff144f04c6f54845874e783120d30729%0A%20%20%20%20%20%20%20%20%20%20%20%20%20%20%20%20.addData%28data%29%0A%20%20%20%20%20%20%20%20%20%20%20%20%20%20%20%20.addTo%28map_3362e960a2d349eba9a11488e57ff808%29%3B%0A%20%20%20%20%20%20%20%20%7D%0A%20%20%20%20%20%20%20%20%20%20%20%20geo_json_ff144f04c6f54845874e783120d30729_add%28%7B%22bbox%22%3A%20%5B103.73689879834092%2C%201.327995549255263%2C%20103.74229411817907%2C%201.3326983425545222%5D%2C%20%22features%22%3A%20%5B%7B%22bbox%22%3A%20%5B103.73689879834092%2C%201.327995549255263%2C%20103.74229411817907%2C%201.3326983425545222%5D%2C%20%22geometry%22%3A%20%7B%22coordinates%22%3A%20%5B%5B%5B103.73689879834092%2C%201.3303468420331797%5D%2C%20%5B103.7382475385931%2C%201.332698239132469%5D%2C%20%5B103.74094520076045%2C%201.3326983425545222%5D%2C%20%5B103.74229411817907%2C%201.3303470479779094%5D%2C%20%5B103.74094537612825%2C%201.3279956526772594%5D%2C%20%5B103.7382477184575%2C%201.327995549255263%5D%2C%20%5B103.73689879834092%2C%201.3303468420331797%5D%5D%5D%2C%20%22type%22%3A%20%22Polygon%22%7D%2C%20%22id%22%3A%20%220%22%2C%20%22properties%22%3A%20%7B%7D%2C%20%22type%22%3A%20%22Feature%22%7D%5D%2C%20%22type%22%3A%20%22FeatureCollection%22%7D%29%3B%0A%0A%20%20%20%20%20%20%20%20%0A%20%20%20%20%0A%20%20%20%20%20%20%20%20function%20geo_json_95014a6fdb0f47cb8d43d07337c506f4_styler%28feature%29%20%7B%0A%20%20%20%20%20%20%20%20%20%20%20%20switch%28feature.id%29%20%7B%0A%20%20%20%20%20%20%20%20%20%20%20%20%20%20%20%20default%3A%0A%20%20%20%20%20%20%20%20%20%20%20%20%20%20%20%20%20%20%20%20return%20%7B%22color%22%3A%20%22grey%22%2C%20%22fillColor%22%3A%20%22%2300000000%22%2C%20%22opacity%22%3A%200.8%7D%3B%0A%20%20%20%20%20%20%20%20%20%20%20%20%7D%0A%20%20%20%20%20%20%20%20%7D%0A%0A%20%20%20%20%20%20%20%20function%20geo_json_95014a6fdb0f47cb8d43d07337c506f4_onEachFeature%28feature%2C%20layer%29%20%7B%0A%20%20%20%20%20%20%20%20%20%20%20%20layer.on%28%7B%0A%20%20%20%20%20%20%20%20%20%20%20%20%7D%29%3B%0A%20%20%20%20%20%20%20%20%7D%3B%0A%20%20%20%20%20%20%20%20var%20geo_json_95014a6fdb0f47cb8d43d07337c506f4%20%3D%20L.geoJson%28null%2C%20%7B%0A%20%20%20%20%20%20%20%20%20%20%20%20%20%20%20%20onEachFeature%3A%20geo_json_95014a6fdb0f47cb8d43d07337c506f4_onEachFeature%2C%0A%20%20%20%20%20%20%20%20%20%20%20%20%0A%20%20%20%20%20%20%20%20%20%20%20%20%20%20%20%20style%3A%20geo_json_95014a6fdb0f47cb8d43d07337c506f4_styler%2C%0A%20%20%20%20%20%20%20%20%7D%29%3B%0A%0A%20%20%20%20%20%20%20%20function%20geo_json_95014a6fdb0f47cb8d43d07337c506f4_add%20%28data%29%20%7B%0A%20%20%20%20%20%20%20%20%20%20%20%20geo_json_95014a6fdb0f47cb8d43d07337c506f4%0A%20%20%20%20%20%20%20%20%20%20%20%20%20%20%20%20.addData%28data%29%0A%20%20%20%20%20%20%20%20%20%20%20%20%20%20%20%20.addTo%28map_3362e960a2d349eba9a11488e57ff808%29%3B%0A%20%20%20%20%20%20%20%20%7D%0A%20%20%20%20%20%20%20%20%20%20%20%20geo_json_95014a6fdb0f47cb8d43d07337c506f4_add%28%7B%22bbox%22%3A%20%5B103.73689861577856%2C%201.332698239132469%2C%20103.74229394550923%2C%201.3374010315324085%5D%2C%20%22features%22%3A%20%5B%7B%22bbox%22%3A%20%5B103.73689861577856%2C%201.332698239132469%2C%20103.74229394550923%2C%201.3374010315324085%5D%2C%20%22geometry%22%3A%20%7B%22coordinates%22%3A%20%5B%5B%5B103.73689861577856%2C%201.3350495310111228%5D%2C%20%5B103.73824735782938%2C%201.3374009281104122%5D%2C%20%5B103.74094502539265%2C%201.3374010315324085%5D%2C%20%5B103.74229394550923%2C%201.3350497378551722%5D%2C%20%5B103.74094520076045%2C%201.3326983425545222%5D%2C%20%5B103.7382475385931%2C%201.332698239132469%5D%2C%20%5B103.73689861577856%2C%201.3350495310111228%5D%5D%5D%2C%20%22type%22%3A%20%22Polygon%22%7D%2C%20%22id%22%3A%20%220%22%2C%20%22properties%22%3A%20%7B%7D%2C%20%22type%22%3A%20%22Feature%22%7D%5D%2C%20%22type%22%3A%20%22FeatureCollection%22%7D%29%3B%0A%0A%20%20%20%20%20%20%20%20%0A%20%20%20%20%0A%20%20%20%20%20%20%20%20function%20geo_json_31cba64088a04325b92840fb43feb6ec_styler%28feature%29%20%7B%0A%20%20%20%20%20%20%20%20%20%20%20%20switch%28feature.id%29%20%7B%0A%20%20%20%20%20%20%20%20%20%20%20%20%20%20%20%20default%3A%0A%20%20%20%20%20%20%20%20%20%20%20%20%20%20%20%20%20%20%20%20return%20%7B%22color%22%3A%20%22grey%22%2C%20%22fillColor%22%3A%20%22%2300000000%22%2C%20%22opacity%22%3A%200.8%7D%3B%0A%20%20%20%20%20%20%20%20%20%20%20%20%7D%0A%20%20%20%20%20%20%20%20%7D%0A%0A%20%20%20%20%20%20%20%20function%20geo_json_31cba64088a04325b92840fb43feb6ec_onEachFeature%28feature%2C%20layer%29%20%7B%0A%20%20%20%20%20%20%20%20%20%20%20%20layer.on%28%7B%0A%20%20%20%20%20%20%20%20%20%20%20%20%7D%29%3B%0A%20%20%20%20%20%20%20%20%7D%3B%0A%20%20%20%20%20%20%20%20var%20geo_json_31cba64088a04325b92840fb43feb6ec%20%3D%20L.geoJson%28null%2C%20%7B%0A%20%20%20%20%20%20%20%20%20%20%20%20%20%20%20%20onEachFeature%3A%20geo_json_31cba64088a04325b92840fb43feb6ec_onEachFeature%2C%0A%20%20%20%20%20%20%20%20%20%20%20%20%0A%20%20%20%20%20%20%20%20%20%20%20%20%20%20%20%20style%3A%20geo_json_31cba64088a04325b92840fb43feb6ec_styler%2C%0A%20%20%20%20%20%20%20%20%7D%29%3B%0A%0A%20%20%20%20%20%20%20%20function%20geo_json_31cba64088a04325b92840fb43feb6ec_add%20%28data%29%20%7B%0A%20%20%20%20%20%20%20%20%20%20%20%20geo_json_31cba64088a04325b92840fb43feb6ec%0A%20%20%20%20%20%20%20%20%20%20%20%20%20%20%20%20.addData%28data%29%0A%20%20%20%20%20%20%20%20%20%20%20%20%20%20%20%20.addTo%28map_3362e960a2d349eba9a11488e57ff808%29%3B%0A%20%20%20%20%20%20%20%20%7D%0A%20%20%20%20%20%20%20%20%20%20%20%20geo_json_31cba64088a04325b92840fb43feb6ec_add%28%7B%22bbox%22%3A%20%5B103.73689712919924%2C%201.370319746459188%2C%20103.74229254256687%2C%201.3750225415570867%5D%2C%20%22features%22%3A%20%5B%7B%22bbox%22%3A%20%5B103.73689712919924%2C%201.370319746459188%2C%20103.74229254256687%2C%201.3750225415570867%5D%2C%20%22geometry%22%3A%20%7B%22coordinates%22%3A%20%5B%5B%5B103.73689712919924%2C%201.3726710365391455%5D%2C%20%5B103.73824588923645%2C%201.3750224345377546%5D%2C%20%5B103.74094359906792%2C%201.3750225415570867%5D%2C%20%5B103.74229254256687%2C%201.3726712487791701%5D%2C%20%5B103.74094377893232%2C%201.3703198534785201%5D%2C%20%5B103.73824607539615%2C%201.370319746459188%5D%2C%20%5B103.73689712919924%2C%201.3726710365391455%5D%5D%5D%2C%20%22type%22%3A%20%22Polygon%22%7D%2C%20%22id%22%3A%20%220%22%2C%20%22properties%22%3A%20%7B%7D%2C%20%22type%22%3A%20%22Feature%22%7D%5D%2C%20%22type%22%3A%20%22FeatureCollection%22%7D%29%3B%0A%0A%20%20%20%20%20%20%20%20%0A%20%20%20%20%0A%20%20%20%20%20%20%20%20function%20geo_json_118999b67a0a423f99a5adf923103445_styler%28feature%29%20%7B%0A%20%20%20%20%20%20%20%20%20%20%20%20switch%28feature.id%29%20%7B%0A%20%20%20%20%20%20%20%20%20%20%20%20%20%20%20%20default%3A%0A%20%20%20%20%20%20%20%20%20%20%20%20%20%20%20%20%20%20%20%20return%20%7B%22color%22%3A%20%22grey%22%2C%20%22fillColor%22%3A%20%22%2300000000%22%2C%20%22opacity%22%3A%200.8%7D%3B%0A%20%20%20%20%20%20%20%20%20%20%20%20%7D%0A%20%20%20%20%20%20%20%20%7D%0A%0A%20%20%20%20%20%20%20%20function%20geo_json_118999b67a0a423f99a5adf923103445_onEachFeature%28feature%2C%20layer%29%20%7B%0A%20%20%20%20%20%20%20%20%20%20%20%20layer.on%28%7B%0A%20%20%20%20%20%20%20%20%20%20%20%20%7D%29%3B%0A%20%20%20%20%20%20%20%20%7D%3B%0A%20%20%20%20%20%20%20%20var%20geo_json_118999b67a0a423f99a5adf923103445%20%3D%20L.geoJson%28null%2C%20%7B%0A%20%20%20%20%20%20%20%20%20%20%20%20%20%20%20%20onEachFeature%3A%20geo_json_118999b67a0a423f99a5adf923103445_onEachFeature%2C%0A%20%20%20%20%20%20%20%20%20%20%20%20%0A%20%20%20%20%20%20%20%20%20%20%20%20%20%20%20%20style%3A%20geo_json_118999b67a0a423f99a5adf923103445_styler%2C%0A%20%20%20%20%20%20%20%20%7D%29%3B%0A%0A%20%20%20%20%20%20%20%20function%20geo_json_118999b67a0a423f99a5adf923103445_add%20%28data%29%20%7B%0A%20%20%20%20%20%20%20%20%20%20%20%20geo_json_118999b67a0a423f99a5adf923103445%0A%20%20%20%20%20%20%20%20%20%20%20%20%20%20%20%20.addData%28data%29%0A%20%20%20%20%20%20%20%20%20%20%20%20%20%20%20%20.addTo%28map_3362e960a2d349eba9a11488e57ff808%29%3B%0A%20%20%20%20%20%20%20%20%7D%0A%20%20%20%20%20%20%20%20%20%20%20%20geo_json_118999b67a0a423f99a5adf923103445_add%28%7B%22bbox%22%3A%20%5B103.74094537612825%2C%201.3256443581007034%2C%20103.74634069146981%2C%201.3303471469033639%5D%2C%20%22features%22%3A%20%5B%7B%22bbox%22%3A%20%5B103.74094537612825%2C%201.3256443581007034%2C%20103.74634069146981%2C%201.3303471469033639%5D%2C%20%22geometry%22%3A%20%7B%22coordinates%22%3A%20%5B%5B%5B103.74094537612825%2C%201.3279956526772594%5D%2C%20%5B103.74229411817907%2C%201.3303470479779094%5D%2C%20%5B103.74499177854779%2C%201.3303471469033639%5D%2C%20%5B103.74634069146981%2C%201.3279958496287918%5D%2C%20%5B103.74499194582171%2C%201.3256444561267813%5D%2C%20%5B103.74229429084892%2C%201.3256443581007034%5D%2C%20%5B103.74094537612825%2C%201.3279956526772594%5D%5D%5D%2C%20%22type%22%3A%20%22Polygon%22%7D%2C%20%22id%22%3A%20%220%22%2C%20%22properties%22%3A%20%7B%7D%2C%20%22type%22%3A%20%22Feature%22%7D%5D%2C%20%22type%22%3A%20%22FeatureCollection%22%7D%29%3B%0A%0A%20%20%20%20%20%20%20%20%0A%20%20%20%20%0A%20%20%20%20%20%20%20%20function%20geo_json_e45f98f8f1cd48a68bff403103a0b6ae_styler%28feature%29%20%7B%0A%20%20%20%20%20%20%20%20%20%20%20%20switch%28feature.id%29%20%7B%0A%20%20%20%20%20%20%20%20%20%20%20%20%20%20%20%20default%3A%0A%20%20%20%20%20%20%20%20%20%20%20%20%20%20%20%20%20%20%20%20return%20%7B%22color%22%3A%20%22grey%22%2C%20%22fillColor%22%3A%20%22%2300000000%22%2C%20%22opacity%22%3A%200.8%7D%3B%0A%20%20%20%20%20%20%20%20%20%20%20%20%7D%0A%20%20%20%20%20%20%20%20%7D%0A%0A%20%20%20%20%20%20%20%20function%20geo_json_e45f98f8f1cd48a68bff403103a0b6ae_onEachFeature%28feature%2C%20layer%29%20%7B%0A%20%20%20%20%20%20%20%20%20%20%20%20layer.on%28%7B%0A%20%20%20%20%20%20%20%20%20%20%20%20%7D%29%3B%0A%20%20%20%20%20%20%20%20%7D%3B%0A%20%20%20%20%20%20%20%20var%20geo_json_e45f98f8f1cd48a68bff403103a0b6ae%20%3D%20L.geoJson%28null%2C%20%7B%0A%20%20%20%20%20%20%20%20%20%20%20%20%20%20%20%20onEachFeature%3A%20geo_json_e45f98f8f1cd48a68bff403103a0b6ae_onEachFeature%2C%0A%20%20%20%20%20%20%20%20%20%20%20%20%0A%20%20%20%20%20%20%20%20%20%20%20%20%20%20%20%20style%3A%20geo_json_e45f98f8f1cd48a68bff403103a0b6ae_styler%2C%0A%20%20%20%20%20%20%20%20%7D%29%3B%0A%0A%20%20%20%20%20%20%20%20function%20geo_json_e45f98f8f1cd48a68bff403103a0b6ae_add%20%28data%29%20%7B%0A%20%20%20%20%20%20%20%20%20%20%20%20geo_json_e45f98f8f1cd48a68bff403103a0b6ae%0A%20%20%20%20%20%20%20%20%20%20%20%20%20%20%20%20.addData%28data%29%0A%20%20%20%20%20%20%20%20%20%20%20%20%20%20%20%20.addTo%28map_3362e960a2d349eba9a11488e57ff808%29%3B%0A%20%20%20%20%20%20%20%20%7D%0A%20%20%20%20%20%20%20%20%20%20%20%20geo_json_e45f98f8f1cd48a68bff403103a0b6ae_add%28%7B%22bbox%22%3A%20%5B103.74094520076045%2C%201.3303470479779094%2C%20103.74634052689385%2C%201.3350498367805699%5D%2C%20%22features%22%3A%20%5B%7B%22bbox%22%3A%20%5B103.74094520076045%2C%201.3303470479779094%2C%20103.74634052689385%2C%201.3350498367805699%5D%2C%20%22geometry%22%3A%20%7B%22coordinates%22%3A%20%5B%5B%5B103.74094520076045%2C%201.3326983425545222%5D%2C%20%5B103.74229394550923%2C%201.3350497378551722%5D%2C%20%5B103.74499161127392%2C%201.3350498367805699%5D%2C%20%5B103.74634052689385%2C%201.3326985404053744%5D%2C%20%5B103.74499177854779%2C%201.3303471469033639%5D%2C%20%5B103.74229411817907%2C%201.3303470479779094%5D%2C%20%5B103.74094520076045%2C%201.3326983425545222%5D%5D%5D%2C%20%22type%22%3A%20%22Polygon%22%7D%2C%20%22id%22%3A%20%220%22%2C%20%22properties%22%3A%20%7B%7D%2C%20%22type%22%3A%20%22Feature%22%7D%5D%2C%20%22type%22%3A%20%22FeatureCollection%22%7D%29%3B%0A%0A%20%20%20%20%20%20%20%20%0A%20%20%20%20%0A%20%20%20%20%20%20%20%20function%20geo_json_4a26cde2edfa43148fd4abc52292cf94_styler%28feature%29%20%7B%0A%20%20%20%20%20%20%20%20%20%20%20%20switch%28feature.id%29%20%7B%0A%20%20%20%20%20%20%20%20%20%20%20%20%20%20%20%20default%3A%0A%20%20%20%20%20%20%20%20%20%20%20%20%20%20%20%20%20%20%20%20return%20%7B%22color%22%3A%20%22grey%22%2C%20%22fillColor%22%3A%20%22%2300000000%22%2C%20%22opacity%22%3A%200.8%7D%3B%0A%20%20%20%20%20%20%20%20%20%20%20%20%7D%0A%20%20%20%20%20%20%20%20%7D%0A%0A%20%20%20%20%20%20%20%20function%20geo_json_4a26cde2edfa43148fd4abc52292cf94_onEachFeature%28feature%2C%20layer%29%20%7B%0A%20%20%20%20%20%20%20%20%20%20%20%20layer.on%28%7B%0A%20%20%20%20%20%20%20%20%20%20%20%20%7D%29%3B%0A%20%20%20%20%20%20%20%20%7D%3B%0A%20%20%20%20%20%20%20%20var%20geo_json_4a26cde2edfa43148fd4abc52292cf94%20%3D%20L.geoJson%28null%2C%20%7B%0A%20%20%20%20%20%20%20%20%20%20%20%20%20%20%20%20onEachFeature%3A%20geo_json_4a26cde2edfa43148fd4abc52292cf94_onEachFeature%2C%0A%20%20%20%20%20%20%20%20%20%20%20%20%0A%20%20%20%20%20%20%20%20%20%20%20%20%20%20%20%20style%3A%20geo_json_4a26cde2edfa43148fd4abc52292cf94_styler%2C%0A%20%20%20%20%20%20%20%20%7D%29%3B%0A%0A%20%20%20%20%20%20%20%20function%20geo_json_4a26cde2edfa43148fd4abc52292cf94_add%20%28data%29%20%7B%0A%20%20%20%20%20%20%20%20%20%20%20%20geo_json_4a26cde2edfa43148fd4abc52292cf94%0A%20%20%20%20%20%20%20%20%20%20%20%20%20%20%20%20.addData%28data%29%0A%20%20%20%20%20%20%20%20%20%20%20%20%20%20%20%20.addTo%28map_3362e960a2d349eba9a11488e57ff808%29%3B%0A%20%20%20%20%20%20%20%20%7D%0A%20%20%20%20%20%20%20%20%20%20%20%20geo_json_4a26cde2edfa43148fd4abc52292cf94_add%28%7B%22bbox%22%3A%20%5B103.74094395879672%2C%201.3632658726219802%2C%20103.74633935777518%2C%201.3679686623239604%5D%2C%20%22features%22%3A%20%5B%7B%22bbox%22%3A%20%5B103.74094395879672%2C%201.3632658726219802%2C%20103.74633935777518%2C%201.3679686623239604%5D%2C%20%22geometry%22%3A%20%7B%22coordinates%22%3A%20%5B%5B%5B103.74094395879672%2C%201.365617164500577%5D%2C%20%5B103.74229271973331%2C%201.3679685607005467%5D%2C%20%5B103.74499042147085%2C%201.3679686623239604%5D%2C%20%5B103.74633935777518%2C%201.3656173677473475%5D%2C%20%5B103.74499059324137%2C%201.3632659733460173%5D%2C%20%5B103.74229289689976%2C%201.3632658726219802%5D%2C%20%5B103.74094395879672%2C%201.365617164500577%5D%5D%5D%2C%20%22type%22%3A%20%22Polygon%22%7D%2C%20%22id%22%3A%20%220%22%2C%20%22properties%22%3A%20%7B%7D%2C%20%22type%22%3A%20%22Feature%22%7D%5D%2C%20%22type%22%3A%20%22FeatureCollection%22%7D%29%3B%0A%0A%20%20%20%20%20%20%20%20%0A%20%20%20%20%0A%20%20%20%20%20%20%20%20function%20geo_json_44d10b73ee184008abdef61a88d71d6d_styler%28feature%29%20%7B%0A%20%20%20%20%20%20%20%20%20%20%20%20switch%28feature.id%29%20%7B%0A%20%20%20%20%20%20%20%20%20%20%20%20%20%20%20%20default%3A%0A%20%20%20%20%20%20%20%20%20%20%20%20%20%20%20%20%20%20%20%20return%20%7B%22color%22%3A%20%22grey%22%2C%20%22fillColor%22%3A%20%22%2300000000%22%2C%20%22opacity%22%3A%200.8%7D%3B%0A%20%20%20%20%20%20%20%20%20%20%20%20%7D%0A%20%20%20%20%20%20%20%20%7D%0A%0A%20%20%20%20%20%20%20%20function%20geo_json_44d10b73ee184008abdef61a88d71d6d_onEachFeature%28feature%2C%20layer%29%20%7B%0A%20%20%20%20%20%20%20%20%20%20%20%20layer.on%28%7B%0A%20%20%20%20%20%20%20%20%20%20%20%20%7D%29%3B%0A%20%20%20%20%20%20%20%20%7D%3B%0A%20%20%20%20%20%20%20%20var%20geo_json_44d10b73ee184008abdef61a88d71d6d%20%3D%20L.geoJson%28null%2C%20%7B%0A%20%20%20%20%20%20%20%20%20%20%20%20%20%20%20%20onEachFeature%3A%20geo_json_44d10b73ee184008abdef61a88d71d6d_onEachFeature%2C%0A%20%20%20%20%20%20%20%20%20%20%20%20%0A%20%20%20%20%20%20%20%20%20%20%20%20%20%20%20%20style%3A%20geo_json_44d10b73ee184008abdef61a88d71d6d_styler%2C%0A%20%20%20%20%20%20%20%20%7D%29%3B%0A%0A%20%20%20%20%20%20%20%20function%20geo_json_44d10b73ee184008abdef61a88d71d6d_add%20%28data%29%20%7B%0A%20%20%20%20%20%20%20%20%20%20%20%20geo_json_44d10b73ee184008abdef61a88d71d6d%0A%20%20%20%20%20%20%20%20%20%20%20%20%20%20%20%20.addData%28data%29%0A%20%20%20%20%20%20%20%20%20%20%20%20%20%20%20%20.addTo%28map_3362e960a2d349eba9a11488e57ff808%29%3B%0A%20%20%20%20%20%20%20%20%7D%0A%20%20%20%20%20%20%20%20%20%20%20%20geo_json_44d10b73ee184008abdef61a88d71d6d_add%28%7B%22bbox%22%3A%20%5B103.74094377893232%2C%201.3679685607005467%2C%20103.74633918780336%2C%201.3726713513018467%5D%2C%20%22features%22%3A%20%5B%7B%22bbox%22%3A%20%5B103.74094377893232%2C%201.3679685607005467%2C%20103.74633918780336%2C%201.3726713513018467%5D%2C%20%22geometry%22%3A%20%7B%22coordinates%22%3A%20%5B%5B%5B103.74094377893232%2C%201.3703198534785201%5D%2C%20%5B103.74229254256687%2C%201.3726712487791701%5D%2C%20%5B103.74499024970032%2C%201.3726713513018467%5D%2C%20%5B103.74633918780336%2C%201.3703200567252907%5D%2C%20%5B103.74499042147085%2C%201.3679686623239604%5D%2C%20%5B103.74229271973331%2C%201.3679685607005467%5D%2C%20%5B103.74094377893232%2C%201.3703198534785201%5D%5D%5D%2C%20%22type%22%3A%20%22Polygon%22%7D%2C%20%22id%22%3A%20%220%22%2C%20%22properties%22%3A%20%7B%7D%2C%20%22type%22%3A%20%22Feature%22%7D%5D%2C%20%22type%22%3A%20%22FeatureCollection%22%7D%29%3B%0A%0A%20%20%20%20%20%20%20%20%0A%20%20%20%20%0A%20%20%20%20%20%20%20%20function%20geo_json_5151b103ceed47a9884db7358c32e8c5_styler%28feature%29%20%7B%0A%20%20%20%20%20%20%20%20%20%20%20%20switch%28feature.id%29%20%7B%0A%20%20%20%20%20%20%20%20%20%20%20%20%20%20%20%20default%3A%0A%20%20%20%20%20%20%20%20%20%20%20%20%20%20%20%20%20%20%20%20return%20%7B%22color%22%3A%20%22grey%22%2C%20%22fillColor%22%3A%20%22%2300000000%22%2C%20%22opacity%22%3A%200.8%7D%3B%0A%20%20%20%20%20%20%20%20%20%20%20%20%7D%0A%20%20%20%20%20%20%20%20%7D%0A%0A%20%20%20%20%20%20%20%20function%20geo_json_5151b103ceed47a9884db7358c32e8c5_onEachFeature%28feature%2C%20layer%29%20%7B%0A%20%20%20%20%20%20%20%20%20%20%20%20layer.on%28%7B%0A%20%20%20%20%20%20%20%20%20%20%20%20%7D%29%3B%0A%20%20%20%20%20%20%20%20%7D%3B%0A%20%20%20%20%20%20%20%20var%20geo_json_5151b103ceed47a9884db7358c32e8c5%20%3D%20L.geoJson%28null%2C%20%7B%0A%20%20%20%20%20%20%20%20%20%20%20%20%20%20%20%20onEachFeature%3A%20geo_json_5151b103ceed47a9884db7358c32e8c5_onEachFeature%2C%0A%20%20%20%20%20%20%20%20%20%20%20%20%0A%20%20%20%20%20%20%20%20%20%20%20%20%20%20%20%20style%3A%20geo_json_5151b103ceed47a9884db7358c32e8c5_styler%2C%0A%20%20%20%20%20%20%20%20%7D%29%3B%0A%0A%20%20%20%20%20%20%20%20function%20geo_json_5151b103ceed47a9884db7358c32e8c5_add%20%28data%29%20%7B%0A%20%20%20%20%20%20%20%20%20%20%20%20geo_json_5151b103ceed47a9884db7358c32e8c5%0A%20%20%20%20%20%20%20%20%20%20%20%20%20%20%20%20.addData%28data%29%0A%20%20%20%20%20%20%20%20%20%20%20%20%20%20%20%20.addTo%28map_3362e960a2d349eba9a11488e57ff808%29%3B%0A%20%20%20%20%20%20%20%20%7D%0A%20%20%20%20%20%20%20%20%20%20%20%20geo_json_5151b103ceed47a9884db7358c32e8c5_add%28%7B%22bbox%22%3A%20%5B103.74094359906792%2C%201.3726712487791701%2C%20103.74633901783147%2C%201.37737403938047%5D%2C%20%22features%22%3A%20%5B%7B%22bbox%22%3A%20%5B103.74094359906792%2C%201.3726712487791701%2C%20103.74633901783147%2C%201.37737403938047%5D%2C%20%22geometry%22%3A%20%7B%22coordinates%22%3A%20%5B%5B%5B103.74094359906792%2C%201.3750225415570867%5D%2C%20%5B103.74229236450105%2C%201.3773739368577367%5D%2C%20%5B103.74499007703048%2C%201.37737403938047%5D%2C%20%5B103.74633901783147%2C%201.3750227448038572%5D%2C%20%5B103.74499024970032%2C%201.3726713513018467%5D%2C%20%5B103.74229254256687%2C%201.3726712487791701%5D%2C%20%5B103.74094359906792%2C%201.3750225415570867%5D%5D%5D%2C%20%22type%22%3A%20%22Polygon%22%7D%2C%20%22id%22%3A%20%220%22%2C%20%22properties%22%3A%20%7B%7D%2C%20%22type%22%3A%20%22Feature%22%7D%5D%2C%20%22type%22%3A%20%22FeatureCollection%22%7D%29%3B%0A%0A%20%20%20%20%20%20%20%20%0A%20%20%20%20%0A%20%20%20%20%20%20%20%20function%20geo_json_e663fe218a6c4b4f95c897db9f371492_styler%28feature%29%20%7B%0A%20%20%20%20%20%20%20%20%20%20%20%20switch%28feature.id%29%20%7B%0A%20%20%20%20%20%20%20%20%20%20%20%20%20%20%20%20default%3A%0A%20%20%20%20%20%20%20%20%20%20%20%20%20%20%20%20%20%20%20%20return%20%7B%22color%22%3A%20%22grey%22%2C%20%22fillColor%22%3A%20%22%2300000000%22%2C%20%22opacity%22%3A%200.8%7D%3B%0A%20%20%20%20%20%20%20%20%20%20%20%20%7D%0A%20%20%20%20%20%20%20%20%7D%0A%0A%20%20%20%20%20%20%20%20function%20geo_json_e663fe218a6c4b4f95c897db9f371492_onEachFeature%28feature%2C%20layer%29%20%7B%0A%20%20%20%20%20%20%20%20%20%20%20%20layer.on%28%7B%0A%20%20%20%20%20%20%20%20%20%20%20%20%7D%29%3B%0A%20%20%20%20%20%20%20%20%7D%3B%0A%20%20%20%20%20%20%20%20var%20geo_json_e663fe218a6c4b4f95c897db9f371492%20%3D%20L.geoJson%28null%2C%20%7B%0A%20%20%20%20%20%20%20%20%20%20%20%20%20%20%20%20onEachFeature%3A%20geo_json_e663fe218a6c4b4f95c897db9f371492_onEachFeature%2C%0A%20%20%20%20%20%20%20%20%20%20%20%20%0A%20%20%20%20%20%20%20%20%20%20%20%20%20%20%20%20style%3A%20geo_json_e663fe218a6c4b4f95c897db9f371492_styler%2C%0A%20%20%20%20%20%20%20%20%7D%29%3B%0A%0A%20%20%20%20%20%20%20%20function%20geo_json_e663fe218a6c4b4f95c897db9f371492_add%20%28data%29%20%7B%0A%20%20%20%20%20%20%20%20%20%20%20%20geo_json_e663fe218a6c4b4f95c897db9f371492%0A%20%20%20%20%20%20%20%20%20%20%20%20%20%20%20%20.addData%28data%29%0A%20%20%20%20%20%20%20%20%20%20%20%20%20%20%20%20.addTo%28map_3362e960a2d349eba9a11488e57ff808%29%3B%0A%20%20%20%20%20%20%20%20%7D%0A%20%20%20%20%20%20%20%20%20%20%20%20geo_json_e663fe218a6c4b4f95c897db9f371492_add%28%7B%22bbox%22%3A%20%5B103.74499177854779%2C%201.3279958496287918%2C%20103.75038710018458%2C%201.3326986339348537%5D%2C%20%22features%22%3A%20%5B%7B%22bbox%22%3A%20%5B103.74499177854779%2C%201.3279958496287918%2C%20103.75038710018458%2C%201.3326986339348537%5D%2C%20%22geometry%22%3A%20%7B%22coordinates%22%3A%20%5B%5B%5B103.74499177854779%2C%201.3303471469033639%5D%2C%20%5B103.74634052689385%2C%201.3326985404053744%5D%2C%20%5B103.74903818996057%2C%201.3326986339348537%5D%2C%20%5B103.75038710018458%2C%201.3303473348616421%5D%2C%20%5B103.74903834914056%2C%201.3279959440576476%5D%2C%20%5B103.74634069146981%2C%201.3279958496287918%5D%2C%20%5B103.74499177854779%2C%201.3303471469033639%5D%5D%5D%2C%20%22type%22%3A%20%22Polygon%22%7D%2C%20%22id%22%3A%20%220%22%2C%20%22properties%22%3A%20%7B%7D%2C%20%22type%22%3A%20%22Feature%22%7D%5D%2C%20%22type%22%3A%20%22FeatureCollection%22%7D%29%3B%0A%0A%20%20%20%20%20%20%20%20%0A%20%20%20%20%0A%20%20%20%20%20%20%20%20function%20geo_json_ce756cf81fb14d9c992461ff001d021a_styler%28feature%29%20%7B%0A%20%20%20%20%20%20%20%20%20%20%20%20switch%28feature.id%29%20%7B%0A%20%20%20%20%20%20%20%20%20%20%20%20%20%20%20%20default%3A%0A%20%20%20%20%20%20%20%20%20%20%20%20%20%20%20%20%20%20%20%20return%20%7B%22color%22%3A%20%22grey%22%2C%20%22fillColor%22%3A%20%22%2300000000%22%2C%20%22opacity%22%3A%200.8%7D%3B%0A%20%20%20%20%20%20%20%20%20%20%20%20%7D%0A%20%20%20%20%20%20%20%20%7D%0A%0A%20%20%20%20%20%20%20%20function%20geo_json_ce756cf81fb14d9c992461ff001d021a_onEachFeature%28feature%2C%20layer%29%20%7B%0A%20%20%20%20%20%20%20%20%20%20%20%20layer.on%28%7B%0A%20%20%20%20%20%20%20%20%20%20%20%20%7D%29%3B%0A%20%20%20%20%20%20%20%20%7D%3B%0A%20%20%20%20%20%20%20%20var%20geo_json_ce756cf81fb14d9c992461ff001d021a%20%3D%20L.geoJson%28null%2C%20%7B%0A%20%20%20%20%20%20%20%20%20%20%20%20%20%20%20%20onEachFeature%3A%20geo_json_ce756cf81fb14d9c992461ff001d021a_onEachFeature%2C%0A%20%20%20%20%20%20%20%20%20%20%20%20%0A%20%20%20%20%20%20%20%20%20%20%20%20%20%20%20%20style%3A%20geo_json_ce756cf81fb14d9c992461ff001d021a_styler%2C%0A%20%20%20%20%20%20%20%20%7D%29%3B%0A%0A%20%20%20%20%20%20%20%20function%20geo_json_ce756cf81fb14d9c992461ff001d021a_add%20%28data%29%20%7B%0A%20%20%20%20%20%20%20%20%20%20%20%20geo_json_ce756cf81fb14d9c992461ff001d021a%0A%20%20%20%20%20%20%20%20%20%20%20%20%20%20%20%20.addData%28data%29%0A%20%20%20%20%20%20%20%20%20%20%20%20%20%20%20%20.addTo%28map_3362e960a2d349eba9a11488e57ff808%29%3B%0A%20%20%20%20%20%20%20%20%7D%0A%20%20%20%20%20%20%20%20%20%20%20%20geo_json_ce756cf81fb14d9c992461ff001d021a_add%28%7B%22bbox%22%3A%20%5B103.74499024970032%2C%201.3703200567252907%2C%20103.75038566396728%2C%201.375022842829992%5D%2C%20%22features%22%3A%20%5B%7B%22bbox%22%3A%20%5B103.74499024970032%2C%201.3703200567252907%2C%20103.75038566396728%2C%201.375022842829992%5D%2C%20%22geometry%22%3A%20%7B%22coordinates%22%3A%20%5B%5B%5B103.74499024970032%2C%201.3726713513018467%5D%2C%20%5B103.74633901783147%2C%201.3750227448038572%5D%2C%20%5B103.74903672766288%2C%201.375022842829992%5D%2C%20%5B103.75038566396728%2C%201.37267154555542%5D%2C%20%5B103.74903689313817%2C%201.3703201538520489%5D%2C%20%5B103.74633918780336%2C%201.3703200567252907%5D%2C%20%5B103.74499024970032%2C%201.3726713513018467%5D%5D%5D%2C%20%22type%22%3A%20%22Polygon%22%7D%2C%20%22id%22%3A%20%220%22%2C%20%22properties%22%3A%20%7B%7D%2C%20%22type%22%3A%20%22Feature%22%7D%5D%2C%20%22type%22%3A%20%22FeatureCollection%22%7D%29%3B%0A%0A%20%20%20%20%20%20%20%20%0A%20%20%20%20%0A%20%20%20%20%20%20%20%20function%20geo_json_062ce4f0f3d148ff8679196f5669732f_styler%28feature%29%20%7B%0A%20%20%20%20%20%20%20%20%20%20%20%20switch%28feature.id%29%20%7B%0A%20%20%20%20%20%20%20%20%20%20%20%20%20%20%20%20default%3A%0A%20%20%20%20%20%20%20%20%20%20%20%20%20%20%20%20%20%20%20%20return%20%7B%22color%22%3A%20%22grey%22%2C%20%22fillColor%22%3A%20%22%2300000000%22%2C%20%22opacity%22%3A%200.8%7D%3B%0A%20%20%20%20%20%20%20%20%20%20%20%20%7D%0A%20%20%20%20%20%20%20%20%7D%0A%0A%20%20%20%20%20%20%20%20function%20geo_json_062ce4f0f3d148ff8679196f5669732f_onEachFeature%28feature%2C%20layer%29%20%7B%0A%20%20%20%20%20%20%20%20%20%20%20%20layer.on%28%7B%0A%20%20%20%20%20%20%20%20%20%20%20%20%7D%29%3B%0A%20%20%20%20%20%20%20%20%7D%3B%0A%20%20%20%20%20%20%20%20var%20geo_json_062ce4f0f3d148ff8679196f5669732f%20%3D%20L.geoJson%28null%2C%20%7B%0A%20%20%20%20%20%20%20%20%20%20%20%20%20%20%20%20onEachFeature%3A%20geo_json_062ce4f0f3d148ff8679196f5669732f_onEachFeature%2C%0A%20%20%20%20%20%20%20%20%20%20%20%20%0A%20%20%20%20%20%20%20%20%20%20%20%20%20%20%20%20style%3A%20geo_json_062ce4f0f3d148ff8679196f5669732f_styler%2C%0A%20%20%20%20%20%20%20%20%7D%29%3B%0A%0A%20%20%20%20%20%20%20%20function%20geo_json_062ce4f0f3d148ff8679196f5669732f_add%20%28data%29%20%7B%0A%20%20%20%20%20%20%20%20%20%20%20%20geo_json_062ce4f0f3d148ff8679196f5669732f%0A%20%20%20%20%20%20%20%20%20%20%20%20%20%20%20%20.addData%28data%29%0A%20%20%20%20%20%20%20%20%20%20%20%20%20%20%20%20.addTo%28map_3362e960a2d349eba9a11488e57ff808%29%3B%0A%20%20%20%20%20%20%20%20%7D%0A%20%20%20%20%20%20%20%20%20%20%20%20geo_json_062ce4f0f3d148ff8679196f5669732f_add%28%7B%22bbox%22%3A%20%5B103.74903689313817%2C%201.3679688565775336%2C%20103.75443230290853%2C%201.3726716381855795%5D%2C%20%22features%22%3A%20%5B%7B%22bbox%22%3A%20%5B103.74903689313817%2C%201.3679688565775336%2C%20103.75443230290853%2C%201.3726716381855795%5D%2C%20%22geometry%22%3A%20%7B%22coordinates%22%3A%20%5B%5B%5B103.74903689313817%2C%201.3703201538520489%5D%2C%20%5B103.75038566396728%2C%201.37267154555542%5D%2C%20%5B103.7530833720001%2C%201.3726716381855795%5D%2C%20%5B103.75443230290853%2C%201.370320338213105%5D%2C%20%5B103.75308352848214%2C%201.3679689483083735%5D%2C%20%5B103.75038582584523%2C%201.3679688565775336%5D%2C%20%5B103.74903689313817%2C%201.3703201538520489%5D%5D%5D%2C%20%22type%22%3A%20%22Polygon%22%7D%2C%20%22id%22%3A%20%220%22%2C%20%22properties%22%3A%20%7B%7D%2C%20%22type%22%3A%20%22Feature%22%7D%5D%2C%20%22type%22%3A%20%22FeatureCollection%22%7D%29%3B%0A%0A%20%20%20%20%20%20%20%20%0A%20%20%20%20%0A%20%20%20%20%20%20%20%20function%20geo_json_959a6cd260214dcdb2aa5f54ed15eab9_styler%28feature%29%20%7B%0A%20%20%20%20%20%20%20%20%20%20%20%20switch%28feature.id%29%20%7B%0A%20%20%20%20%20%20%20%20%20%20%20%20%20%20%20%20default%3A%0A%20%20%20%20%20%20%20%20%20%20%20%20%20%20%20%20%20%20%20%20return%20%7B%22color%22%3A%20%22grey%22%2C%20%22fillColor%22%3A%20%22%2300000000%22%2C%20%22opacity%22%3A%200.8%7D%3B%0A%20%20%20%20%20%20%20%20%20%20%20%20%7D%0A%20%20%20%20%20%20%20%20%7D%0A%0A%20%20%20%20%20%20%20%20function%20geo_json_959a6cd260214dcdb2aa5f54ed15eab9_onEachFeature%28feature%2C%20layer%29%20%7B%0A%20%20%20%20%20%20%20%20%20%20%20%20layer.on%28%7B%0A%20%20%20%20%20%20%20%20%20%20%20%20%7D%29%3B%0A%20%20%20%20%20%20%20%20%7D%3B%0A%20%20%20%20%20%20%20%20var%20geo_json_959a6cd260214dcdb2aa5f54ed15eab9%20%3D%20L.geoJson%28null%2C%20%7B%0A%20%20%20%20%20%20%20%20%20%20%20%20%20%20%20%20onEachFeature%3A%20geo_json_959a6cd260214dcdb2aa5f54ed15eab9_onEachFeature%2C%0A%20%20%20%20%20%20%20%20%20%20%20%20%0A%20%20%20%20%20%20%20%20%20%20%20%20%20%20%20%20style%3A%20geo_json_959a6cd260214dcdb2aa5f54ed15eab9_styler%2C%0A%20%20%20%20%20%20%20%20%7D%29%3B%0A%0A%20%20%20%20%20%20%20%20function%20geo_json_959a6cd260214dcdb2aa5f54ed15eab9_add%20%28data%29%20%7B%0A%20%20%20%20%20%20%20%20%20%20%20%20geo_json_959a6cd260214dcdb2aa5f54ed15eab9%0A%20%20%20%20%20%20%20%20%20%20%20%20%20%20%20%20.addData%28data%29%0A%20%20%20%20%20%20%20%20%20%20%20%20%20%20%20%20.addTo%28map_3362e960a2d349eba9a11488e57ff808%29%3B%0A%20%20%20%20%20%20%20%20%7D%0A%20%20%20%20%20%20%20%20%20%20%20%20geo_json_959a6cd260214dcdb2aa5f54ed15eab9_add%28%7B%22bbox%22%3A%20%5B103.9594550709948%2C%201.3115345473814841%2C%20103.96485034856477%2C%201.3162373712577278%5D%2C%20%22features%22%3A%20%5B%7B%22bbox%22%3A%20%5B103.9594550709948%2C%201.3115345473814841%2C%20103.96485034856477%2C%201.3162373712577278%5D%2C%20%22geometry%22%3A%20%7B%22coordinates%22%3A%20%5B%5B%5B103.9594550709948%2C%201.3138860982648453%5D%2C%20%5B103.9608040099971%2C%201.3162373712577278%5D%2C%20%5B103.9635016514801%2C%201.3162372309635089%5D%2C%20%5B103.96485034856477%2C%201.3138858176764074%5D%2C%20%5B103.96350140776383%2C%201.3115345473814841%5D%2C%20%5B103.96080377167681%2C%201.3115346867764401%5D%2C%20%5B103.9594550709948%2C%201.3138860982648453%5D%5D%5D%2C%20%22type%22%3A%20%22Polygon%22%7D%2C%20%22id%22%3A%20%220%22%2C%20%22properties%22%3A%20%7B%7D%2C%20%22type%22%3A%20%22Feature%22%7D%5D%2C%20%22type%22%3A%20%22FeatureCollection%22%7D%29%3B%0A%0A%20%20%20%20%20%20%20%20%0A%20%20%20%20%0A%20%20%20%20%20%20%20%20function%20geo_json_32bc6f9c006c4179897b0d8303128267_styler%28feature%29%20%7B%0A%20%20%20%20%20%20%20%20%20%20%20%20switch%28feature.id%29%20%7B%0A%20%20%20%20%20%20%20%20%20%20%20%20%20%20%20%20default%3A%0A%20%20%20%20%20%20%20%20%20%20%20%20%20%20%20%20%20%20%20%20return%20%7B%22color%22%3A%20%22grey%22%2C%20%22fillColor%22%3A%20%22%2300000000%22%2C%20%22opacity%22%3A%200.8%7D%3B%0A%20%20%20%20%20%20%20%20%20%20%20%20%7D%0A%20%20%20%20%20%20%20%20%7D%0A%0A%20%20%20%20%20%20%20%20function%20geo_json_32bc6f9c006c4179897b0d8303128267_onEachFeature%28feature%2C%20layer%29%20%7B%0A%20%20%20%20%20%20%20%20%20%20%20%20layer.on%28%7B%0A%20%20%20%20%20%20%20%20%20%20%20%20%7D%29%3B%0A%20%20%20%20%20%20%20%20%7D%3B%0A%20%20%20%20%20%20%20%20var%20geo_json_32bc6f9c006c4179897b0d8303128267%20%3D%20L.geoJson%28null%2C%20%7B%0A%20%20%20%20%20%20%20%20%20%20%20%20%20%20%20%20onEachFeature%3A%20geo_json_32bc6f9c006c4179897b0d8303128267_onEachFeature%2C%0A%20%20%20%20%20%20%20%20%20%20%20%20%0A%20%20%20%20%20%20%20%20%20%20%20%20%20%20%20%20style%3A%20geo_json_32bc6f9c006c4179897b0d8303128267_styler%2C%0A%20%20%20%20%20%20%20%20%7D%29%3B%0A%0A%20%20%20%20%20%20%20%20function%20geo_json_32bc6f9c006c4179897b0d8303128267_add%20%28data%29%20%7B%0A%20%20%20%20%20%20%20%20%20%20%20%20geo_json_32bc6f9c006c4179897b0d8303128267%0A%20%20%20%20%20%20%20%20%20%20%20%20%20%20%20%20.addData%28data%29%0A%20%20%20%20%20%20%20%20%20%20%20%20%20%20%20%20.addTo%28map_3362e960a2d349eba9a11488e57ff808%29%3B%0A%20%20%20%20%20%20%20%20%7D%0A%20%20%20%20%20%20%20%20%20%20%20%20geo_json_32bc6f9c006c4179897b0d8303128267_add%28%7B%22bbox%22%3A%20%5B103.95945602067889%2C%201.3303452826087323%2C%20103.96485133961767%2C%201.3350481082836154%5D%2C%20%22features%22%3A%20%5B%7B%22bbox%22%3A%20%5B103.95945602067889%2C%201.3303452826087323%2C%20103.96485133961767%2C%201.3350481082836154%5D%2C%20%22geometry%22%3A%20%7B%22coordinates%22%3A%20%5B%5B%5B103.95945602067889%2C%201.3326968361901095%5D%2C%20%5B103.9608049713724%2C%201.3350481082836154%5D%2C%20%5B103.96350263353975%2C%201.335047966190757%5D%2C%20%5B103.96485133961767%2C%201.3326965529036556%5D%2C%20%5B103.96350238712552%2C%201.3303452826087323%5D%2C%20%5B103.96080473035408%2C%201.3303454247016475%5D%2C%20%5B103.95945602067889%2C%201.3326968361901095%5D%5D%5D%2C%20%22type%22%3A%20%22Polygon%22%7D%2C%20%22id%22%3A%20%220%22%2C%20%22properties%22%3A%20%7B%7D%2C%20%22type%22%3A%20%22Feature%22%7D%5D%2C%20%22type%22%3A%20%22FeatureCollection%22%7D%29%3B%0A%0A%20%20%20%20%20%20%20%20%0A%20%20%20%20%0A%20%20%20%20%20%20%20%20function%20geo_json_79c4d01b6c5d484cb887184c27a411c2_styler%28feature%29%20%7B%0A%20%20%20%20%20%20%20%20%20%20%20%20switch%28feature.id%29%20%7B%0A%20%20%20%20%20%20%20%20%20%20%20%20%20%20%20%20default%3A%0A%20%20%20%20%20%20%20%20%20%20%20%20%20%20%20%20%20%20%20%20return%20%7B%22color%22%3A%20%22grey%22%2C%20%22fillColor%22%3A%20%22%2300000000%22%2C%20%22opacity%22%3A%200.8%7D%3B%0A%20%20%20%20%20%20%20%20%20%20%20%20%7D%0A%20%20%20%20%20%20%20%20%7D%0A%0A%20%20%20%20%20%20%20%20function%20geo_json_79c4d01b6c5d484cb887184c27a411c2_onEachFeature%28feature%2C%20layer%29%20%7B%0A%20%20%20%20%20%20%20%20%20%20%20%20layer.on%28%7B%0A%20%20%20%20%20%20%20%20%20%20%20%20%7D%29%3B%0A%20%20%20%20%20%20%20%20%7D%3B%0A%20%20%20%20%20%20%20%20var%20geo_json_79c4d01b6c5d484cb887184c27a411c2%20%3D%20L.geoJson%28null%2C%20%7B%0A%20%20%20%20%20%20%20%20%20%20%20%20%20%20%20%20onEachFeature%3A%20geo_json_79c4d01b6c5d484cb887184c27a411c2_onEachFeature%2C%0A%20%20%20%20%20%20%20%20%20%20%20%20%0A%20%20%20%20%20%20%20%20%20%20%20%20%20%20%20%20style%3A%20geo_json_79c4d01b6c5d484cb887184c27a411c2_styler%2C%0A%20%20%20%20%20%20%20%20%7D%29%3B%0A%0A%20%20%20%20%20%20%20%20function%20geo_json_79c4d01b6c5d484cb887184c27a411c2_add%20%28data%29%20%7B%0A%20%20%20%20%20%20%20%20%20%20%20%20geo_json_79c4d01b6c5d484cb887184c27a411c2%0A%20%20%20%20%20%20%20%20%20%20%20%20%20%20%20%20.addData%28data%29%0A%20%20%20%20%20%20%20%20%20%20%20%20%20%20%20%20.addTo%28map_3362e960a2d349eba9a11488e57ff808%29%3B%0A%20%20%20%20%20%20%20%20%7D%0A%20%20%20%20%20%20%20%20%20%20%20%20geo_json_79c4d01b6c5d484cb887184c27a411c2_add%28%7B%22bbox%22%3A%20%5B103.96350238712552%2C%201.3279937236314936%2C%20103.96889769976912%2C%201.3326965529036556%5D%2C%20%22features%22%3A%20%5B%7B%22bbox%22%3A%20%5B103.96350238712552%2C%201.3279937236314936%2C%20103.96889769976912%2C%201.3326965529036556%5D%2C%20%22geometry%22%3A%20%7B%22coordinates%22%3A%20%5B%5B%5B103.96350238712552%2C%201.3303452826087323%5D%2C%20%5B103.96485133961767%2C%201.3326965529036556%5D%2C%20%5B103.9675489981878%2C%201.3326964063141418%5D%2C%20%5B103.96889769976912%2C%201.3303449903290812%5D%2C%20%5B103.96754874457895%2C%201.3279937236314936%5D%2C%20%5B103.96485109050548%2C%201.3279938693216877%5D%2C%20%5B103.96350238712552%2C%201.3303452826087323%5D%5D%5D%2C%20%22type%22%3A%20%22Polygon%22%7D%2C%20%22id%22%3A%20%220%22%2C%20%22properties%22%3A%20%7B%7D%2C%20%22type%22%3A%20%22Feature%22%7D%5D%2C%20%22type%22%3A%20%22FeatureCollection%22%7D%29%3B%0A%0A%20%20%20%20%20%20%20%20%0A%20%20%20%20%0A%20%20%20%20%20%20%20%20function%20geo_json_1b70f81292c94612b8c984c512596f96_styler%28feature%29%20%7B%0A%20%20%20%20%20%20%20%20%20%20%20%20switch%28feature.id%29%20%7B%0A%20%20%20%20%20%20%20%20%20%20%20%20%20%20%20%20default%3A%0A%20%20%20%20%20%20%20%20%20%20%20%20%20%20%20%20%20%20%20%20return%20%7B%22color%22%3A%20%22grey%22%2C%20%22fillColor%22%3A%20%22%2300000000%22%2C%20%22opacity%22%3A%200.8%7D%3B%0A%20%20%20%20%20%20%20%20%20%20%20%20%7D%0A%20%20%20%20%20%20%20%20%7D%0A%0A%20%20%20%20%20%20%20%20function%20geo_json_1b70f81292c94612b8c984c512596f96_onEachFeature%28feature%2C%20layer%29%20%7B%0A%20%20%20%20%20%20%20%20%20%20%20%20layer.on%28%7B%0A%20%20%20%20%20%20%20%20%20%20%20%20%7D%29%3B%0A%20%20%20%20%20%20%20%20%7D%3B%0A%20%20%20%20%20%20%20%20var%20geo_json_1b70f81292c94612b8c984c512596f96%20%3D%20L.geoJson%28null%2C%20%7B%0A%20%20%20%20%20%20%20%20%20%20%20%20%20%20%20%20onEachFeature%3A%20geo_json_1b70f81292c94612b8c984c512596f96_onEachFeature%2C%0A%20%20%20%20%20%20%20%20%20%20%20%20%0A%20%20%20%20%20%20%20%20%20%20%20%20%20%20%20%20style%3A%20geo_json_1b70f81292c94612b8c984c512596f96_styler%2C%0A%20%20%20%20%20%20%20%20%7D%29%3B%0A%0A%20%20%20%20%20%20%20%20function%20geo_json_1b70f81292c94612b8c984c512596f96_add%20%28data%29%20%7B%0A%20%20%20%20%20%20%20%20%20%20%20%20geo_json_1b70f81292c94612b8c984c512596f96%0A%20%20%20%20%20%20%20%20%20%20%20%20%20%20%20%20.addData%28data%29%0A%20%20%20%20%20%20%20%20%20%20%20%20%20%20%20%20.addTo%28map_3362e960a2d349eba9a11488e57ff808%29%3B%0A%20%20%20%20%20%20%20%20%7D%0A%20%20%20%20%20%20%20%20%20%20%20%20geo_json_1b70f81292c94612b8c984c512596f96_add%28%7B%22bbox%22%3A%20%5B103.96350263353975%2C%201.3326964063141418%2C%20103.96889795697518%2C%201.3373992355863038%5D%2C%20%22features%22%3A%20%5B%7B%22bbox%22%3A%20%5B103.96350263353975%2C%201.3326964063141418%2C%20103.96889795697518%2C%201.3373992355863038%5D%2C%20%22geometry%22%3A%20%7B%22coordinates%22%3A%20%5B%5B%5B103.96350263353975%2C%201.335047966190757%5D%2C%20%5B103.96485158962923%2C%201.3373992355863038%5D%2C%20%5B103.96754925359522%2C%201.33739908899679%5D%2C%20%5B103.96889795697518%2C%201.3350476730117293%5D%2C%20%5B103.9675489981878%2C%201.3326964063141418%5D%2C%20%5B103.96485133961767%2C%201.3326965529036556%5D%2C%20%5B103.96350263353975%2C%201.335047966190757%5D%5D%5D%2C%20%22type%22%3A%20%22Polygon%22%7D%2C%20%22id%22%3A%20%220%22%2C%20%22properties%22%3A%20%7B%7D%2C%20%22type%22%3A%20%22Feature%22%7D%5D%2C%20%22type%22%3A%20%22FeatureCollection%22%7D%29%3B%0A%0A%20%20%20%20%20%20%20%20%0A%20%20%20%20%0A%20%20%20%20%20%20%20%20function%20geo_json_3e79904385b349868cf41212070b7d47_styler%28feature%29%20%7B%0A%20%20%20%20%20%20%20%20%20%20%20%20switch%28feature.id%29%20%7B%0A%20%20%20%20%20%20%20%20%20%20%20%20%20%20%20%20default%3A%0A%20%20%20%20%20%20%20%20%20%20%20%20%20%20%20%20%20%20%20%20return%20%7B%22color%22%3A%20%22grey%22%2C%20%22fillColor%22%3A%20%22%2300000000%22%2C%20%22opacity%22%3A%200.8%7D%3B%0A%20%20%20%20%20%20%20%20%20%20%20%20%7D%0A%20%20%20%20%20%20%20%20%7D%0A%0A%20%20%20%20%20%20%20%20function%20geo_json_3e79904385b349868cf41212070b7d47_onEachFeature%28feature%2C%20layer%29%20%7B%0A%20%20%20%20%20%20%20%20%20%20%20%20layer.on%28%7B%0A%20%20%20%20%20%20%20%20%20%20%20%20%7D%29%3B%0A%20%20%20%20%20%20%20%20%7D%3B%0A%20%20%20%20%20%20%20%20var%20geo_json_3e79904385b349868cf41212070b7d47%20%3D%20L.geoJson%28null%2C%20%7B%0A%20%20%20%20%20%20%20%20%20%20%20%20%20%20%20%20onEachFeature%3A%20geo_json_3e79904385b349868cf41212070b7d47_onEachFeature%2C%0A%20%20%20%20%20%20%20%20%20%20%20%20%0A%20%20%20%20%20%20%20%20%20%20%20%20%20%20%20%20style%3A%20geo_json_3e79904385b349868cf41212070b7d47_styler%2C%0A%20%20%20%20%20%20%20%20%7D%29%3B%0A%0A%20%20%20%20%20%20%20%20function%20geo_json_3e79904385b349868cf41212070b7d47_add%20%28data%29%20%7B%0A%20%20%20%20%20%20%20%20%20%20%20%20geo_json_3e79904385b349868cf41212070b7d47%0A%20%20%20%20%20%20%20%20%20%20%20%20%20%20%20%20.addData%28data%29%0A%20%20%20%20%20%20%20%20%20%20%20%20%20%20%20%20.addTo%28map_3362e960a2d349eba9a11488e57ff808%29%3B%0A%20%20%20%20%20%20%20%20%7D%0A%20%20%20%20%20%20%20%20%20%20%20%20geo_json_3e79904385b349868cf41212070b7d47_add%28%7B%22bbox%22%3A%20%5B103.96754823915995%2C%201.3162367929936636%2C%20103.97294352572317%2C%201.3209396249637848%5D%2C%20%22features%22%3A%20%5B%7B%22bbox%22%3A%20%5B103.96754823915995%2C%201.3162367929936636%2C%20103.97294352572317%2C%201.3209396249637848%5D%2C%20%22geometry%22%3A%20%7B%22coordinates%22%3A%20%5B%5B%5B103.96754823915995%2C%201.3185883573668207%5D%2C%20%5B103.96889718805483%2C%201.3209396249637848%5D%2C%20%5B103.97159483403442%2C%201.3209394756763118%5D%2C%20%5B103.97294352572317%2C%201.3185880587919314%5D%2C%20%5B103.97159457413034%2C%201.3162367929936636%5D%2C%20%5B103.96889693354672%2C%201.3162369422811366%5D%2C%20%5B103.96754823915995%2C%201.3185883573668207%5D%5D%5D%2C%20%22type%22%3A%20%22Polygon%22%7D%2C%20%22id%22%3A%20%220%22%2C%20%22properties%22%3A%20%7B%7D%2C%20%22type%22%3A%20%22Feature%22%7D%5D%2C%20%22type%22%3A%20%22FeatureCollection%22%7D%29%3B%0A%0A%20%20%20%20%20%20%20%20%0A%20%20%20%20%0A%20%20%20%20%20%20%20%20function%20geo_json_558e588de80041cbb0b95f8902df7d89_styler%28feature%29%20%7B%0A%20%20%20%20%20%20%20%20%20%20%20%20switch%28feature.id%29%20%7B%0A%20%20%20%20%20%20%20%20%20%20%20%20%20%20%20%20default%3A%0A%20%20%20%20%20%20%20%20%20%20%20%20%20%20%20%20%20%20%20%20return%20%7B%22color%22%3A%20%22grey%22%2C%20%22fillColor%22%3A%20%22%2300000000%22%2C%20%22opacity%22%3A%200.8%7D%3B%0A%20%20%20%20%20%20%20%20%20%20%20%20%7D%0A%20%20%20%20%20%20%20%20%7D%0A%0A%20%20%20%20%20%20%20%20function%20geo_json_558e588de80041cbb0b95f8902df7d89_onEachFeature%28feature%2C%20layer%29%20%7B%0A%20%20%20%20%20%20%20%20%20%20%20%20layer.on%28%7B%0A%20%20%20%20%20%20%20%20%20%20%20%20%7D%29%3B%0A%20%20%20%20%20%20%20%20%7D%3B%0A%20%20%20%20%20%20%20%20var%20geo_json_558e588de80041cbb0b95f8902df7d89%20%3D%20L.geoJson%28null%2C%20%7B%0A%20%20%20%20%20%20%20%20%20%20%20%20%20%20%20%20onEachFeature%3A%20geo_json_558e588de80041cbb0b95f8902df7d89_onEachFeature%2C%0A%20%20%20%20%20%20%20%20%20%20%20%20%0A%20%20%20%20%20%20%20%20%20%20%20%20%20%20%20%20style%3A%20geo_json_558e588de80041cbb0b95f8902df7d89_styler%2C%0A%20%20%20%20%20%20%20%20%7D%29%3B%0A%0A%20%20%20%20%20%20%20%20function%20geo_json_558e588de80041cbb0b95f8902df7d89_add%20%28data%29%20%7B%0A%20%20%20%20%20%20%20%20%20%20%20%20geo_json_558e588de80041cbb0b95f8902df7d89%0A%20%20%20%20%20%20%20%20%20%20%20%20%20%20%20%20.addData%28data%29%0A%20%20%20%20%20%20%20%20%20%20%20%20%20%20%20%20.addTo%28map_3362e960a2d349eba9a11488e57ff808%29%3B%0A%20%20%20%20%20%20%20%20%7D%0A%20%20%20%20%20%20%20%20%20%20%20%20geo_json_558e588de80041cbb0b95f8902df7d89_add%28%7B%22bbox%22%3A%20%5B103.98778275946682%2C%201.3515056630559457%2C%20103.99317811707652%2C%201.3562085166097972%5D%2C%20%22features%22%3A%20%5B%7B%22bbox%22%3A%20%5B103.98778275946682%2C%201.3515056630559457%2C%20103.99317811707652%2C%201.3562085166097972%5D%2C%20%22geometry%22%3A%20%7B%22coordinates%22%3A%20%5B%5B%5B103.98778275946682%2C%201.3538572643013822%5D%2C%20%5B103.9891317488312%2C%201.3562085166097972%5D%2C%20%5B103.99182943078364%2C%201.3562083403426755%5D%2C%20%5B103.99317811707652%2C%201.3538569126664584%5D%2C%20%5B103.99182912501419%2C%201.3515056630559457%5D%2C%20%5B103.98913144845761%2C%201.3515058393230674%5D%2C%20%5B103.98778275946682%2C%201.3538572643013822%5D%5D%5D%2C%20%22type%22%3A%20%22Polygon%22%7D%2C%20%22id%22%3A%20%220%22%2C%20%22properties%22%3A%20%7B%7D%2C%20%22type%22%3A%20%22Feature%22%7D%5D%2C%20%22type%22%3A%20%22FeatureCollection%22%7D%29%3B%0A%0A%20%20%20%20%20%20%20%20%0A%20%20%20%20%0A%20%20%20%20%20%20%20%20function%20geo_json_c652f5f5762f46e3860f73411fd48bae_styler%28feature%29%20%7B%0A%20%20%20%20%20%20%20%20%20%20%20%20switch%28feature.id%29%20%7B%0A%20%20%20%20%20%20%20%20%20%20%20%20%20%20%20%20default%3A%0A%20%20%20%20%20%20%20%20%20%20%20%20%20%20%20%20%20%20%20%20return%20%7B%22color%22%3A%20%22grey%22%2C%20%22fillColor%22%3A%20%22%2300000000%22%2C%20%22opacity%22%3A%200.8%7D%3B%0A%20%20%20%20%20%20%20%20%20%20%20%20%7D%0A%20%20%20%20%20%20%20%20%7D%0A%0A%20%20%20%20%20%20%20%20function%20geo_json_c652f5f5762f46e3860f73411fd48bae_onEachFeature%28feature%2C%20layer%29%20%7B%0A%20%20%20%20%20%20%20%20%20%20%20%20layer.on%28%7B%0A%20%20%20%20%20%20%20%20%20%20%20%20%7D%29%3B%0A%20%20%20%20%20%20%20%20%7D%3B%0A%20%20%20%20%20%20%20%20var%20geo_json_c652f5f5762f46e3860f73411fd48bae%20%3D%20L.geoJson%28null%2C%20%7B%0A%20%20%20%20%20%20%20%20%20%20%20%20%20%20%20%20onEachFeature%3A%20geo_json_c652f5f5762f46e3860f73411fd48bae_onEachFeature%2C%0A%20%20%20%20%20%20%20%20%20%20%20%20%0A%20%20%20%20%20%20%20%20%20%20%20%20%20%20%20%20style%3A%20geo_json_c652f5f5762f46e3860f73411fd48bae_styler%2C%0A%20%20%20%20%20%20%20%20%7D%29%3B%0A%0A%20%20%20%20%20%20%20%20function%20geo_json_c652f5f5762f46e3860f73411fd48bae_add%20%28data%29%20%7B%0A%20%20%20%20%20%20%20%20%20%20%20%20geo_json_c652f5f5762f46e3860f73411fd48bae%0A%20%20%20%20%20%20%20%20%20%20%20%20%20%20%20%20.addData%28data%29%0A%20%20%20%20%20%20%20%20%20%20%20%20%20%20%20%20.addTo%28map_3362e960a2d349eba9a11488e57ff808%29%3B%0A%20%20%20%20%20%20%20%20%7D%0A%20%20%20%20%20%20%20%20%20%20%20%20geo_json_c652f5f5762f46e3860f73411fd48bae_add%28%7B%22bbox%22%3A%20%5B103.99183066285485%2C%201.3726674338550424%2C%20103.99722606722929%2C%201.3773702928048124%5D%2C%20%22features%22%3A%20%5B%7B%22bbox%22%3A%20%5B103.99183066285485%2C%201.3726674338550424%2C%20103.99722606722929%2C%201.3773702928048124%5D%2C%20%22geometry%22%3A%20%7B%22coordinates%22%3A%20%5B%5B%5B103.99183066285485%2C%201.3750190458923157%5D%2C%20%5B103.993179671105%2C%201.3773702928048124%5D%2C%20%5B103.99587737554049%2C%201.3773701093431328%5D%2C%20%5B103.99722606722929%2C%201.3750186789688996%5D%2C%20%5B103.99587705718051%2C%201.3726674338550424%5D%2C%20%5B103.99317935814094%2C%201.372667617316722%5D%2C%20%5B103.99183066285485%2C%201.3750190458923157%5D%5D%5D%2C%20%22type%22%3A%20%22Polygon%22%7D%2C%20%22id%22%3A%20%220%22%2C%20%22properties%22%3A%20%7B%7D%2C%20%22type%22%3A%20%22Feature%22%7D%5D%2C%20%22type%22%3A%20%22FeatureCollection%22%7D%29%3B%0A%0A%20%20%20%20%20%20%20%20%0A%20%20%20%20%0A%20%20%20%20%20%20%20%20function%20geo_json_182eadfb29d44aa58ee2e6f79ca34c5e_styler%28feature%29%20%7B%0A%20%20%20%20%20%20%20%20%20%20%20%20switch%28feature.id%29%20%7B%0A%20%20%20%20%20%20%20%20%20%20%20%20%20%20%20%20default%3A%0A%20%20%20%20%20%20%20%20%20%20%20%20%20%20%20%20%20%20%20%20return%20%7B%22color%22%3A%20%22grey%22%2C%20%22fillColor%22%3A%20%22%2300000000%22%2C%20%22opacity%22%3A%200.8%7D%3B%0A%20%20%20%20%20%20%20%20%20%20%20%20%7D%0A%20%20%20%20%20%20%20%20%7D%0A%0A%20%20%20%20%20%20%20%20function%20geo_json_182eadfb29d44aa58ee2e6f79ca34c5e_onEachFeature%28feature%2C%20layer%29%20%7B%0A%20%20%20%20%20%20%20%20%20%20%20%20layer.on%28%7B%0A%20%20%20%20%20%20%20%20%20%20%20%20%7D%29%3B%0A%20%20%20%20%20%20%20%20%7D%3B%0A%20%20%20%20%20%20%20%20var%20geo_json_182eadfb29d44aa58ee2e6f79ca34c5e%20%3D%20L.geoJson%28null%2C%20%7B%0A%20%20%20%20%20%20%20%20%20%20%20%20%20%20%20%20onEachFeature%3A%20geo_json_182eadfb29d44aa58ee2e6f79ca34c5e_onEachFeature%2C%0A%20%20%20%20%20%20%20%20%20%20%20%20%0A%20%20%20%20%20%20%20%20%20%20%20%20%20%20%20%20style%3A%20geo_json_182eadfb29d44aa58ee2e6f79ca34c5e_styler%2C%0A%20%20%20%20%20%20%20%20%7D%29%3B%0A%0A%20%20%20%20%20%20%20%20function%20geo_json_182eadfb29d44aa58ee2e6f79ca34c5e_add%20%28data%29%20%7B%0A%20%20%20%20%20%20%20%20%20%20%20%20geo_json_182eadfb29d44aa58ee2e6f79ca34c5e%0A%20%20%20%20%20%20%20%20%20%20%20%20%20%20%20%20.addData%28data%29%0A%20%20%20%20%20%20%20%20%20%20%20%20%20%20%20%20.addTo%28map_3362e960a2d349eba9a11488e57ff808%29%3B%0A%20%20%20%20%20%20%20%20%7D%0A%20%20%20%20%20%20%20%20%20%20%20%20geo_json_182eadfb29d44aa58ee2e6f79ca34c5e_add%28%7B%22bbox%22%3A%20%5B103.99587737554049%2C%201.3750184910106213%2C%20104.00127278441153%2C%201.3797213535576702%5D%2C%20%22features%22%3A%20%5B%7B%22bbox%22%3A%20%5B103.99587737554049%2C%201.3750184910106213%2C%20104.00127278441153%2C%201.3797213535576702%5D%2C%20%22geometry%22%3A%20%7B%22coordinates%22%3A%20%5B%5B%5B103.99587737554049%2C%201.3773701093431328%5D%2C%20%5B103.99722638918655%2C%201.3797213535576702%5D%2C%20%5B103.99992409542074%2C%201.3797211647000154%5D%2C%20%5B104.00127278441153%2C%201.3773697325271996%5D%2C%20%5B103.99992376896682%2C%201.3750184910106213%5D%2C%20%5B103.99722606722929%2C%201.3750186789688996%5D%2C%20%5B103.99587737554049%2C%201.3773701093431328%5D%5D%5D%2C%20%22type%22%3A%20%22Polygon%22%7D%2C%20%22id%22%3A%20%220%22%2C%20%22properties%22%3A%20%7B%7D%2C%20%22type%22%3A%20%22Feature%22%7D%5D%2C%20%22type%22%3A%20%22FeatureCollection%22%7D%29%3B%0A%0A%20%20%20%20%20%20%20%20%0A%20%20%20%20%0A%20%20%20%20%20%20%20%20function%20geo_json_9305bbd0ac724bb6a4eb3da922f09115_styler%28feature%29%20%7B%0A%20%20%20%20%20%20%20%20%20%20%20%20switch%28feature.id%29%20%7B%0A%20%20%20%20%20%20%20%20%20%20%20%20%20%20%20%20default%3A%0A%20%20%20%20%20%20%20%20%20%20%20%20%20%20%20%20%20%20%20%20return%20%7B%22color%22%3A%20%22grey%22%2C%20%22fillColor%22%3A%20%22%2300000000%22%2C%20%22opacity%22%3A%200.8%7D%3B%0A%20%20%20%20%20%20%20%20%20%20%20%20%7D%0A%20%20%20%20%20%20%20%20%7D%0A%0A%20%20%20%20%20%20%20%20function%20geo_json_9305bbd0ac724bb6a4eb3da922f09115_onEachFeature%28feature%2C%20layer%29%20%7B%0A%20%20%20%20%20%20%20%20%20%20%20%20layer.on%28%7B%0A%20%20%20%20%20%20%20%20%20%20%20%20%7D%29%3B%0A%20%20%20%20%20%20%20%20%7D%3B%0A%20%20%20%20%20%20%20%20var%20geo_json_9305bbd0ac724bb6a4eb3da922f09115%20%3D%20L.geoJson%28null%2C%20%7B%0A%20%20%20%20%20%20%20%20%20%20%20%20%20%20%20%20onEachFeature%3A%20geo_json_9305bbd0ac724bb6a4eb3da922f09115_onEachFeature%2C%0A%20%20%20%20%20%20%20%20%20%20%20%20%0A%20%20%20%20%20%20%20%20%20%20%20%20%20%20%20%20style%3A%20geo_json_9305bbd0ac724bb6a4eb3da922f09115_styler%2C%0A%20%20%20%20%20%20%20%20%7D%29%3B%0A%0A%20%20%20%20%20%20%20%20function%20geo_json_9305bbd0ac724bb6a4eb3da922f09115_add%20%28data%29%20%7B%0A%20%20%20%20%20%20%20%20%20%20%20%20geo_json_9305bbd0ac724bb6a4eb3da922f09115%0A%20%20%20%20%20%20%20%20%20%20%20%20%20%20%20%20.addData%28data%29%0A%20%20%20%20%20%20%20%20%20%20%20%20%20%20%20%20.addTo%28map_3362e960a2d349eba9a11488e57ff808%29%3B%0A%20%20%20%20%20%20%20%20%7D%0A%20%20%20%20%20%20%20%20%20%20%20%20geo_json_9305bbd0ac724bb6a4eb3da922f09115_add%28%7B%22bbox%22%3A%20%5B103.99587769479984%2C%201.3797211647000154%2C%20104.00127311446272%2C%201.3844240281464408%5D%2C%20%22features%22%3A%20%5B%7B%22bbox%22%3A%20%5B103.99587769479984%2C%201.3797211647000154%2C%20104.00127311446272%2C%201.3844240281464408%5D%2C%20%22geometry%22%3A%20%7B%22coordinates%22%3A%20%5B%5B%5B103.99587769479984%2C%201.3820727839319034%5D%2C%20%5B103.99722671114387%2C%201.3844240281464408%5D%2C%20%5B103.99992442367329%2C%201.384423839288786%5D%2C%20%5B104.00127311446272%2C%201.3820724062165937%5D%2C%20%5B103.99992409542074%2C%201.3797211647000154%5D%2C%20%5B103.99722638918655%2C%201.3797213535576702%5D%2C%20%5B103.99587769479984%2C%201.3820727839319034%5D%5D%5D%2C%20%22type%22%3A%20%22Polygon%22%7D%2C%20%22id%22%3A%20%220%22%2C%20%22properties%22%3A%20%7B%7D%2C%20%22type%22%3A%20%22Feature%22%7D%5D%2C%20%22type%22%3A%20%22FeatureCollection%22%7D%29%3B%0A%0A%20%20%20%20%20%20%20%20%0A%20%20%20%20%0A%20%20%20%20%20%20%20%20function%20geo_json_c346a27d7fed43a0ae98f661e3c4299f_styler%28feature%29%20%7B%0A%20%20%20%20%20%20%20%20%20%20%20%20switch%28feature.id%29%20%7B%0A%20%20%20%20%20%20%20%20%20%20%20%20%20%20%20%20default%3A%0A%20%20%20%20%20%20%20%20%20%20%20%20%20%20%20%20%20%20%20%20return%20%7B%22color%22%3A%20%22grey%22%2C%20%22fillColor%22%3A%20%22%2300000000%22%2C%20%22opacity%22%3A%200.8%7D%3B%0A%20%20%20%20%20%20%20%20%20%20%20%20%7D%0A%20%20%20%20%20%20%20%20%7D%0A%0A%20%20%20%20%20%20%20%20function%20geo_json_c346a27d7fed43a0ae98f661e3c4299f_onEachFeature%28feature%2C%20layer%29%20%7B%0A%20%20%20%20%20%20%20%20%20%20%20%20layer.on%28%7B%0A%20%20%20%20%20%20%20%20%20%20%20%20%7D%29%3B%0A%20%20%20%20%20%20%20%20%7D%3B%0A%20%20%20%20%20%20%20%20var%20geo_json_c346a27d7fed43a0ae98f661e3c4299f%20%3D%20L.geoJson%28null%2C%20%7B%0A%20%20%20%20%20%20%20%20%20%20%20%20%20%20%20%20onEachFeature%3A%20geo_json_c346a27d7fed43a0ae98f661e3c4299f_onEachFeature%2C%0A%20%20%20%20%20%20%20%20%20%20%20%20%0A%20%20%20%20%20%20%20%20%20%20%20%20%20%20%20%20style%3A%20geo_json_c346a27d7fed43a0ae98f661e3c4299f_styler%2C%0A%20%20%20%20%20%20%20%20%7D%29%3B%0A%0A%20%20%20%20%20%20%20%20function%20geo_json_c346a27d7fed43a0ae98f661e3c4299f_add%20%28data%29%20%7B%0A%20%20%20%20%20%20%20%20%20%20%20%20geo_json_c346a27d7fed43a0ae98f661e3c4299f%0A%20%20%20%20%20%20%20%20%20%20%20%20%20%20%20%20.addData%28data%29%0A%20%20%20%20%20%20%20%20%20%20%20%20%20%20%20%20.addTo%28map_3362e960a2d349eba9a11488e57ff808%29%3B%0A%20%20%20%20%20%20%20%20%7D%0A%20%20%20%20%20%20%20%20%20%20%20%20geo_json_c346a27d7fed43a0ae98f661e3c4299f_add%28%7B%22bbox%22%3A%20%5B103.99992247394306%2C%201.353856172524388%2C%20104.00531783425072%2C%201.3585590368700764%5D%2C%20%22features%22%3A%20%5B%7B%22bbox%22%3A%20%5B103.99992247394306%2C%201.353856172524388%2C%20104.00531783425072%2C%201.3585590368700764%5D%2C%20%22geometry%22%3A%20%7B%22coordinates%22%3A%20%5B%5B%5B103.99992247394306%2C%201.3562077935548587%5D%2C%20%5B104.00127147679729%2C%201.3585590368700764%5D%2C%20%5B104.00396915964905%2C%201.358558846213839%5D%2C%20%5B104.00531783425072%2C%201.3562074131416466%5D%2C%20%5B104.00396882959785%2C%201.353856172524388%5D%2C%20%5B104.00127115214201%2C%201.3538563622813626%5D%2C%20%5B103.99992247394306%2C%201.3562077935548587%5D%5D%5D%2C%20%22type%22%3A%20%22Polygon%22%7D%2C%20%22id%22%3A%20%220%22%2C%20%22properties%22%3A%20%7B%7D%2C%20%22type%22%3A%20%22Feature%22%7D%5D%2C%20%22type%22%3A%20%22FeatureCollection%22%7D%29%3B%0A%0A%20%20%20%20%20%20%20%20%0A%20%20%20%20%0A%20%20%20%20%20%20%20%20function%20geo_json_ed0dd455609249319101a8e239db15c2_styler%28feature%29%20%7B%0A%20%20%20%20%20%20%20%20%20%20%20%20switch%28feature.id%29%20%7B%0A%20%20%20%20%20%20%20%20%20%20%20%20%20%20%20%20default%3A%0A%20%20%20%20%20%20%20%20%20%20%20%20%20%20%20%20%20%20%20%20return%20%7B%22color%22%3A%20%22grey%22%2C%20%22fillColor%22%3A%20%22%2300000000%22%2C%20%22opacity%22%3A%200.8%7D%3B%0A%20%20%20%20%20%20%20%20%20%20%20%20%7D%0A%20%20%20%20%20%20%20%20%7D%0A%0A%20%20%20%20%20%20%20%20function%20geo_json_ed0dd455609249319101a8e239db15c2_onEachFeature%28feature%2C%20layer%29%20%7B%0A%20%20%20%20%20%20%20%20%20%20%20%20layer.on%28%7B%0A%20%20%20%20%20%20%20%20%20%20%20%20%7D%29%3B%0A%20%20%20%20%20%20%20%20%7D%3B%0A%20%20%20%20%20%20%20%20var%20geo_json_ed0dd455609249319101a8e239db15c2%20%3D%20L.geoJson%28null%2C%20%7B%0A%20%20%20%20%20%20%20%20%20%20%20%20%20%20%20%20onEachFeature%3A%20geo_json_ed0dd455609249319101a8e239db15c2_onEachFeature%2C%0A%20%20%20%20%20%20%20%20%20%20%20%20%0A%20%20%20%20%20%20%20%20%20%20%20%20%20%20%20%20style%3A%20geo_json_ed0dd455609249319101a8e239db15c2_styler%2C%0A%20%20%20%20%20%20%20%20%7D%29%3B%0A%0A%20%20%20%20%20%20%20%20function%20geo_json_ed0dd455609249319101a8e239db15c2_add%20%28data%29%20%7B%0A%20%20%20%20%20%20%20%20%20%20%20%20geo_json_ed0dd455609249319101a8e239db15c2%0A%20%20%20%20%20%20%20%20%20%20%20%20%20%20%20%20.addData%28data%29%0A%20%20%20%20%20%20%20%20%20%20%20%20%20%20%20%20.addTo%28map_3362e960a2d349eba9a11488e57ff808%29%3B%0A%20%20%20%20%20%20%20%20%7D%0A%20%20%20%20%20%20%20%20%20%20%20%20geo_json_ed0dd455609249319101a8e239db15c2_add%28%7B%22bbox%22%3A%20%5B103.99992376896682%2C%201.3726668672821347%2C%20104.00531917154257%2C%201.3773697325271996%5D%2C%20%22features%22%3A%20%5B%7B%22bbox%22%3A%20%5B103.99992376896682%2C%201.3726668672821347%2C%20104.00531917154257%2C%201.3773697325271996%5D%2C%20%22geometry%22%3A%20%7B%22coordinates%22%3A%20%5B%5B%5B103.99992376896682%2C%201.3750184910106213%5D%2C%20%5B104.00127278441153%2C%201.3773697325271996%5D%2C%20%5B104.0039704879477%2C%201.3773695400722659%5D%2C%20%5B104.00531917154257%2C%201.3750181061007538%5D%2C%20%5B104.00397015429922%2C%201.3726668672821347%5D%2C%20%5B104.00127245525965%2C%201.3726670588377488%5D%2C%20%5B103.99992376896682%2C%201.3750184910106213%5D%5D%5D%2C%20%22type%22%3A%20%22Polygon%22%7D%2C%20%22id%22%3A%20%220%22%2C%20%22properties%22%3A%20%7B%7D%2C%20%22type%22%3A%20%22Feature%22%7D%5D%2C%20%22type%22%3A%20%22FeatureCollection%22%7D%29%3B%0A%0A%20%20%20%20%20%20%20%20%0A%20%20%20%20%0A%20%20%20%20%20%20%20%20function%20geo_json_54ba3424b5054e46b2e5c69d445bca8c_styler%28feature%29%20%7B%0A%20%20%20%20%20%20%20%20%20%20%20%20switch%28feature.id%29%20%7B%0A%20%20%20%20%20%20%20%20%20%20%20%20%20%20%20%20default%3A%0A%20%20%20%20%20%20%20%20%20%20%20%20%20%20%20%20%20%20%20%20return%20%7B%22color%22%3A%20%22grey%22%2C%20%22fillColor%22%3A%20%22%2300000000%22%2C%20%22opacity%22%3A%200.8%7D%3B%0A%20%20%20%20%20%20%20%20%20%20%20%20%7D%0A%20%20%20%20%20%20%20%20%7D%0A%0A%20%20%20%20%20%20%20%20function%20geo_json_54ba3424b5054e46b2e5c69d445bca8c_onEachFeature%28feature%2C%20layer%29%20%7B%0A%20%20%20%20%20%20%20%20%20%20%20%20layer.on%28%7B%0A%20%20%20%20%20%20%20%20%20%20%20%20%7D%29%3B%0A%20%20%20%20%20%20%20%20%7D%3B%0A%20%20%20%20%20%20%20%20var%20geo_json_54ba3424b5054e46b2e5c69d445bca8c%20%3D%20L.geoJson%28null%2C%20%7B%0A%20%20%20%20%20%20%20%20%20%20%20%20%20%20%20%20onEachFeature%3A%20geo_json_54ba3424b5054e46b2e5c69d445bca8c_onEachFeature%2C%0A%20%20%20%20%20%20%20%20%20%20%20%20%0A%20%20%20%20%20%20%20%20%20%20%20%20%20%20%20%20style%3A%20geo_json_54ba3424b5054e46b2e5c69d445bca8c_styler%2C%0A%20%20%20%20%20%20%20%20%7D%29%3B%0A%0A%20%20%20%20%20%20%20%20function%20geo_json_54ba3424b5054e46b2e5c69d445bca8c_add%20%28data%29%20%7B%0A%20%20%20%20%20%20%20%20%20%20%20%20geo_json_54ba3424b5054e46b2e5c69d445bca8c%0A%20%20%20%20%20%20%20%20%20%20%20%20%20%20%20%20.addData%28data%29%0A%20%20%20%20%20%20%20%20%20%20%20%20%20%20%20%20.addTo%28map_3362e960a2d349eba9a11488e57ff808%29%3B%0A%20%20%20%20%20%20%20%20%7D%0A%20%20%20%20%20%20%20%20%20%20%20%20geo_json_54ba3424b5054e46b2e5c69d445bca8c_add%28%7B%22bbox%22%3A%20%5B104.00397015429922%2C%201.3703152363590902%2C%20104.00936554968041%2C%201.3750181061007538%5D%2C%20%22features%22%3A%20%5B%7B%22bbox%22%3A%20%5B104.00397015429922%2C%201.3703152363590902%2C%20104.00936554968041%2C%201.3750181061007538%5D%2C%20%22geometry%22%3A%20%7B%22coordinates%22%3A%20%5B%5B%5B104.00397015429922%2C%201.3726668672821347%5D%2C%20%5B104.00531917154257%2C%201.3750181061007538%5D%2C%20%5B104.00801687238084%2C%201.3750179091492214%5D%2C%20%5B104.00936554968041%2C%201.3726664733790699%5D%2C%20%5B104.00801653063843%2C%201.3703152363590902%5D%2C%20%5B104.00531883519614%2C%201.3703154333106227%5D%2C%20%5B104.00397015429922%2C%201.3726668672821347%5D%5D%5D%2C%20%22type%22%3A%20%22Polygon%22%7D%2C%20%22id%22%3A%20%220%22%2C%20%22properties%22%3A%20%7B%7D%2C%20%22type%22%3A%20%22Feature%22%7D%5D%2C%20%22type%22%3A%20%22FeatureCollection%22%7D%29%3B%0A%0A%20%20%20%20%20%20%20%20%0A%3C/script%3E onload=\"this.contentDocument.open();this.contentDocument.write(    decodeURIComponent(this.getAttribute('data-html')));this.contentDocument.close();\" allowfullscreen webkitallowfullscreen mozallowfullscreen></iframe></div></div>"
      ],
      "text/plain": [
       "<folium.folium.Map at 0x1f616874508>"
      ]
     },
     "execution_count": 26,
     "metadata": {},
     "output_type": "execute_result"
    }
   ],
   "source": [
    "import folium\n",
    "from folium import plugins\n",
    "map_folium = folium.Map([1.35255,103.82580],zoom_start=11.4,control_scale=True)\n",
    "for _, r in gpd_layer.iterrows():\n",
    "    #without simplifying the representation of each borough, the map might not be displayed\n",
    "    #sim_geo = gpd.GeoSeries(r['geometry'])\n",
    "    sim_geo = gpd.GeoSeries(r['geometry']).simplify(tolerance=0.001)\n",
    "    geo_j = sim_geo.to_json()\n",
    "    geo_j = folium.GeoJson(data=geo_j,style_function=lambda x: {'fillColor': '#00000000', 'color': 'grey',\\\n",
    "                                                                \"opacity\":0.8})\n",
    "   # folium.Popup(r['BoroName']).add_to(geo_j)\n",
    "    geo_j.add_to(map_folium)\n",
    "map_folium"
   ]
  }
 ],
 "metadata": {
  "kernelspec": {
   "display_name": "Python 3",
   "language": "python",
   "name": "python3"
  },
  "language_info": {
   "codemirror_mode": {
    "name": "ipython",
    "version": 3
   },
   "file_extension": ".py",
   "mimetype": "text/x-python",
   "name": "python",
   "nbconvert_exporter": "python",
   "pygments_lexer": "ipython3",
   "version": "3.7.9"
  }
 },
 "nbformat": 4,
 "nbformat_minor": 4
}
